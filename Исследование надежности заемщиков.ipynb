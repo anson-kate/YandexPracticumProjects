{
 "cells": [
  {
   "cell_type": "markdown",
   "id": "a1dc17f6",
   "metadata": {
    "deletable": false,
    "editable": false,
    "id": "c81daeeb"
   },
   "source": [
    "# Исследование надежности заемщиков\n"
   ]
  },
  {
   "cell_type": "markdown",
   "id": "cdf61986",
   "metadata": {
    "deletable": false,
    "editable": false,
    "id": "827c20bf"
   },
   "source": [
    "Во второй части проекта вы выполните шаги 3 и 4. Их вручную проверит ревьюер.\n",
    "Чтобы вам не пришлось писать код заново для шагов 1 и 2, мы добавили авторские решения в ячейки с кодом. \n",
    "\n"
   ]
  },
  {
   "cell_type": "markdown",
   "id": "512294aa",
   "metadata": {
    "deletable": false,
    "editable": false,
    "id": "744d7639"
   },
   "source": [
    "## Откройте таблицу и изучите общую информацию о данных"
   ]
  },
  {
   "cell_type": "markdown",
   "id": "6bf22247",
   "metadata": {
    "deletable": false,
    "editable": false,
    "id": "e7a14c31"
   },
   "source": [
    "**Задание 1. Импортируйте библиотеку pandas. Считайте данные из csv-файла в датафрейм и сохраните в переменную `data`. Путь к файлу:**\n",
    "\n",
    "`/datasets/data.csv`"
   ]
  },
  {
   "cell_type": "code",
   "execution_count": 1,
   "id": "c6b497e9",
   "metadata": {
    "deletable": false,
    "id": "7bcf75c9"
   },
   "outputs": [],
   "source": [
    "import pandas as pd\n",
    "\n",
    "try:\n",
    "    data = pd.read_csv('/datasets/data.csv')\n",
    "except:\n",
    "    data = pd.read_csv('https://code.s3.yandex.net/datasets/data.csv')"
   ]
  },
  {
   "cell_type": "markdown",
   "id": "04ade79d",
   "metadata": {
    "deletable": false,
    "editable": false,
    "id": "b8038fe3"
   },
   "source": [
    "**Задание 2. Выведите первые 20 строчек датафрейма `data` на экран.**"
   ]
  },
  {
   "cell_type": "code",
   "execution_count": 2,
   "id": "8a99411a",
   "metadata": {
    "deletable": false,
    "id": "2a7cab99",
    "outputId": "1a8f3ef2-d323-4ec2-ddf7-89670b5944c4"
   },
   "outputs": [
    {
     "data": {
      "text/html": [
       "<div>\n",
       "<style scoped>\n",
       "    .dataframe tbody tr th:only-of-type {\n",
       "        vertical-align: middle;\n",
       "    }\n",
       "\n",
       "    .dataframe tbody tr th {\n",
       "        vertical-align: top;\n",
       "    }\n",
       "\n",
       "    .dataframe thead th {\n",
       "        text-align: right;\n",
       "    }\n",
       "</style>\n",
       "<table border=\"1\" class=\"dataframe\">\n",
       "  <thead>\n",
       "    <tr style=\"text-align: right;\">\n",
       "      <th></th>\n",
       "      <th>children</th>\n",
       "      <th>days_employed</th>\n",
       "      <th>dob_years</th>\n",
       "      <th>education</th>\n",
       "      <th>education_id</th>\n",
       "      <th>family_status</th>\n",
       "      <th>family_status_id</th>\n",
       "      <th>gender</th>\n",
       "      <th>income_type</th>\n",
       "      <th>debt</th>\n",
       "      <th>total_income</th>\n",
       "      <th>purpose</th>\n",
       "    </tr>\n",
       "  </thead>\n",
       "  <tbody>\n",
       "    <tr>\n",
       "      <th>0</th>\n",
       "      <td>1</td>\n",
       "      <td>-8437.673028</td>\n",
       "      <td>42</td>\n",
       "      <td>высшее</td>\n",
       "      <td>0</td>\n",
       "      <td>женат / замужем</td>\n",
       "      <td>0</td>\n",
       "      <td>F</td>\n",
       "      <td>сотрудник</td>\n",
       "      <td>0</td>\n",
       "      <td>253875.639453</td>\n",
       "      <td>покупка жилья</td>\n",
       "    </tr>\n",
       "    <tr>\n",
       "      <th>1</th>\n",
       "      <td>1</td>\n",
       "      <td>-4024.803754</td>\n",
       "      <td>36</td>\n",
       "      <td>среднее</td>\n",
       "      <td>1</td>\n",
       "      <td>женат / замужем</td>\n",
       "      <td>0</td>\n",
       "      <td>F</td>\n",
       "      <td>сотрудник</td>\n",
       "      <td>0</td>\n",
       "      <td>112080.014102</td>\n",
       "      <td>приобретение автомобиля</td>\n",
       "    </tr>\n",
       "    <tr>\n",
       "      <th>2</th>\n",
       "      <td>0</td>\n",
       "      <td>-5623.422610</td>\n",
       "      <td>33</td>\n",
       "      <td>Среднее</td>\n",
       "      <td>1</td>\n",
       "      <td>женат / замужем</td>\n",
       "      <td>0</td>\n",
       "      <td>M</td>\n",
       "      <td>сотрудник</td>\n",
       "      <td>0</td>\n",
       "      <td>145885.952297</td>\n",
       "      <td>покупка жилья</td>\n",
       "    </tr>\n",
       "    <tr>\n",
       "      <th>3</th>\n",
       "      <td>3</td>\n",
       "      <td>-4124.747207</td>\n",
       "      <td>32</td>\n",
       "      <td>среднее</td>\n",
       "      <td>1</td>\n",
       "      <td>женат / замужем</td>\n",
       "      <td>0</td>\n",
       "      <td>M</td>\n",
       "      <td>сотрудник</td>\n",
       "      <td>0</td>\n",
       "      <td>267628.550329</td>\n",
       "      <td>дополнительное образование</td>\n",
       "    </tr>\n",
       "    <tr>\n",
       "      <th>4</th>\n",
       "      <td>0</td>\n",
       "      <td>340266.072047</td>\n",
       "      <td>53</td>\n",
       "      <td>среднее</td>\n",
       "      <td>1</td>\n",
       "      <td>гражданский брак</td>\n",
       "      <td>1</td>\n",
       "      <td>F</td>\n",
       "      <td>пенсионер</td>\n",
       "      <td>0</td>\n",
       "      <td>158616.077870</td>\n",
       "      <td>сыграть свадьбу</td>\n",
       "    </tr>\n",
       "    <tr>\n",
       "      <th>5</th>\n",
       "      <td>0</td>\n",
       "      <td>-926.185831</td>\n",
       "      <td>27</td>\n",
       "      <td>высшее</td>\n",
       "      <td>0</td>\n",
       "      <td>гражданский брак</td>\n",
       "      <td>1</td>\n",
       "      <td>M</td>\n",
       "      <td>компаньон</td>\n",
       "      <td>0</td>\n",
       "      <td>255763.565419</td>\n",
       "      <td>покупка жилья</td>\n",
       "    </tr>\n",
       "    <tr>\n",
       "      <th>6</th>\n",
       "      <td>0</td>\n",
       "      <td>-2879.202052</td>\n",
       "      <td>43</td>\n",
       "      <td>высшее</td>\n",
       "      <td>0</td>\n",
       "      <td>женат / замужем</td>\n",
       "      <td>0</td>\n",
       "      <td>F</td>\n",
       "      <td>компаньон</td>\n",
       "      <td>0</td>\n",
       "      <td>240525.971920</td>\n",
       "      <td>операции с жильем</td>\n",
       "    </tr>\n",
       "    <tr>\n",
       "      <th>7</th>\n",
       "      <td>0</td>\n",
       "      <td>-152.779569</td>\n",
       "      <td>50</td>\n",
       "      <td>СРЕДНЕЕ</td>\n",
       "      <td>1</td>\n",
       "      <td>женат / замужем</td>\n",
       "      <td>0</td>\n",
       "      <td>M</td>\n",
       "      <td>сотрудник</td>\n",
       "      <td>0</td>\n",
       "      <td>135823.934197</td>\n",
       "      <td>образование</td>\n",
       "    </tr>\n",
       "    <tr>\n",
       "      <th>8</th>\n",
       "      <td>2</td>\n",
       "      <td>-6929.865299</td>\n",
       "      <td>35</td>\n",
       "      <td>ВЫСШЕЕ</td>\n",
       "      <td>0</td>\n",
       "      <td>гражданский брак</td>\n",
       "      <td>1</td>\n",
       "      <td>F</td>\n",
       "      <td>сотрудник</td>\n",
       "      <td>0</td>\n",
       "      <td>95856.832424</td>\n",
       "      <td>на проведение свадьбы</td>\n",
       "    </tr>\n",
       "    <tr>\n",
       "      <th>9</th>\n",
       "      <td>0</td>\n",
       "      <td>-2188.756445</td>\n",
       "      <td>41</td>\n",
       "      <td>среднее</td>\n",
       "      <td>1</td>\n",
       "      <td>женат / замужем</td>\n",
       "      <td>0</td>\n",
       "      <td>M</td>\n",
       "      <td>сотрудник</td>\n",
       "      <td>0</td>\n",
       "      <td>144425.938277</td>\n",
       "      <td>покупка жилья для семьи</td>\n",
       "    </tr>\n",
       "    <tr>\n",
       "      <th>10</th>\n",
       "      <td>2</td>\n",
       "      <td>-4171.483647</td>\n",
       "      <td>36</td>\n",
       "      <td>высшее</td>\n",
       "      <td>0</td>\n",
       "      <td>женат / замужем</td>\n",
       "      <td>0</td>\n",
       "      <td>M</td>\n",
       "      <td>компаньон</td>\n",
       "      <td>0</td>\n",
       "      <td>113943.491460</td>\n",
       "      <td>покупка недвижимости</td>\n",
       "    </tr>\n",
       "    <tr>\n",
       "      <th>11</th>\n",
       "      <td>0</td>\n",
       "      <td>-792.701887</td>\n",
       "      <td>40</td>\n",
       "      <td>среднее</td>\n",
       "      <td>1</td>\n",
       "      <td>женат / замужем</td>\n",
       "      <td>0</td>\n",
       "      <td>F</td>\n",
       "      <td>сотрудник</td>\n",
       "      <td>0</td>\n",
       "      <td>77069.234271</td>\n",
       "      <td>покупка коммерческой недвижимости</td>\n",
       "    </tr>\n",
       "    <tr>\n",
       "      <th>12</th>\n",
       "      <td>0</td>\n",
       "      <td>NaN</td>\n",
       "      <td>65</td>\n",
       "      <td>среднее</td>\n",
       "      <td>1</td>\n",
       "      <td>гражданский брак</td>\n",
       "      <td>1</td>\n",
       "      <td>M</td>\n",
       "      <td>пенсионер</td>\n",
       "      <td>0</td>\n",
       "      <td>NaN</td>\n",
       "      <td>сыграть свадьбу</td>\n",
       "    </tr>\n",
       "    <tr>\n",
       "      <th>13</th>\n",
       "      <td>0</td>\n",
       "      <td>-1846.641941</td>\n",
       "      <td>54</td>\n",
       "      <td>неоконченное высшее</td>\n",
       "      <td>2</td>\n",
       "      <td>женат / замужем</td>\n",
       "      <td>0</td>\n",
       "      <td>F</td>\n",
       "      <td>сотрудник</td>\n",
       "      <td>0</td>\n",
       "      <td>130458.228857</td>\n",
       "      <td>приобретение автомобиля</td>\n",
       "    </tr>\n",
       "    <tr>\n",
       "      <th>14</th>\n",
       "      <td>0</td>\n",
       "      <td>-1844.956182</td>\n",
       "      <td>56</td>\n",
       "      <td>высшее</td>\n",
       "      <td>0</td>\n",
       "      <td>гражданский брак</td>\n",
       "      <td>1</td>\n",
       "      <td>F</td>\n",
       "      <td>компаньон</td>\n",
       "      <td>1</td>\n",
       "      <td>165127.911772</td>\n",
       "      <td>покупка жилой недвижимости</td>\n",
       "    </tr>\n",
       "    <tr>\n",
       "      <th>15</th>\n",
       "      <td>1</td>\n",
       "      <td>-972.364419</td>\n",
       "      <td>26</td>\n",
       "      <td>среднее</td>\n",
       "      <td>1</td>\n",
       "      <td>женат / замужем</td>\n",
       "      <td>0</td>\n",
       "      <td>F</td>\n",
       "      <td>сотрудник</td>\n",
       "      <td>0</td>\n",
       "      <td>116820.904450</td>\n",
       "      <td>строительство собственной недвижимости</td>\n",
       "    </tr>\n",
       "    <tr>\n",
       "      <th>16</th>\n",
       "      <td>0</td>\n",
       "      <td>-1719.934226</td>\n",
       "      <td>35</td>\n",
       "      <td>среднее</td>\n",
       "      <td>1</td>\n",
       "      <td>женат / замужем</td>\n",
       "      <td>0</td>\n",
       "      <td>F</td>\n",
       "      <td>сотрудник</td>\n",
       "      <td>0</td>\n",
       "      <td>289202.704229</td>\n",
       "      <td>недвижимость</td>\n",
       "    </tr>\n",
       "    <tr>\n",
       "      <th>17</th>\n",
       "      <td>0</td>\n",
       "      <td>-2369.999720</td>\n",
       "      <td>33</td>\n",
       "      <td>высшее</td>\n",
       "      <td>0</td>\n",
       "      <td>гражданский брак</td>\n",
       "      <td>1</td>\n",
       "      <td>M</td>\n",
       "      <td>сотрудник</td>\n",
       "      <td>0</td>\n",
       "      <td>90410.586745</td>\n",
       "      <td>строительство недвижимости</td>\n",
       "    </tr>\n",
       "    <tr>\n",
       "      <th>18</th>\n",
       "      <td>0</td>\n",
       "      <td>400281.136913</td>\n",
       "      <td>53</td>\n",
       "      <td>среднее</td>\n",
       "      <td>1</td>\n",
       "      <td>вдовец / вдова</td>\n",
       "      <td>2</td>\n",
       "      <td>F</td>\n",
       "      <td>пенсионер</td>\n",
       "      <td>0</td>\n",
       "      <td>56823.777243</td>\n",
       "      <td>на покупку подержанного автомобиля</td>\n",
       "    </tr>\n",
       "    <tr>\n",
       "      <th>19</th>\n",
       "      <td>0</td>\n",
       "      <td>-10038.818549</td>\n",
       "      <td>48</td>\n",
       "      <td>СРЕДНЕЕ</td>\n",
       "      <td>1</td>\n",
       "      <td>в разводе</td>\n",
       "      <td>3</td>\n",
       "      <td>F</td>\n",
       "      <td>сотрудник</td>\n",
       "      <td>0</td>\n",
       "      <td>242831.107982</td>\n",
       "      <td>на покупку своего автомобиля</td>\n",
       "    </tr>\n",
       "  </tbody>\n",
       "</table>\n",
       "</div>"
      ],
      "text/plain": [
       "    children  days_employed  dob_years            education  education_id  \\\n",
       "0          1   -8437.673028         42               высшее             0   \n",
       "1          1   -4024.803754         36              среднее             1   \n",
       "2          0   -5623.422610         33              Среднее             1   \n",
       "3          3   -4124.747207         32              среднее             1   \n",
       "4          0  340266.072047         53              среднее             1   \n",
       "5          0    -926.185831         27               высшее             0   \n",
       "6          0   -2879.202052         43               высшее             0   \n",
       "7          0    -152.779569         50              СРЕДНЕЕ             1   \n",
       "8          2   -6929.865299         35               ВЫСШЕЕ             0   \n",
       "9          0   -2188.756445         41              среднее             1   \n",
       "10         2   -4171.483647         36               высшее             0   \n",
       "11         0    -792.701887         40              среднее             1   \n",
       "12         0            NaN         65              среднее             1   \n",
       "13         0   -1846.641941         54  неоконченное высшее             2   \n",
       "14         0   -1844.956182         56               высшее             0   \n",
       "15         1    -972.364419         26              среднее             1   \n",
       "16         0   -1719.934226         35              среднее             1   \n",
       "17         0   -2369.999720         33               высшее             0   \n",
       "18         0  400281.136913         53              среднее             1   \n",
       "19         0  -10038.818549         48              СРЕДНЕЕ             1   \n",
       "\n",
       "       family_status  family_status_id gender income_type  debt  \\\n",
       "0    женат / замужем                 0      F   сотрудник     0   \n",
       "1    женат / замужем                 0      F   сотрудник     0   \n",
       "2    женат / замужем                 0      M   сотрудник     0   \n",
       "3    женат / замужем                 0      M   сотрудник     0   \n",
       "4   гражданский брак                 1      F   пенсионер     0   \n",
       "5   гражданский брак                 1      M   компаньон     0   \n",
       "6    женат / замужем                 0      F   компаньон     0   \n",
       "7    женат / замужем                 0      M   сотрудник     0   \n",
       "8   гражданский брак                 1      F   сотрудник     0   \n",
       "9    женат / замужем                 0      M   сотрудник     0   \n",
       "10   женат / замужем                 0      M   компаньон     0   \n",
       "11   женат / замужем                 0      F   сотрудник     0   \n",
       "12  гражданский брак                 1      M   пенсионер     0   \n",
       "13   женат / замужем                 0      F   сотрудник     0   \n",
       "14  гражданский брак                 1      F   компаньон     1   \n",
       "15   женат / замужем                 0      F   сотрудник     0   \n",
       "16   женат / замужем                 0      F   сотрудник     0   \n",
       "17  гражданский брак                 1      M   сотрудник     0   \n",
       "18    вдовец / вдова                 2      F   пенсионер     0   \n",
       "19         в разводе                 3      F   сотрудник     0   \n",
       "\n",
       "     total_income                                 purpose  \n",
       "0   253875.639453                           покупка жилья  \n",
       "1   112080.014102                 приобретение автомобиля  \n",
       "2   145885.952297                           покупка жилья  \n",
       "3   267628.550329              дополнительное образование  \n",
       "4   158616.077870                         сыграть свадьбу  \n",
       "5   255763.565419                           покупка жилья  \n",
       "6   240525.971920                       операции с жильем  \n",
       "7   135823.934197                             образование  \n",
       "8    95856.832424                   на проведение свадьбы  \n",
       "9   144425.938277                 покупка жилья для семьи  \n",
       "10  113943.491460                    покупка недвижимости  \n",
       "11   77069.234271       покупка коммерческой недвижимости  \n",
       "12            NaN                         сыграть свадьбу  \n",
       "13  130458.228857                 приобретение автомобиля  \n",
       "14  165127.911772              покупка жилой недвижимости  \n",
       "15  116820.904450  строительство собственной недвижимости  \n",
       "16  289202.704229                            недвижимость  \n",
       "17   90410.586745              строительство недвижимости  \n",
       "18   56823.777243      на покупку подержанного автомобиля  \n",
       "19  242831.107982            на покупку своего автомобиля  "
      ]
     },
     "execution_count": 2,
     "metadata": {},
     "output_type": "execute_result"
    }
   ],
   "source": [
    "data.head(20)"
   ]
  },
  {
   "cell_type": "markdown",
   "id": "9389760f",
   "metadata": {
    "deletable": false,
    "editable": false,
    "id": "1c12e233"
   },
   "source": [
    "**Задание 3. Выведите основную информацию о датафрейме с помощью метода `info()`.**"
   ]
  },
  {
   "cell_type": "code",
   "execution_count": 3,
   "id": "fba8dea7",
   "metadata": {
    "deletable": false,
    "id": "2b757bca",
    "outputId": "15376089-8dad-46c9-b520-c05248d43158"
   },
   "outputs": [
    {
     "name": "stdout",
     "output_type": "stream",
     "text": [
      "<class 'pandas.core.frame.DataFrame'>\n",
      "RangeIndex: 21525 entries, 0 to 21524\n",
      "Data columns (total 12 columns):\n",
      " #   Column            Non-Null Count  Dtype  \n",
      "---  ------            --------------  -----  \n",
      " 0   children          21525 non-null  int64  \n",
      " 1   days_employed     19351 non-null  float64\n",
      " 2   dob_years         21525 non-null  int64  \n",
      " 3   education         21525 non-null  object \n",
      " 4   education_id      21525 non-null  int64  \n",
      " 5   family_status     21525 non-null  object \n",
      " 6   family_status_id  21525 non-null  int64  \n",
      " 7   gender            21525 non-null  object \n",
      " 8   income_type       21525 non-null  object \n",
      " 9   debt              21525 non-null  int64  \n",
      " 10  total_income      19351 non-null  float64\n",
      " 11  purpose           21525 non-null  object \n",
      "dtypes: float64(2), int64(5), object(5)\n",
      "memory usage: 2.0+ MB\n"
     ]
    }
   ],
   "source": [
    "data.info()"
   ]
  },
  {
   "cell_type": "markdown",
   "id": "1c0dc879",
   "metadata": {
    "deletable": false,
    "editable": false,
    "id": "333ec665"
   },
   "source": [
    "## Предобработка данных"
   ]
  },
  {
   "cell_type": "markdown",
   "id": "3d18d5fb",
   "metadata": {
    "deletable": false,
    "editable": false,
    "id": "02d92d53"
   },
   "source": [
    "### Удаление пропусков"
   ]
  },
  {
   "cell_type": "markdown",
   "id": "b8c0f9b1",
   "metadata": {
    "deletable": false,
    "editable": false,
    "id": "cd84967c"
   },
   "source": [
    "**Задание 4. Выведите количество пропущенных значений для каждого столбца. Используйте комбинацию двух методов.**"
   ]
  },
  {
   "cell_type": "code",
   "execution_count": 4,
   "id": "546843d3",
   "metadata": {
    "deletable": false,
    "id": "7f9b2309",
    "outputId": "81f4d817-781c-465c-ed15-91ce4446810d"
   },
   "outputs": [
    {
     "data": {
      "text/plain": [
       "children               0\n",
       "days_employed       2174\n",
       "dob_years              0\n",
       "education              0\n",
       "education_id           0\n",
       "family_status          0\n",
       "family_status_id       0\n",
       "gender                 0\n",
       "income_type            0\n",
       "debt                   0\n",
       "total_income        2174\n",
       "purpose                0\n",
       "dtype: int64"
      ]
     },
     "execution_count": 4,
     "metadata": {},
     "output_type": "execute_result"
    }
   ],
   "source": [
    "data.isna().sum()"
   ]
  },
  {
   "cell_type": "markdown",
   "id": "dc2072f9",
   "metadata": {
    "deletable": false,
    "editable": false,
    "id": "db86e27b"
   },
   "source": [
    "**Задание 5. В двух столбцах есть пропущенные значения. Один из них — `days_employed`. Пропуски в этом столбце вы обработаете на следующем этапе. Другой столбец с пропущенными значениями — `total_income` — хранит данные о доходах. На сумму дохода сильнее всего влияет тип занятости, поэтому заполнить пропуски в этом столбце нужно медианным значением по каждому типу из столбца `income_type`. Например, у человека с типом занятости `сотрудник` пропуск в столбце `total_income` должен быть заполнен медианным доходом среди всех записей с тем же типом.**"
   ]
  },
  {
   "cell_type": "code",
   "execution_count": 5,
   "id": "f28013bf",
   "metadata": {
    "deletable": false,
    "id": "42006a93"
   },
   "outputs": [],
   "source": [
    "for t in data['income_type'].unique():\n",
    "    data.loc[(data['income_type'] == t) & (data['total_income'].isna()), 'total_income'] = \\\n",
    "    data.loc[(data['income_type'] == t), 'total_income'].median()"
   ]
  },
  {
   "cell_type": "markdown",
   "id": "5575cd48",
   "metadata": {
    "deletable": false,
    "editable": false,
    "id": "89da5ece"
   },
   "source": [
    "### Обработка аномальных значений"
   ]
  },
  {
   "cell_type": "markdown",
   "id": "32d2a458",
   "metadata": {
    "deletable": false,
    "editable": false,
    "id": "57964554"
   },
   "source": [
    "**Задание 6. В данных могут встречаться артефакты (аномалии) — значения, которые не отражают действительность и появились по какой-то ошибке. таким артефактом будет отрицательное количество дней трудового стажа в столбце `days_employed`. Для реальных данных это нормально. Обработайте значения в этом столбце: замените все отрицательные значения положительными с помощью метода `abs()`.**"
   ]
  },
  {
   "cell_type": "code",
   "execution_count": 6,
   "id": "909190ae",
   "metadata": {
    "deletable": false,
    "id": "f6f055bf"
   },
   "outputs": [],
   "source": [
    "data['days_employed'] = data['days_employed'].abs()"
   ]
  },
  {
   "cell_type": "markdown",
   "id": "afffc701",
   "metadata": {
    "deletable": false,
    "editable": false,
    "id": "6107dd2f"
   },
   "source": [
    "**Задание 7. Для каждого типа занятости выведите медианное значение трудового стажа `days_employed` в днях.**"
   ]
  },
  {
   "cell_type": "code",
   "execution_count": 7,
   "id": "1e7be415",
   "metadata": {
    "deletable": false,
    "id": "85a5faf6",
    "outputId": "801ef80e-522b-4668-f34e-565af7432bcf"
   },
   "outputs": [
    {
     "data": {
      "text/plain": [
       "income_type\n",
       "безработный        366413.652744\n",
       "в декрете            3296.759962\n",
       "госслужащий          2689.368353\n",
       "компаньон            1547.382223\n",
       "пенсионер          365213.306266\n",
       "предприниматель       520.848083\n",
       "сотрудник            1574.202821\n",
       "студент               578.751554\n",
       "Name: days_employed, dtype: float64"
      ]
     },
     "execution_count": 7,
     "metadata": {},
     "output_type": "execute_result"
    }
   ],
   "source": [
    "data.groupby('income_type')['days_employed'].agg('median')"
   ]
  },
  {
   "cell_type": "markdown",
   "id": "c7951515",
   "metadata": {
    "deletable": false,
    "editable": false,
    "id": "38d1a030"
   },
   "source": [
    "У двух типов (безработные и пенсионеры) получатся аномально большие значения. Исправить такие значения сложно, поэтому оставьте их как есть. Тем более этот столбец не понадобится вам для исследования."
   ]
  },
  {
   "cell_type": "markdown",
   "id": "3ea81391",
   "metadata": {
    "deletable": false,
    "editable": false,
    "id": "d8a9f147"
   },
   "source": [
    "**Задание 8. Выведите перечень уникальных значений столбца `children`.**"
   ]
  },
  {
   "cell_type": "code",
   "execution_count": 8,
   "id": "2d5aa814",
   "metadata": {
    "deletable": false,
    "id": "ef5056eb",
    "outputId": "6975b15c-7f95-4697-d16d-a0c79b657b03"
   },
   "outputs": [
    {
     "data": {
      "text/plain": [
       "array([ 1,  0,  3,  2, -1,  4, 20,  5], dtype=int64)"
      ]
     },
     "execution_count": 8,
     "metadata": {},
     "output_type": "execute_result"
    }
   ],
   "source": [
    "data['children'].unique()"
   ]
  },
  {
   "cell_type": "markdown",
   "id": "33f2c95f",
   "metadata": {
    "deletable": false,
    "editable": false,
    "id": "40b9ebf2"
   },
   "source": [
    "**Задание 9. В столбце `children` есть два аномальных значения. Удалите строки, в которых встречаются такие аномальные значения из датафрейма `data`.**"
   ]
  },
  {
   "cell_type": "code",
   "execution_count": 9,
   "id": "c87a9b2b",
   "metadata": {
    "deletable": false,
    "id": "3ff9801d"
   },
   "outputs": [],
   "source": [
    "data = data[(data['children'] != -1) & (data['children'] != 20)]"
   ]
  },
  {
   "cell_type": "markdown",
   "id": "e310760f",
   "metadata": {
    "deletable": false,
    "editable": false,
    "id": "bbc4d0ce"
   },
   "source": [
    "**Задание 10. Ещё раз выведите перечень уникальных значений столбца `children`, чтобы убедиться, что артефакты удалены.**"
   ]
  },
  {
   "cell_type": "code",
   "execution_count": 10,
   "id": "6b68037d",
   "metadata": {
    "deletable": false,
    "id": "ad4fa8b7",
    "outputId": "b2097101-d49d-44d9-901b-32a65c9463d1"
   },
   "outputs": [
    {
     "data": {
      "text/plain": [
       "array([1, 0, 3, 2, 4, 5], dtype=int64)"
      ]
     },
     "execution_count": 10,
     "metadata": {},
     "output_type": "execute_result"
    }
   ],
   "source": [
    "data['children'].unique()"
   ]
  },
  {
   "cell_type": "markdown",
   "id": "40ed7ed9",
   "metadata": {
    "deletable": false,
    "editable": false,
    "id": "75440b63"
   },
   "source": [
    "### Удаление пропусков (продолжение)"
   ]
  },
  {
   "cell_type": "markdown",
   "id": "8691ac94",
   "metadata": {
    "deletable": false,
    "editable": false,
    "id": "f4ea573f"
   },
   "source": [
    "**Задание 11. Заполните пропуски в столбце `days_employed` медианными значениями по каждого типа занятости `income_type`.**"
   ]
  },
  {
   "cell_type": "code",
   "execution_count": 11,
   "id": "5c90b468",
   "metadata": {
    "deletable": false,
    "id": "af6b1a7e"
   },
   "outputs": [],
   "source": [
    "for t in data['income_type'].unique():\n",
    "    data.loc[(data['income_type'] == t) & (data['days_employed'].isna()), 'days_employed'] = \\\n",
    "    data.loc[(data['income_type'] == t), 'days_employed'].median()"
   ]
  },
  {
   "cell_type": "markdown",
   "id": "958b9d57",
   "metadata": {
    "deletable": false,
    "editable": false,
    "id": "2753f40d"
   },
   "source": [
    "**Задание 12. Убедитесь, что все пропуски заполнены. Проверьте себя и ещё раз выведите количество пропущенных значений для каждого столбца с помощью двух методов.**"
   ]
  },
  {
   "cell_type": "code",
   "execution_count": 12,
   "id": "772556c4",
   "metadata": {
    "deletable": false,
    "id": "55f78bc2",
    "outputId": "8da1e4e1-358e-4e87-98c9-f261bce0a7b2"
   },
   "outputs": [
    {
     "data": {
      "text/plain": [
       "children            0\n",
       "days_employed       0\n",
       "dob_years           0\n",
       "education           0\n",
       "education_id        0\n",
       "family_status       0\n",
       "family_status_id    0\n",
       "gender              0\n",
       "income_type         0\n",
       "debt                0\n",
       "total_income        0\n",
       "purpose             0\n",
       "dtype: int64"
      ]
     },
     "execution_count": 12,
     "metadata": {},
     "output_type": "execute_result"
    }
   ],
   "source": [
    "data.isna().sum()"
   ]
  },
  {
   "cell_type": "markdown",
   "id": "f571ec4e",
   "metadata": {
    "deletable": false,
    "editable": false,
    "id": "ddc81e43"
   },
   "source": [
    "### Изменение типов данных"
   ]
  },
  {
   "cell_type": "markdown",
   "id": "6dd75934",
   "metadata": {
    "deletable": false,
    "editable": false,
    "id": "42d19d24"
   },
   "source": [
    "**Задание 13. Замените вещественный тип данных в столбце `total_income` на целочисленный с помощью метода `astype()`.**"
   ]
  },
  {
   "cell_type": "code",
   "execution_count": 13,
   "id": "1e6a3d20",
   "metadata": {
    "deletable": false,
    "id": "920b65ad"
   },
   "outputs": [],
   "source": [
    "data['total_income'] = data['total_income'].astype(int)"
   ]
  },
  {
   "cell_type": "markdown",
   "id": "e86a0190",
   "metadata": {
    "deletable": false,
    "editable": false,
    "id": "80c420ba"
   },
   "source": [
    "### Обработка дубликатов"
   ]
  },
  {
   "cell_type": "markdown",
   "id": "636e4145",
   "metadata": {
    "deletable": false,
    "editable": false
   },
   "source": [
    "**Задание 14. Обработайте неявные дубликаты в столбце `education`. В этом столбце есть одни и те же значения, но записанные по-разному: с использованием заглавных и строчных букв. Приведите их к нижнему регистру.**"
   ]
  },
  {
   "cell_type": "code",
   "execution_count": 14,
   "id": "37d52f2d",
   "metadata": {
    "deletable": false
   },
   "outputs": [],
   "source": [
    "data['education'] = data['education'].str.lower()"
   ]
  },
  {
   "cell_type": "markdown",
   "id": "4c48b298",
   "metadata": {
    "deletable": false,
    "editable": false,
    "id": "dc587695"
   },
   "source": [
    "**Задание 15. Выведите на экран количество строк-дубликатов в данных. Если такие строки присутствуют, удалите их.**"
   ]
  },
  {
   "cell_type": "code",
   "execution_count": 15,
   "id": "ce2f8479",
   "metadata": {
    "deletable": false,
    "id": "3ee445e4",
    "outputId": "9684deba-1934-42d1-99e1-cda61740f822"
   },
   "outputs": [
    {
     "data": {
      "text/plain": [
       "71"
      ]
     },
     "execution_count": 15,
     "metadata": {},
     "output_type": "execute_result"
    }
   ],
   "source": [
    "data.duplicated().sum()"
   ]
  },
  {
   "cell_type": "code",
   "execution_count": 16,
   "id": "80ed8c42",
   "metadata": {
    "deletable": false,
    "id": "8575fe05"
   },
   "outputs": [],
   "source": [
    "data = data.drop_duplicates()"
   ]
  },
  {
   "cell_type": "markdown",
   "id": "5b2f4b14",
   "metadata": {
    "deletable": false,
    "editable": false,
    "id": "9904cf55"
   },
   "source": [
    "### Категоризация данных"
   ]
  },
  {
   "cell_type": "markdown",
   "id": "c8928320",
   "metadata": {
    "deletable": false,
    "editable": false,
    "id": "72fcc8a2"
   },
   "source": [
    "**Задание 16. На основании диапазонов, указанных ниже, создайте в датафрейме `data` столбец `total_income_category` с категориями:**\n",
    "\n",
    "- 0–30000 — `'E'`;\n",
    "- 30001–50000 — `'D'`;\n",
    "- 50001–200000 — `'C'`;\n",
    "- 200001–1000000 — `'B'`;\n",
    "- 1000001 и выше — `'A'`.\n",
    "\n",
    "\n",
    "**Например, кредитополучателю с доходом 25000 нужно назначить категорию `'E'`, а клиенту, получающему 235000, — `'B'`. Используйте собственную функцию с именем `categorize_income()` и метод `apply()`.**"
   ]
  },
  {
   "cell_type": "code",
   "execution_count": 17,
   "id": "010b7776",
   "metadata": {
    "deletable": false,
    "id": "e1771346"
   },
   "outputs": [],
   "source": [
    "def categorize_income(income):\n",
    "    try:\n",
    "        if 0 <= income <= 30000:\n",
    "            return 'E'\n",
    "        elif 30001 <= income <= 50000:\n",
    "            return 'D'\n",
    "        elif 50001 <= income <= 200000:\n",
    "            return 'C'\n",
    "        elif 200001 <= income <= 1000000:\n",
    "            return 'B'\n",
    "        elif income >= 1000001:\n",
    "            return 'A'\n",
    "    except:\n",
    "        pass"
   ]
  },
  {
   "cell_type": "code",
   "execution_count": 18,
   "id": "5e24967f",
   "metadata": {
    "deletable": false,
    "id": "d5f3586d"
   },
   "outputs": [],
   "source": [
    "data['total_income_category'] = data['total_income'].apply(categorize_income)"
   ]
  },
  {
   "cell_type": "markdown",
   "id": "88e45b31",
   "metadata": {
    "deletable": false,
    "editable": false,
    "id": "dde49b5c"
   },
   "source": [
    "**Задание 17. Выведите на экран перечень уникальных целей взятия кредита из столбца `purpose`.**"
   ]
  },
  {
   "cell_type": "code",
   "execution_count": 19,
   "id": "fea60b9e",
   "metadata": {
    "deletable": false,
    "id": "f67ce9b3",
    "outputId": "673c12d9-7d7e-4ae0-9812-c622c89dd244"
   },
   "outputs": [
    {
     "data": {
      "text/plain": [
       "array(['покупка жилья', 'приобретение автомобиля',\n",
       "       'дополнительное образование', 'сыграть свадьбу',\n",
       "       'операции с жильем', 'образование', 'на проведение свадьбы',\n",
       "       'покупка жилья для семьи', 'покупка недвижимости',\n",
       "       'покупка коммерческой недвижимости', 'покупка жилой недвижимости',\n",
       "       'строительство собственной недвижимости', 'недвижимость',\n",
       "       'строительство недвижимости', 'на покупку подержанного автомобиля',\n",
       "       'на покупку своего автомобиля',\n",
       "       'операции с коммерческой недвижимостью',\n",
       "       'строительство жилой недвижимости', 'жилье',\n",
       "       'операции со своей недвижимостью', 'автомобили',\n",
       "       'заняться образованием', 'сделка с подержанным автомобилем',\n",
       "       'получение образования', 'автомобиль', 'свадьба',\n",
       "       'получение дополнительного образования', 'покупка своего жилья',\n",
       "       'операции с недвижимостью', 'получение высшего образования',\n",
       "       'свой автомобиль', 'сделка с автомобилем',\n",
       "       'профильное образование', 'высшее образование',\n",
       "       'покупка жилья для сдачи', 'на покупку автомобиля', 'ремонт жилью',\n",
       "       'заняться высшим образованием'], dtype=object)"
      ]
     },
     "execution_count": 19,
     "metadata": {},
     "output_type": "execute_result"
    }
   ],
   "source": [
    "data['purpose'].unique()"
   ]
  },
  {
   "cell_type": "markdown",
   "id": "a98c9c9a",
   "metadata": {
    "deletable": false,
    "editable": false,
    "id": "85d0aef0"
   },
   "source": [
    "**Задание 18. Создайте функцию, которая на основании данных из столбца `purpose` сформирует новый столбец `purpose_category`, в который войдут следующие категории:**\n",
    "\n",
    "- `'операции с автомобилем'`,\n",
    "- `'операции с недвижимостью'`,\n",
    "- `'проведение свадьбы'`,\n",
    "- `'получение образования'`.\n",
    "\n",
    "**Например, если в столбце `purpose` находится подстрока `'на покупку автомобиля'`, то в столбце `purpose_category` должна появиться строка `'операции с автомобилем'`.**\n",
    "\n",
    "**Используйте собственную функцию с именем `categorize_purpose()` и метод `apply()`. Изучите данные в столбце `purpose` и определите, какие подстроки помогут вам правильно определить категорию.**"
   ]
  },
  {
   "cell_type": "code",
   "execution_count": 20,
   "id": "19f36c47",
   "metadata": {
    "deletable": false,
    "id": "e149fab4"
   },
   "outputs": [],
   "source": [
    "def categorize_purpose(row):\n",
    "    try:\n",
    "        if 'автом' in row:\n",
    "            return 'операции с автомобилем'\n",
    "        elif 'жил' in row or 'недвиж' in row:\n",
    "            return 'операции с недвижимостью'\n",
    "        elif 'свад' in row:\n",
    "            return 'проведение свадьбы'\n",
    "        elif 'образов' in row:\n",
    "            return 'получение образования'\n",
    "    except:\n",
    "        return 'нет категории'"
   ]
  },
  {
   "cell_type": "code",
   "execution_count": 21,
   "id": "089d102c",
   "metadata": {
    "deletable": false,
    "id": "bf36e69b"
   },
   "outputs": [],
   "source": [
    "data['purpose_category'] = data['purpose'].apply(categorize_purpose)"
   ]
  },
  {
   "cell_type": "markdown",
   "id": "6653136f",
   "metadata": {
    "deletable": false,
    "editable": false,
    "id": "09b242bf"
   },
   "source": [
    "### Шаг 3. Исследуйте данные и ответьте на вопросы"
   ]
  },
  {
   "cell_type": "markdown",
   "id": "2f2020c1",
   "metadata": {},
   "source": [
    "Теперь когда преобработка данных проведена проверим гипотезы для построении модели кредитного скоринга.\n",
    "Согласно гипотезе возврат кредита в срок зависит от:\n",
    "- количества детей;\n",
    "- семейного положения;\n",
    "- уровня дохода;\n",
    "- цели кредита."
   ]
  },
  {
   "cell_type": "markdown",
   "id": "a5640bb5",
   "metadata": {
    "deletable": false,
    "editable": false,
    "id": "c5d66278"
   },
   "source": [
    "#### 3.1 Есть ли зависимость между количеством детей и возвратом кредита в срок?"
   ]
  },
  {
   "cell_type": "code",
   "execution_count": 22,
   "id": "07408768",
   "metadata": {
    "deletable": false,
    "id": "2cacfc4a"
   },
   "outputs": [
    {
     "name": "stdout",
     "output_type": "stream",
     "text": [
      "          Всего кредитополучателей  Всего должников  Доля должников в %\n",
      "children                                                               \n",
      "5                                9                0                0.00\n",
      "0                            14091             1063                7.54\n",
      "3                              330               27                8.18\n",
      "1                             4808              444                9.23\n",
      "2                             2052              194                9.45\n",
      "4                               41                4                9.76\n"
     ]
    }
   ],
   "source": [
    "pivot_children = data.pivot_table(index=['children'], values='debt', aggfunc={'count','sum'})\n",
    "pivot_children.columns = ['Всего кредитополучателей', 'Всего должников']\n",
    "pivot_children['Доля должников в %'] = round(pivot_children['Всего должников'] / pivot_children['Всего кредитополучателей']*100,2)\n",
    "print(pivot_children.sort_values('Доля должников в %'))"
   ]
  },
  {
   "cell_type": "code",
   "execution_count": 27,
   "id": "b2f2aa3e",
   "metadata": {},
   "outputs": [
    {
     "data": {
      "image/png": "[encoded data removed]",
      "text/plain": [
       "<Figure size 1080x504 with 1 Axes>"
      ]
     },
     "metadata": {
      "needs_background": "light"
     },
     "output_type": "display_data"
    }
   ],
   "source": [
    "import seaborn as sns\n",
    "import matplotlib.pyplot as plt\n",
    "\n",
    "plt.figure(figsize=(15,7))\n",
    "sns.barplot(x=pivot_children.index, y=pivot_children['Доля должников в %'], color='steelblue')\n",
    "plt.title('Зависимость между количеством детей и возвратом кредита в срок')\n",
    "plt.show()"
   ]
  },
  {
   "cell_type": "markdown",
   "id": "c0a87b59",
   "metadata": {
    "deletable": false,
    "id": "3a6b99ec"
   },
   "source": [
    "**Вывод:** Как видно из представленных данных большой корреляции между количеством детей и возвратом креди в срок не наблюдается. Наибольшую долю (9,76%) кредитополучателей, допускающих просрочку кредита составляют семьи с 4 детьми, что может быть вызвано высокой финансовой нагрузкой. Семьи, где 1 или 2 ребенка допускают просрочку чуть реже (9,23% и 9,45% соответсвенно). Доля росрочки кредита у семей с 3 детьми меньше(8,18%), возможно данная категория семей более дисциплинированна. Но в то же время семьи без детей также допускают проску не многим реже (7,54%). Что свидетельствует о том, что наличие детей неглавенствующий фактор, влияющий на возврат кредита в срок. \n",
    "    На общем фоне выделяютя семьи с 5 детьми, их дося составила 0%. Но как видим и кредитополучателей среди данной категории составила всего 9. Возможно таким семьям в связи с высокой финансовой нагрузкой не выдают кредит, а те семьи, что его получили имеют достаточный доход на 1 члена семьи и имеют возможность оплачивать все в срок."
   ]
  },
  {
   "cell_type": "markdown",
   "id": "75d5027e",
   "metadata": {
    "deletable": false,
    "editable": false,
    "id": "97be82ca"
   },
   "source": [
    "#### 3.2 Есть ли зависимость между семейным положением и возвратом кредита в срок?"
   ]
  },
  {
   "cell_type": "code",
   "execution_count": null,
   "id": "f16ab3a6",
   "metadata": {
    "deletable": false,
    "id": "dc3f7ee8"
   },
   "outputs": [],
   "source": [
    "pivot_marriage = data.pivot_table(index=['family_status'], values='debt', aggfunc={'count','sum'})\n",
    "pivot_marriage.columns = ['Всего заемщиков', 'Всего должников']\n",
    "pivot_marriage['Доля должников, %'] = round(pivot_marriage['Всего должников'] / pivot_marriage['Всего заемщиков']*100,2)\n",
    "print(pivot_marriage.sort_values('Доля должников, %'))"
   ]
  },
  {
   "cell_type": "code",
   "execution_count": null,
   "id": "3eaee352",
   "metadata": {},
   "outputs": [],
   "source": [
    "pivot_marriage = pivot_marriage.sort_values('Доля должников, %')\n",
    "sns.barplot(x=pivot_marriage['Доля должников, %'], y=pivot_marriage.index, color='steelblue')"
   ]
  },
  {
   "cell_type": "markdown",
   "id": "8d9f7e05",
   "metadata": {
    "deletable": false,
    "id": "1cef7837"
   },
   "source": [
    "**Вывод:** Прослеживается некоторая зависимость между возвратом кредита в срок и семейным положением заемщиков.Так наибольшую долю заемщиков, не уплачивающих кредит вовремя составляют люди не состоящие в браке или же люди в гражданском браке (9,76% и 9,31%). Вероятно это вызвано тем, что финансовое бремя у данной категории заемщиков не распределено или ложится только на одного человека. В то время как у заемщиков, состоящих в браке доля невозвратных кредитов составляет 7,56%. Причинами невозврата у этой категории могут быть различными как наличие детей и большая финансовая нагрузка, недостаточная дисциплина в силу возраста или низкий доход. В людей, находящихся в разводе доля просрочки чуть ниже (7,06%). Возможно из-за высокой ответственности или достаточных уровнем дохода, а может быть часть финансовых обязательств бывшие супруги разделили после брака. Самая высокая дисциплина наблюдается у вдовствущей категории (6,62%). Причиной этому может быть более старший возраст и финансовая дисциплина."
   ]
  },
  {
   "cell_type": "markdown",
   "id": "cc0c44e6",
   "metadata": {
    "deletable": false,
    "editable": false,
    "id": "1e8b2fca"
   },
   "source": [
    "#### 3.3 Есть ли зависимость между уровнем дохода и возвратом кредита в срок?"
   ]
  },
  {
   "cell_type": "markdown",
   "id": "0c4bceaa",
   "metadata": {},
   "source": [
    "Ранее все заемщики были разделены по категориям:\n",
    "\n",
    "* 0–30000 — 'E';\n",
    "* 30001–50000 — 'D';\n",
    "* 50001–200000 — 'C';\n",
    "* 200001–1000000 — 'B';\n",
    "* 1000001 и выше — 'A'.\n",
    "\n",
    "Рассмотрим данные исходя из этого выделения категорий\n"
   ]
  },
  {
   "cell_type": "code",
   "execution_count": null,
   "id": "b9702d3b",
   "metadata": {
    "deletable": false,
    "id": "cd7e3720"
   },
   "outputs": [],
   "source": [
    "pivot_income = data.pivot_table(index=['total_income_category'], values='debt', aggfunc={'count','sum'})\n",
    "pivot_income.columns = ['Всего заемщиков', 'Всего должников']\n",
    "pivot_income['Доля должников, %'] = round(pivot_income['Всего должников'] / pivot_income['Всего заемщиков']*100,2)\n",
    "print(pivot_income.sort_values('Доля должников, %'))"
   ]
  },
  {
   "cell_type": "code",
   "execution_count": null,
   "id": "55f9e9d5",
   "metadata": {},
   "outputs": [],
   "source": [
    "sns.barplot(x=pivot_income.index, y=pivot_income['Доля должников, %'], color='steelblue')"
   ]
  },
  {
   "cell_type": "markdown",
   "id": "f7b984bd",
   "metadata": {
    "deletable": false,
    "id": "e8593def"
   },
   "source": [
    "**Вывод:** Самая высокая доля заемщиков, имеющих задолженность по кредиту имеет доход до 30 тыс. рублей (9,09%) и вероятна связана с низким уровнем дохода. Заемщики с доходом от 50 до 200 тыс. руб. допускают не возврат кредита в срок (8,5%). Это самая большая категория заемщиков и вероятно в нее входит большая доля семей с детьми, возможно имеющих несколько кредитов или иных финансовых обязательств. Заемщики, имеющие доход более 1 млн., несмотря на высокий уровень заработка составляют 8% среди всех должников. С доходом от 200 тыс. руб до 1 млн. доля заемщиков, просрочивших оплату по кредиту меньше на чуть менее 1 проценного пункта (7,06%). Самая низкая просрочка по кредиту наблюдается у людей с доходом 30-50 тыс. руб.(6,02%). Это может быть связано с тем, что возможные штрафы по невыплате кредита в срок будут неподъемны для данной категории заемщиков."
   ]
  },
  {
   "cell_type": "markdown",
   "id": "b20ce7b9",
   "metadata": {
    "deletable": false,
    "editable": false,
    "id": "99ecbd1f"
   },
   "source": [
    "#### 3.4 Как разные цели кредита влияют на его возврат в срок?"
   ]
  },
  {
   "cell_type": "code",
   "execution_count": null,
   "id": "e41d5057",
   "metadata": {
    "deletable": false,
    "id": "2b687290"
   },
   "outputs": [],
   "source": [
    "pivot_purpose = data.pivot_table(index=['purpose_category'], values='debt', aggfunc={'count','sum'})\n",
    "pivot_purpose.columns = ['Всего заемщиков', 'Всего должников']\n",
    "pivot_purpose['Доля должников, %'] = round(pivot_purpose['Всего должников'] / pivot_purpose['Всего заемщиков']*100,2)\n",
    "print(pivot_purpose.sort_values('Доля должников, %'))"
   ]
  },
  {
   "cell_type": "code",
   "execution_count": null,
   "id": "d2eb2f84",
   "metadata": {},
   "outputs": [],
   "source": [
    "pivot_purpose = pivot_purpose.sort_values('Доля должников, %')\n",
    "sns.barplot(x=pivot_purpose['Доля должников, %'], y=pivot_purpose.index, color='steelblue')\n"
   ]
  },
  {
   "cell_type": "markdown",
   "id": "a2dd1827",
   "metadata": {
    "deletable": false,
    "id": "b4bb2ce6"
   },
   "source": [
    "**Вывод:** Наибольшую долю должников составляю заемщики, взявшие  кредит на получение образования и операции с автомобилем (9,25% и 9,35% соответственно). Кредиты на проведение свадьбы возвращают в срок чаще (7,91%), возможно это связано с меньшей суммой кредита. Кроме того, в данном случае имеет место быть большая ответственность и разделение финансовых обязательств людей, стремящихся создать семью. Самая низкая доля просрочки у людей, берущих кредит на недвижимость (7,26%). Возможно это связано с тем, что люди, которые берут кредит на покупку недвижимости в силу ее высокой стоимости обладают достаточным уровнем дохода, ответственности и несут в целом большие риски в случае неуплаты кредита, что приводит к большей ответственности."
   ]
  },
  {
   "cell_type": "markdown",
   "id": "8d993365",
   "metadata": {
    "deletable": false,
    "editable": false,
    "id": "09c3ac4c"
   },
   "source": [
    "#### 3.5 Приведите возможные причины появления пропусков в исходных данных."
   ]
  },
  {
   "cell_type": "markdown",
   "id": "109e0ad6",
   "metadata": {
    "deletable": false,
    "id": "9da2ceda"
   },
   "source": [
    "*Ответ:* Пропуски в данных есть в столбцах days_employed и total_income. Вероятно это связано с чеовеческим фактором, люди просто не хотели заполнять информацию о доходе и сроке занятости. Кроме того, стоит отметить что количество пропусков в этих столбцах одинаковы."
   ]
  },
  {
   "cell_type": "markdown",
   "id": "5a035c98",
   "metadata": {
    "deletable": false,
    "editable": false,
    "id": "7b0487d6"
   },
   "source": [
    "#### 3.6 Объясните, почему заполнить пропуски медианным значением — лучшее решение для количественных переменных."
   ]
  },
  {
   "cell_type": "markdown",
   "id": "e7476c88",
   "metadata": {
    "deletable": false,
    "id": "7ecf2b8e"
   },
   "source": [
    "*Ответ:* С помощью медианы можно получить более точные данные и правильнее интерпретировать статистику, в то время как исключение из данных пропусков может, в случае с количественными переменными, исказить данные.На среднее арифметическое значение могут оказать большее влияние выбросы."
   ]
  },
  {
   "cell_type": "markdown",
   "id": "f6993997",
   "metadata": {
    "deletable": false,
    "editable": false,
    "id": "6db5255a"
   },
   "source": [
    "### Шаг 4: общий вывод."
   ]
  },
  {
   "cell_type": "markdown",
   "id": "df1e6a86",
   "metadata": {
    "deletable": false,
    "id": "bad65432"
   },
   "source": [
    "Корреляция по выдвинутым гипотезом прослеживается невысокая. Вероятнее, что на возврат кредита в срок больше влияет совокупность факторов. Так, исходя из полученных данных с большей вероятностью просрочку кредита допустит заемщики не состоящие в браке или состоящие в гражданском браке, имеющие 4 детей, с доходом менее 30 тыс. рублей, получающие кредит на операции с автомобилем или получение образования.\n",
    "В то время как самыми благонадежными заемщиками будут вдовы/вдовцы, получившие кредит на операции с недвижимостью без детей, с доходом 30-50 тыс. руб.\n",
    "Не обязательно наличие всех этих факторов, возможно наличие некоторых из них.\n",
    "Возможно потребуется выдвижение дополнительных гипотез или большая выборка, основываясь на существующих выводах для выявления больших взаимосвязей."
   ]
  }
 ],
 "metadata": {
  "ExecuteTimeLog": [
   {
    "duration": 48,
    "start_time": "2023-01-10T09:18:25.685Z"
   },
   {
    "duration": 756,
    "start_time": "2023-01-10T09:18:45.440Z"
   },
   {
    "duration": 30,
    "start_time": "2023-01-10T09:18:47.031Z"
   },
   {
    "duration": 23,
    "start_time": "2023-01-10T09:18:47.886Z"
   },
   {
    "duration": 12,
    "start_time": "2023-01-10T09:18:49.705Z"
   },
   {
    "duration": 37,
    "start_time": "2023-01-10T09:18:50.592Z"
   },
   {
    "duration": 4,
    "start_time": "2023-01-10T09:18:51.964Z"
   },
   {
    "duration": 8,
    "start_time": "2023-01-10T09:18:52.808Z"
   },
   {
    "duration": 5,
    "start_time": "2023-01-10T09:18:54.089Z"
   },
   {
    "duration": 7,
    "start_time": "2023-01-10T09:18:55.150Z"
   },
   {
    "duration": 5,
    "start_time": "2023-01-10T09:18:56.049Z"
   },
   {
    "duration": 37,
    "start_time": "2023-01-10T09:18:57.552Z"
   },
   {
    "duration": 10,
    "start_time": "2023-01-10T09:18:58.955Z"
   },
   {
    "duration": 4,
    "start_time": "2023-01-10T09:19:00.242Z"
   },
   {
    "duration": 12,
    "start_time": "2023-01-10T09:19:01.043Z"
   },
   {
    "duration": 24,
    "start_time": "2023-01-10T09:19:01.436Z"
   },
   {
    "duration": 26,
    "start_time": "2023-01-10T09:19:01.704Z"
   },
   {
    "duration": 3,
    "start_time": "2023-01-10T09:19:02.343Z"
   },
   {
    "duration": 11,
    "start_time": "2023-01-10T09:19:03.383Z"
   },
   {
    "duration": 6,
    "start_time": "2023-01-10T09:19:04.470Z"
   },
   {
    "duration": 4,
    "start_time": "2023-01-10T09:19:05.519Z"
   },
   {
    "duration": 9,
    "start_time": "2023-01-10T09:19:06.092Z"
   },
   {
    "duration": 13,
    "start_time": "2023-01-10T09:19:08.696Z"
   },
   {
    "duration": 65,
    "start_time": "2023-01-10T09:24:44.136Z"
   },
   {
    "duration": 64,
    "start_time": "2023-01-10T09:24:56.267Z"
   },
   {
    "duration": 203,
    "start_time": "2023-01-10T09:25:30.112Z"
   },
   {
    "duration": 24,
    "start_time": "2023-01-10T09:26:18.963Z"
   },
   {
    "duration": 12,
    "start_time": "2023-01-10T09:26:23.598Z"
   },
   {
    "duration": 15,
    "start_time": "2023-01-10T09:26:42.328Z"
   },
   {
    "duration": 254,
    "start_time": "2023-01-10T09:38:50.226Z"
   },
   {
    "duration": 16,
    "start_time": "2023-01-10T09:39:04.236Z"
   },
   {
    "duration": 17,
    "start_time": "2023-01-10T09:40:45.328Z"
   },
   {
    "duration": 46,
    "start_time": "2023-01-10T09:45:36.685Z"
   },
   {
    "duration": 21,
    "start_time": "2023-01-10T09:45:59.940Z"
   },
   {
    "duration": 129,
    "start_time": "2023-01-10T09:47:17.265Z"
   },
   {
    "duration": 75,
    "start_time": "2023-01-10T09:47:30.648Z"
   },
   {
    "duration": 18,
    "start_time": "2023-01-10T09:47:39.222Z"
   },
   {
    "duration": 18,
    "start_time": "2023-01-10T09:47:59.880Z"
   },
   {
    "duration": 19,
    "start_time": "2023-01-10T09:50:30.796Z"
   },
   {
    "duration": 1147,
    "start_time": "2023-01-10T09:54:20.490Z"
   },
   {
    "duration": 56,
    "start_time": "2023-01-10T09:54:49.994Z"
   },
   {
    "duration": 147,
    "start_time": "2023-01-10T09:55:04.731Z"
   },
   {
    "duration": 13,
    "start_time": "2023-01-10T09:55:43.329Z"
   },
   {
    "duration": 135,
    "start_time": "2023-01-10T09:57:38.802Z"
   },
   {
    "duration": 14,
    "start_time": "2023-01-10T09:58:07.443Z"
   },
   {
    "duration": 162,
    "start_time": "2023-01-10T10:00:00.806Z"
   },
   {
    "duration": 185,
    "start_time": "2023-01-10T10:04:58.497Z"
   },
   {
    "duration": 14,
    "start_time": "2023-01-10T10:07:00.864Z"
   },
   {
    "duration": 113,
    "start_time": "2023-01-10T10:07:51.994Z"
   },
   {
    "duration": 13,
    "start_time": "2023-01-10T10:08:14.147Z"
   },
   {
    "duration": 163,
    "start_time": "2023-01-10T10:11:56.412Z"
   },
   {
    "duration": 187,
    "start_time": "2023-01-10T10:15:01.361Z"
   },
   {
    "duration": 896,
    "start_time": "2023-01-10T10:17:51.310Z"
   },
   {
    "duration": 135,
    "start_time": "2023-01-10T10:18:06.114Z"
   },
   {
    "duration": 153,
    "start_time": "2023-01-10T10:18:36.754Z"
   },
   {
    "duration": 134,
    "start_time": "2023-01-10T10:19:29.007Z"
   },
   {
    "duration": 125,
    "start_time": "2023-01-10T10:24:54.234Z"
   },
   {
    "duration": 1506,
    "start_time": "2023-01-11T09:25:15.337Z"
   },
   {
    "duration": 554,
    "start_time": "2023-01-11T09:25:39.578Z"
   },
   {
    "duration": 23,
    "start_time": "2023-01-11T09:25:40.135Z"
   },
   {
    "duration": 22,
    "start_time": "2023-01-11T09:25:40.160Z"
   },
   {
    "duration": 11,
    "start_time": "2023-01-11T09:25:40.184Z"
   },
   {
    "duration": 39,
    "start_time": "2023-01-11T09:25:40.196Z"
   },
   {
    "duration": 4,
    "start_time": "2023-01-11T09:25:40.236Z"
   },
   {
    "duration": 13,
    "start_time": "2023-01-11T09:25:40.242Z"
   },
   {
    "duration": 4,
    "start_time": "2023-01-11T09:25:40.257Z"
   },
   {
    "duration": 10,
    "start_time": "2023-01-11T09:25:40.263Z"
   },
   {
    "duration": 5,
    "start_time": "2023-01-11T09:25:40.276Z"
   },
   {
    "duration": 63,
    "start_time": "2023-01-11T09:25:40.283Z"
   },
   {
    "duration": 12,
    "start_time": "2023-01-11T09:25:40.348Z"
   },
   {
    "duration": 5,
    "start_time": "2023-01-11T09:25:40.362Z"
   },
   {
    "duration": 14,
    "start_time": "2023-01-11T09:25:40.368Z"
   },
   {
    "duration": 44,
    "start_time": "2023-01-11T09:25:40.384Z"
   },
   {
    "duration": 21,
    "start_time": "2023-01-11T09:25:40.430Z"
   },
   {
    "duration": 4,
    "start_time": "2023-01-11T09:25:40.453Z"
   },
   {
    "duration": 13,
    "start_time": "2023-01-11T09:25:40.459Z"
   },
   {
    "duration": 11,
    "start_time": "2023-01-11T09:25:40.474Z"
   },
   {
    "duration": 7,
    "start_time": "2023-01-11T09:25:40.487Z"
   },
   {
    "duration": 38,
    "start_time": "2023-01-11T09:25:40.496Z"
   },
   {
    "duration": 25,
    "start_time": "2023-01-11T09:25:40.536Z"
   },
   {
    "duration": 909,
    "start_time": "2023-01-11T09:25:40.563Z"
   },
   {
    "duration": 3,
    "start_time": "2023-01-11T09:25:41.473Z"
   },
   {
    "duration": 7,
    "start_time": "2023-01-11T09:25:41.477Z"
   },
   {
    "duration": 8,
    "start_time": "2023-01-11T09:25:41.486Z"
   },
   {
    "duration": 127,
    "start_time": "2023-01-11T09:25:44.864Z"
   },
   {
    "duration": 14,
    "start_time": "2023-01-11T09:43:14.444Z"
   },
   {
    "duration": 22,
    "start_time": "2023-01-11T09:44:58.096Z"
   },
   {
    "duration": 19,
    "start_time": "2023-01-11T09:45:27.169Z"
   },
   {
    "duration": 24,
    "start_time": "2023-01-11T09:46:11.306Z"
   },
   {
    "duration": 170,
    "start_time": "2023-01-11T09:48:14.157Z"
   },
   {
    "duration": 21,
    "start_time": "2023-01-11T09:54:53.678Z"
   },
   {
    "duration": 156,
    "start_time": "2023-01-11T10:05:21.750Z"
   },
   {
    "duration": 141,
    "start_time": "2023-01-11T10:06:10.585Z"
   },
   {
    "duration": 21,
    "start_time": "2023-01-11T10:08:05.977Z"
   },
   {
    "duration": 143,
    "start_time": "2023-01-11T10:10:50.051Z"
   },
   {
    "duration": 137,
    "start_time": "2023-01-11T10:13:48.261Z"
   },
   {
    "duration": 20,
    "start_time": "2023-01-11T10:17:15.167Z"
   },
   {
    "duration": 1149,
    "start_time": "2023-01-11T13:24:24.373Z"
   },
   {
    "duration": 26,
    "start_time": "2023-01-11T13:24:25.524Z"
   },
   {
    "duration": 20,
    "start_time": "2023-01-11T13:24:25.552Z"
   },
   {
    "duration": 11,
    "start_time": "2023-01-11T13:24:25.574Z"
   },
   {
    "duration": 44,
    "start_time": "2023-01-11T13:24:25.587Z"
   },
   {
    "duration": 3,
    "start_time": "2023-01-11T13:24:25.633Z"
   },
   {
    "duration": 16,
    "start_time": "2023-01-11T13:24:25.638Z"
   },
   {
    "duration": 12,
    "start_time": "2023-01-11T13:24:25.656Z"
   },
   {
    "duration": 15,
    "start_time": "2023-01-11T13:24:25.669Z"
   },
   {
    "duration": 15,
    "start_time": "2023-01-11T13:24:25.687Z"
   },
   {
    "duration": 35,
    "start_time": "2023-01-11T13:24:25.703Z"
   },
   {
    "duration": 9,
    "start_time": "2023-01-11T13:24:25.740Z"
   },
   {
    "duration": 4,
    "start_time": "2023-01-11T13:24:25.750Z"
   },
   {
    "duration": 37,
    "start_time": "2023-01-11T13:24:25.755Z"
   },
   {
    "duration": 23,
    "start_time": "2023-01-11T13:24:25.794Z"
   },
   {
    "duration": 19,
    "start_time": "2023-01-11T13:24:25.819Z"
   },
   {
    "duration": 5,
    "start_time": "2023-01-11T13:24:25.840Z"
   },
   {
    "duration": 53,
    "start_time": "2023-01-11T13:24:25.847Z"
   },
   {
    "duration": 16,
    "start_time": "2023-01-11T13:24:25.902Z"
   },
   {
    "duration": 5,
    "start_time": "2023-01-11T13:24:25.920Z"
   },
   {
    "duration": 17,
    "start_time": "2023-01-11T13:24:25.927Z"
   },
   {
    "duration": 38,
    "start_time": "2023-01-11T13:24:25.945Z"
   },
   {
    "duration": 1105,
    "start_time": "2023-01-11T13:24:25.989Z"
   },
   {
    "duration": 21,
    "start_time": "2023-01-11T13:24:27.096Z"
   },
   {
    "duration": 148,
    "start_time": "2023-01-11T13:24:27.118Z"
   },
   {
    "duration": 22,
    "start_time": "2023-01-11T13:24:27.268Z"
   },
   {
    "duration": 12,
    "start_time": "2023-01-11T13:24:27.293Z"
   },
   {
    "duration": 20,
    "start_time": "2023-01-11T13:36:04.446Z"
   },
   {
    "duration": 70,
    "start_time": "2023-01-11T13:39:57.894Z"
   },
   {
    "duration": 19,
    "start_time": "2023-01-11T13:40:09.117Z"
   },
   {
    "duration": 27,
    "start_time": "2023-01-11T13:40:17.237Z"
   },
   {
    "duration": 24,
    "start_time": "2023-01-11T13:40:26.575Z"
   },
   {
    "duration": 25,
    "start_time": "2023-01-11T13:40:44.169Z"
   },
   {
    "duration": 30,
    "start_time": "2023-01-11T13:40:49.369Z"
   },
   {
    "duration": 141,
    "start_time": "2023-01-11T13:41:16.200Z"
   },
   {
    "duration": 122,
    "start_time": "2023-01-11T13:42:33.149Z"
   },
   {
    "duration": 565,
    "start_time": "2023-01-12T09:12:35.858Z"
   },
   {
    "duration": 20,
    "start_time": "2023-01-12T09:12:36.425Z"
   },
   {
    "duration": 17,
    "start_time": "2023-01-12T09:12:36.448Z"
   },
   {
    "duration": 14,
    "start_time": "2023-01-12T09:12:36.466Z"
   },
   {
    "duration": 43,
    "start_time": "2023-01-12T09:12:36.481Z"
   },
   {
    "duration": 4,
    "start_time": "2023-01-12T09:12:36.525Z"
   },
   {
    "duration": 10,
    "start_time": "2023-01-12T09:12:36.530Z"
   },
   {
    "duration": 4,
    "start_time": "2023-01-12T09:12:36.541Z"
   },
   {
    "duration": 7,
    "start_time": "2023-01-12T09:12:36.547Z"
   },
   {
    "duration": 4,
    "start_time": "2023-01-12T09:12:36.555Z"
   },
   {
    "duration": 31,
    "start_time": "2023-01-12T09:12:36.577Z"
   },
   {
    "duration": 9,
    "start_time": "2023-01-12T09:12:36.609Z"
   },
   {
    "duration": 7,
    "start_time": "2023-01-12T09:12:36.620Z"
   },
   {
    "duration": 17,
    "start_time": "2023-01-12T09:12:36.629Z"
   },
   {
    "duration": 31,
    "start_time": "2023-01-12T09:12:36.648Z"
   },
   {
    "duration": 16,
    "start_time": "2023-01-12T09:12:36.681Z"
   },
   {
    "duration": 4,
    "start_time": "2023-01-12T09:12:36.698Z"
   },
   {
    "duration": 12,
    "start_time": "2023-01-12T09:12:36.704Z"
   },
   {
    "duration": 7,
    "start_time": "2023-01-12T09:12:36.718Z"
   },
   {
    "duration": 4,
    "start_time": "2023-01-12T09:12:36.727Z"
   },
   {
    "duration": 13,
    "start_time": "2023-01-12T09:12:36.733Z"
   },
   {
    "duration": 22,
    "start_time": "2023-01-12T09:12:36.777Z"
   },
   {
    "duration": 995,
    "start_time": "2023-01-12T09:12:36.800Z"
   },
   {
    "duration": 19,
    "start_time": "2023-01-12T09:12:37.797Z"
   },
   {
    "duration": 129,
    "start_time": "2023-01-12T09:12:37.817Z"
   },
   {
    "duration": 18,
    "start_time": "2023-01-12T09:12:37.947Z"
   },
   {
    "duration": 107,
    "start_time": "2023-01-12T09:12:37.977Z"
   },
   {
    "duration": 2,
    "start_time": "2023-01-12T09:12:38.085Z"
   },
   {
    "duration": 17,
    "start_time": "2023-01-12T09:13:56.579Z"
   },
   {
    "duration": 11,
    "start_time": "2023-01-12T09:14:27.622Z"
   },
   {
    "duration": 19,
    "start_time": "2023-01-12T09:14:46.142Z"
   },
   {
    "duration": 112,
    "start_time": "2023-01-12T09:15:38.901Z"
   }
  ],
  "colab": {
   "name": "dpp_template_part2.ipynb",
   "provenance": []
  },
  "kernelspec": {
   "display_name": "Python 3 (ipykernel)",
   "language": "python",
   "name": "python3"
  },
  "language_info": {
   "codemirror_mode": {
    "name": "ipython",
    "version": 3
   },
   "file_extension": ".py",
   "mimetype": "text/x-python",
   "name": "python",
   "nbconvert_exporter": "python",
   "pygments_lexer": "ipython3",
   "version": "3.9.12"
  },
  "toc": {
   "base_numbering": 1,
   "nav_menu": {},
   "number_sections": true,
   "sideBar": true,
   "skip_h1_title": true,
   "title_cell": "Table of Contents",
   "title_sidebar": "Contents",
   "toc_cell": false,
   "toc_position": {},
   "toc_section_display": true,
   "toc_window_display": false
  }
 },
 "nbformat": 4,
 "nbformat_minor": 5
}
