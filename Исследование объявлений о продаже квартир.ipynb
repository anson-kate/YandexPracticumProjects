{
 "cells": [
  {
   "cell_type": "markdown",
   "metadata": {},
   "source": [
    "# Исследование объявлений о продаже квартир\n",
    "\n",
    "В вашем распоряжении данные сервиса Яндекс.Недвижимость — архив объявлений о продаже квартир в Санкт-Петербурге и соседних населённых пунктов за несколько лет. Нужно научиться определять рыночную стоимость объектов недвижимости. Ваша задача — установить параметры. Это позволит построить автоматизированную систему: она отследит аномалии и мошенническую деятельность. \n",
    "\n",
    "По каждой квартире на продажу доступны два вида данных. Первые вписаны пользователем, вторые — получены автоматически на основе картографических данных. Например, расстояние до центра, аэропорта, ближайшего парка и водоёма. "
   ]
  },
  {
   "cell_type": "markdown",
   "metadata": {},
   "source": [
    "Цель исследования:\n",
    "1. Определить какие факторы оказывают наибольшее влияние на цену квартир.\n",
    "2. Выявить среднюю цену недвижимости в городах с наибольшим количеством объявлений.\n",
    "3. Обозначить основные особенности на рынке недвижимости.\n",
    "4. Установить параметры формирования цены, позволяющие в дальнейшем построить автоматизированную систему, которая способна отследить аномалии и мошенническую деятельность.\n",
    "\n",
    "Ход исследования:\n",
    " * Изучение общей информации.\n",
    " * Предобработка данных.\n",
    " * Добавление рассчетных показателей, необходимых для анализа.\n",
    " * Исследовательский анализ параметров объектов и выявление степени их влияние на ценообразование квартир.\n",
    " * Выявление населенных пунктов Ленинградской области с самыми высокими и низкими ценами на недвижимость\n",
    " * Написание общего вывода."
   ]
  },
  {
   "cell_type": "markdown",
   "metadata": {},
   "source": [
    "### Откройте файл с данными и изучите общую информацию."
   ]
  },
  {
   "cell_type": "markdown",
   "metadata": {},
   "source": [
    "Загрузим датасет и ознакомимся с данными."
   ]
  },
  {
   "cell_type": "code",
   "execution_count": 1,
   "metadata": {},
   "outputs": [],
   "source": [
    "import pandas as pd\n",
    "import numpy as np\n",
    "import matplotlib.pyplot as plt"
   ]
  },
  {
   "cell_type": "code",
   "execution_count": 2,
   "metadata": {},
   "outputs": [
    {
     "data": {
      "text/html": [
       "<div>\n",
       "<style scoped>\n",
       "    .dataframe tbody tr th:only-of-type {\n",
       "        vertical-align: middle;\n",
       "    }\n",
       "\n",
       "    .dataframe tbody tr th {\n",
       "        vertical-align: top;\n",
       "    }\n",
       "\n",
       "    .dataframe thead th {\n",
       "        text-align: right;\n",
       "    }\n",
       "</style>\n",
       "<table border=\"1\" class=\"dataframe\">\n",
       "  <thead>\n",
       "    <tr style=\"text-align: right;\">\n",
       "      <th></th>\n",
       "      <th>total_images</th>\n",
       "      <th>last_price</th>\n",
       "      <th>total_area</th>\n",
       "      <th>first_day_exposition</th>\n",
       "      <th>rooms</th>\n",
       "      <th>ceiling_height</th>\n",
       "      <th>floors_total</th>\n",
       "      <th>living_area</th>\n",
       "      <th>floor</th>\n",
       "      <th>is_apartment</th>\n",
       "      <th>...</th>\n",
       "      <th>kitchen_area</th>\n",
       "      <th>balcony</th>\n",
       "      <th>locality_name</th>\n",
       "      <th>airports_nearest</th>\n",
       "      <th>cityCenters_nearest</th>\n",
       "      <th>parks_around3000</th>\n",
       "      <th>parks_nearest</th>\n",
       "      <th>ponds_around3000</th>\n",
       "      <th>ponds_nearest</th>\n",
       "      <th>days_exposition</th>\n",
       "    </tr>\n",
       "  </thead>\n",
       "  <tbody>\n",
       "    <tr>\n",
       "      <th>0</th>\n",
       "      <td>20</td>\n",
       "      <td>13000000.0</td>\n",
       "      <td>108.0</td>\n",
       "      <td>2019-03-07T00:00:00</td>\n",
       "      <td>3</td>\n",
       "      <td>2.70</td>\n",
       "      <td>16.0</td>\n",
       "      <td>51.0</td>\n",
       "      <td>8</td>\n",
       "      <td>NaN</td>\n",
       "      <td>...</td>\n",
       "      <td>25.0</td>\n",
       "      <td>NaN</td>\n",
       "      <td>Санкт-Петербург</td>\n",
       "      <td>18863.0</td>\n",
       "      <td>16028.0</td>\n",
       "      <td>1.0</td>\n",
       "      <td>482.0</td>\n",
       "      <td>2.0</td>\n",
       "      <td>755.0</td>\n",
       "      <td>NaN</td>\n",
       "    </tr>\n",
       "    <tr>\n",
       "      <th>1</th>\n",
       "      <td>7</td>\n",
       "      <td>3350000.0</td>\n",
       "      <td>40.4</td>\n",
       "      <td>2018-12-04T00:00:00</td>\n",
       "      <td>1</td>\n",
       "      <td>NaN</td>\n",
       "      <td>11.0</td>\n",
       "      <td>18.6</td>\n",
       "      <td>1</td>\n",
       "      <td>NaN</td>\n",
       "      <td>...</td>\n",
       "      <td>11.0</td>\n",
       "      <td>2.0</td>\n",
       "      <td>посёлок Шушары</td>\n",
       "      <td>12817.0</td>\n",
       "      <td>18603.0</td>\n",
       "      <td>0.0</td>\n",
       "      <td>NaN</td>\n",
       "      <td>0.0</td>\n",
       "      <td>NaN</td>\n",
       "      <td>81.0</td>\n",
       "    </tr>\n",
       "    <tr>\n",
       "      <th>2</th>\n",
       "      <td>10</td>\n",
       "      <td>5196000.0</td>\n",
       "      <td>56.0</td>\n",
       "      <td>2015-08-20T00:00:00</td>\n",
       "      <td>2</td>\n",
       "      <td>NaN</td>\n",
       "      <td>5.0</td>\n",
       "      <td>34.3</td>\n",
       "      <td>4</td>\n",
       "      <td>NaN</td>\n",
       "      <td>...</td>\n",
       "      <td>8.3</td>\n",
       "      <td>0.0</td>\n",
       "      <td>Санкт-Петербург</td>\n",
       "      <td>21741.0</td>\n",
       "      <td>13933.0</td>\n",
       "      <td>1.0</td>\n",
       "      <td>90.0</td>\n",
       "      <td>2.0</td>\n",
       "      <td>574.0</td>\n",
       "      <td>558.0</td>\n",
       "    </tr>\n",
       "    <tr>\n",
       "      <th>3</th>\n",
       "      <td>0</td>\n",
       "      <td>64900000.0</td>\n",
       "      <td>159.0</td>\n",
       "      <td>2015-07-24T00:00:00</td>\n",
       "      <td>3</td>\n",
       "      <td>NaN</td>\n",
       "      <td>14.0</td>\n",
       "      <td>NaN</td>\n",
       "      <td>9</td>\n",
       "      <td>NaN</td>\n",
       "      <td>...</td>\n",
       "      <td>NaN</td>\n",
       "      <td>0.0</td>\n",
       "      <td>Санкт-Петербург</td>\n",
       "      <td>28098.0</td>\n",
       "      <td>6800.0</td>\n",
       "      <td>2.0</td>\n",
       "      <td>84.0</td>\n",
       "      <td>3.0</td>\n",
       "      <td>234.0</td>\n",
       "      <td>424.0</td>\n",
       "    </tr>\n",
       "    <tr>\n",
       "      <th>4</th>\n",
       "      <td>2</td>\n",
       "      <td>10000000.0</td>\n",
       "      <td>100.0</td>\n",
       "      <td>2018-06-19T00:00:00</td>\n",
       "      <td>2</td>\n",
       "      <td>3.03</td>\n",
       "      <td>14.0</td>\n",
       "      <td>32.0</td>\n",
       "      <td>13</td>\n",
       "      <td>NaN</td>\n",
       "      <td>...</td>\n",
       "      <td>41.0</td>\n",
       "      <td>NaN</td>\n",
       "      <td>Санкт-Петербург</td>\n",
       "      <td>31856.0</td>\n",
       "      <td>8098.0</td>\n",
       "      <td>2.0</td>\n",
       "      <td>112.0</td>\n",
       "      <td>1.0</td>\n",
       "      <td>48.0</td>\n",
       "      <td>121.0</td>\n",
       "    </tr>\n",
       "  </tbody>\n",
       "</table>\n",
       "<p>5 rows × 22 columns</p>\n",
       "</div>"
      ],
      "text/plain": [
       "   total_images  last_price  total_area first_day_exposition  rooms  \\\n",
       "0            20  13000000.0       108.0  2019-03-07T00:00:00      3   \n",
       "1             7   3350000.0        40.4  2018-12-04T00:00:00      1   \n",
       "2            10   5196000.0        56.0  2015-08-20T00:00:00      2   \n",
       "3             0  64900000.0       159.0  2015-07-24T00:00:00      3   \n",
       "4             2  10000000.0       100.0  2018-06-19T00:00:00      2   \n",
       "\n",
       "   ceiling_height  floors_total  living_area  floor is_apartment  ...  \\\n",
       "0            2.70          16.0         51.0      8          NaN  ...   \n",
       "1             NaN          11.0         18.6      1          NaN  ...   \n",
       "2             NaN           5.0         34.3      4          NaN  ...   \n",
       "3             NaN          14.0          NaN      9          NaN  ...   \n",
       "4            3.03          14.0         32.0     13          NaN  ...   \n",
       "\n",
       "   kitchen_area  balcony    locality_name  airports_nearest  \\\n",
       "0          25.0      NaN  Санкт-Петербург           18863.0   \n",
       "1          11.0      2.0   посёлок Шушары           12817.0   \n",
       "2           8.3      0.0  Санкт-Петербург           21741.0   \n",
       "3           NaN      0.0  Санкт-Петербург           28098.0   \n",
       "4          41.0      NaN  Санкт-Петербург           31856.0   \n",
       "\n",
       "  cityCenters_nearest  parks_around3000  parks_nearest  ponds_around3000  \\\n",
       "0             16028.0               1.0          482.0               2.0   \n",
       "1             18603.0               0.0            NaN               0.0   \n",
       "2             13933.0               1.0           90.0               2.0   \n",
       "3              6800.0               2.0           84.0               3.0   \n",
       "4              8098.0               2.0          112.0               1.0   \n",
       "\n",
       "   ponds_nearest  days_exposition  \n",
       "0          755.0              NaN  \n",
       "1            NaN             81.0  \n",
       "2          574.0            558.0  \n",
       "3          234.0            424.0  \n",
       "4           48.0            121.0  \n",
       "\n",
       "[5 rows x 22 columns]"
      ]
     },
     "execution_count": 2,
     "metadata": {},
     "output_type": "execute_result"
    }
   ],
   "source": [
    "try:\n",
    "    data = pd.read_csv('/datasets/real_estate_data.csv', sep='\\t')\n",
    "except:\n",
    "    data = pd.read_csv('real_estate_data.csv', sep='\\t')\n",
    "data.head()"
   ]
  },
  {
   "cell_type": "code",
   "execution_count": 3,
   "metadata": {},
   "outputs": [
    {
     "name": "stdout",
     "output_type": "stream",
     "text": [
      "<class 'pandas.core.frame.DataFrame'>\n",
      "RangeIndex: 23699 entries, 0 to 23698\n",
      "Data columns (total 22 columns):\n",
      " #   Column                Non-Null Count  Dtype  \n",
      "---  ------                --------------  -----  \n",
      " 0   total_images          23699 non-null  int64  \n",
      " 1   last_price            23699 non-null  float64\n",
      " 2   total_area            23699 non-null  float64\n",
      " 3   first_day_exposition  23699 non-null  object \n",
      " 4   rooms                 23699 non-null  int64  \n",
      " 5   ceiling_height        14504 non-null  float64\n",
      " 6   floors_total          23613 non-null  float64\n",
      " 7   living_area           21796 non-null  float64\n",
      " 8   floor                 23699 non-null  int64  \n",
      " 9   is_apartment          2775 non-null   object \n",
      " 10  studio                23699 non-null  bool   \n",
      " 11  open_plan             23699 non-null  bool   \n",
      " 12  kitchen_area          21421 non-null  float64\n",
      " 13  balcony               12180 non-null  float64\n",
      " 14  locality_name         23650 non-null  object \n",
      " 15  airports_nearest      18157 non-null  float64\n",
      " 16  cityCenters_nearest   18180 non-null  float64\n",
      " 17  parks_around3000      18181 non-null  float64\n",
      " 18  parks_nearest         8079 non-null   float64\n",
      " 19  ponds_around3000      18181 non-null  float64\n",
      " 20  ponds_nearest         9110 non-null   float64\n",
      " 21  days_exposition       20518 non-null  float64\n",
      "dtypes: bool(2), float64(14), int64(3), object(3)\n",
      "memory usage: 3.7+ MB\n"
     ]
    }
   ],
   "source": [
    "data.info()"
   ]
  },
  {
   "cell_type": "markdown",
   "metadata": {},
   "source": [
    "Познакомимся с данными поближе, используя метод describe()"
   ]
  },
  {
   "cell_type": "code",
   "execution_count": 4,
   "metadata": {},
   "outputs": [
    {
     "data": {
      "text/html": [
       "<div>\n",
       "<style scoped>\n",
       "    .dataframe tbody tr th:only-of-type {\n",
       "        vertical-align: middle;\n",
       "    }\n",
       "\n",
       "    .dataframe tbody tr th {\n",
       "        vertical-align: top;\n",
       "    }\n",
       "\n",
       "    .dataframe thead th {\n",
       "        text-align: right;\n",
       "    }\n",
       "</style>\n",
       "<table border=\"1\" class=\"dataframe\">\n",
       "  <thead>\n",
       "    <tr style=\"text-align: right;\">\n",
       "      <th></th>\n",
       "      <th>total_images</th>\n",
       "      <th>last_price</th>\n",
       "      <th>total_area</th>\n",
       "      <th>rooms</th>\n",
       "      <th>ceiling_height</th>\n",
       "      <th>floors_total</th>\n",
       "      <th>living_area</th>\n",
       "      <th>floor</th>\n",
       "      <th>kitchen_area</th>\n",
       "      <th>balcony</th>\n",
       "      <th>airports_nearest</th>\n",
       "      <th>cityCenters_nearest</th>\n",
       "      <th>parks_around3000</th>\n",
       "      <th>parks_nearest</th>\n",
       "      <th>ponds_around3000</th>\n",
       "      <th>ponds_nearest</th>\n",
       "      <th>days_exposition</th>\n",
       "    </tr>\n",
       "  </thead>\n",
       "  <tbody>\n",
       "    <tr>\n",
       "      <th>count</th>\n",
       "      <td>23699.00</td>\n",
       "      <td>2.369900e+04</td>\n",
       "      <td>23699.00</td>\n",
       "      <td>23699.00</td>\n",
       "      <td>14504.00</td>\n",
       "      <td>23613.00</td>\n",
       "      <td>21796.00</td>\n",
       "      <td>23699.00</td>\n",
       "      <td>21421.00</td>\n",
       "      <td>12180.00</td>\n",
       "      <td>18157.00</td>\n",
       "      <td>18180.00</td>\n",
       "      <td>18181.00</td>\n",
       "      <td>8079.00</td>\n",
       "      <td>18181.00</td>\n",
       "      <td>9110.00</td>\n",
       "      <td>20518.00</td>\n",
       "    </tr>\n",
       "    <tr>\n",
       "      <th>mean</th>\n",
       "      <td>9.86</td>\n",
       "      <td>6.541549e+06</td>\n",
       "      <td>60.35</td>\n",
       "      <td>2.07</td>\n",
       "      <td>2.77</td>\n",
       "      <td>10.67</td>\n",
       "      <td>34.46</td>\n",
       "      <td>5.89</td>\n",
       "      <td>10.57</td>\n",
       "      <td>1.15</td>\n",
       "      <td>28793.67</td>\n",
       "      <td>14191.28</td>\n",
       "      <td>0.61</td>\n",
       "      <td>490.80</td>\n",
       "      <td>0.77</td>\n",
       "      <td>517.98</td>\n",
       "      <td>180.89</td>\n",
       "    </tr>\n",
       "    <tr>\n",
       "      <th>std</th>\n",
       "      <td>5.68</td>\n",
       "      <td>1.088701e+07</td>\n",
       "      <td>35.65</td>\n",
       "      <td>1.08</td>\n",
       "      <td>1.26</td>\n",
       "      <td>6.60</td>\n",
       "      <td>22.03</td>\n",
       "      <td>4.89</td>\n",
       "      <td>5.91</td>\n",
       "      <td>1.07</td>\n",
       "      <td>12630.88</td>\n",
       "      <td>8608.39</td>\n",
       "      <td>0.80</td>\n",
       "      <td>342.32</td>\n",
       "      <td>0.94</td>\n",
       "      <td>277.72</td>\n",
       "      <td>219.73</td>\n",
       "    </tr>\n",
       "    <tr>\n",
       "      <th>min</th>\n",
       "      <td>0.00</td>\n",
       "      <td>1.219000e+04</td>\n",
       "      <td>12.00</td>\n",
       "      <td>0.00</td>\n",
       "      <td>1.00</td>\n",
       "      <td>1.00</td>\n",
       "      <td>2.00</td>\n",
       "      <td>1.00</td>\n",
       "      <td>1.30</td>\n",
       "      <td>0.00</td>\n",
       "      <td>0.00</td>\n",
       "      <td>181.00</td>\n",
       "      <td>0.00</td>\n",
       "      <td>1.00</td>\n",
       "      <td>0.00</td>\n",
       "      <td>13.00</td>\n",
       "      <td>1.00</td>\n",
       "    </tr>\n",
       "    <tr>\n",
       "      <th>25%</th>\n",
       "      <td>6.00</td>\n",
       "      <td>3.400000e+06</td>\n",
       "      <td>40.00</td>\n",
       "      <td>1.00</td>\n",
       "      <td>2.52</td>\n",
       "      <td>5.00</td>\n",
       "      <td>18.60</td>\n",
       "      <td>2.00</td>\n",
       "      <td>7.00</td>\n",
       "      <td>0.00</td>\n",
       "      <td>18585.00</td>\n",
       "      <td>9238.00</td>\n",
       "      <td>0.00</td>\n",
       "      <td>288.00</td>\n",
       "      <td>0.00</td>\n",
       "      <td>294.00</td>\n",
       "      <td>45.00</td>\n",
       "    </tr>\n",
       "    <tr>\n",
       "      <th>50%</th>\n",
       "      <td>9.00</td>\n",
       "      <td>4.650000e+06</td>\n",
       "      <td>52.00</td>\n",
       "      <td>2.00</td>\n",
       "      <td>2.65</td>\n",
       "      <td>9.00</td>\n",
       "      <td>30.00</td>\n",
       "      <td>4.00</td>\n",
       "      <td>9.10</td>\n",
       "      <td>1.00</td>\n",
       "      <td>26726.00</td>\n",
       "      <td>13098.50</td>\n",
       "      <td>0.00</td>\n",
       "      <td>455.00</td>\n",
       "      <td>1.00</td>\n",
       "      <td>502.00</td>\n",
       "      <td>95.00</td>\n",
       "    </tr>\n",
       "    <tr>\n",
       "      <th>75%</th>\n",
       "      <td>14.00</td>\n",
       "      <td>6.800000e+06</td>\n",
       "      <td>69.90</td>\n",
       "      <td>3.00</td>\n",
       "      <td>2.80</td>\n",
       "      <td>16.00</td>\n",
       "      <td>42.30</td>\n",
       "      <td>8.00</td>\n",
       "      <td>12.00</td>\n",
       "      <td>2.00</td>\n",
       "      <td>37273.00</td>\n",
       "      <td>16293.00</td>\n",
       "      <td>1.00</td>\n",
       "      <td>612.00</td>\n",
       "      <td>1.00</td>\n",
       "      <td>729.00</td>\n",
       "      <td>232.00</td>\n",
       "    </tr>\n",
       "    <tr>\n",
       "      <th>max</th>\n",
       "      <td>50.00</td>\n",
       "      <td>7.630000e+08</td>\n",
       "      <td>900.00</td>\n",
       "      <td>19.00</td>\n",
       "      <td>100.00</td>\n",
       "      <td>60.00</td>\n",
       "      <td>409.70</td>\n",
       "      <td>33.00</td>\n",
       "      <td>112.00</td>\n",
       "      <td>5.00</td>\n",
       "      <td>84869.00</td>\n",
       "      <td>65968.00</td>\n",
       "      <td>3.00</td>\n",
       "      <td>3190.00</td>\n",
       "      <td>3.00</td>\n",
       "      <td>1344.00</td>\n",
       "      <td>1580.00</td>\n",
       "    </tr>\n",
       "  </tbody>\n",
       "</table>\n",
       "</div>"
      ],
      "text/plain": [
       "       total_images    last_price  total_area     rooms  ceiling_height  \\\n",
       "count      23699.00  2.369900e+04    23699.00  23699.00        14504.00   \n",
       "mean           9.86  6.541549e+06       60.35      2.07            2.77   \n",
       "std            5.68  1.088701e+07       35.65      1.08            1.26   \n",
       "min            0.00  1.219000e+04       12.00      0.00            1.00   \n",
       "25%            6.00  3.400000e+06       40.00      1.00            2.52   \n",
       "50%            9.00  4.650000e+06       52.00      2.00            2.65   \n",
       "75%           14.00  6.800000e+06       69.90      3.00            2.80   \n",
       "max           50.00  7.630000e+08      900.00     19.00          100.00   \n",
       "\n",
       "       floors_total  living_area     floor  kitchen_area   balcony  \\\n",
       "count      23613.00     21796.00  23699.00      21421.00  12180.00   \n",
       "mean          10.67        34.46      5.89         10.57      1.15   \n",
       "std            6.60        22.03      4.89          5.91      1.07   \n",
       "min            1.00         2.00      1.00          1.30      0.00   \n",
       "25%            5.00        18.60      2.00          7.00      0.00   \n",
       "50%            9.00        30.00      4.00          9.10      1.00   \n",
       "75%           16.00        42.30      8.00         12.00      2.00   \n",
       "max           60.00       409.70     33.00        112.00      5.00   \n",
       "\n",
       "       airports_nearest  cityCenters_nearest  parks_around3000  parks_nearest  \\\n",
       "count          18157.00             18180.00          18181.00        8079.00   \n",
       "mean           28793.67             14191.28              0.61         490.80   \n",
       "std            12630.88              8608.39              0.80         342.32   \n",
       "min                0.00               181.00              0.00           1.00   \n",
       "25%            18585.00              9238.00              0.00         288.00   \n",
       "50%            26726.00             13098.50              0.00         455.00   \n",
       "75%            37273.00             16293.00              1.00         612.00   \n",
       "max            84869.00             65968.00              3.00        3190.00   \n",
       "\n",
       "       ponds_around3000  ponds_nearest  days_exposition  \n",
       "count          18181.00        9110.00         20518.00  \n",
       "mean               0.77         517.98           180.89  \n",
       "std                0.94         277.72           219.73  \n",
       "min                0.00          13.00             1.00  \n",
       "25%                0.00         294.00            45.00  \n",
       "50%                1.00         502.00            95.00  \n",
       "75%                1.00         729.00           232.00  \n",
       "max                3.00        1344.00          1580.00  "
      ]
     },
     "execution_count": 4,
     "metadata": {},
     "output_type": "execute_result"
    }
   ],
   "source": [
    "data.describe().round(2)"
   ]
  },
  {
   "cell_type": "markdown",
   "metadata": {},
   "source": [
    "Построем общую гистограмму для всех числовых столбцов таблицы."
   ]
  },
  {
   "cell_type": "code",
   "execution_count": 5,
   "metadata": {},
   "outputs": [
    {
     "data": {
      "image/png": "[encoded data removed]",
      "text/plain": [
       "<Figure size 1080x1440 with 20 Axes>"
      ]
     },
     "metadata": {
      "needs_background": "light"
     },
     "output_type": "display_data"
    }
   ],
   "source": [
    "data.hist(figsize=(15, 20))\n",
    "plt.show();"
   ]
  },
  {
   "cell_type": "markdown",
   "metadata": {},
   "source": [
    "Как видим из полученных данных во многих столбцах отсутствуют данные. Также как видно из построенных гистограмм в таблице есть данные, чьи значения могут быть выбросами. Необходимо произвести предобработку данных."
   ]
  },
  {
   "cell_type": "markdown",
   "metadata": {},
   "source": [
    "### Предобработка данных"
   ]
  },
  {
   "cell_type": "code",
   "execution_count": 6,
   "metadata": {},
   "outputs": [
    {
     "data": {
      "text/plain": [
       "total_images                0\n",
       "last_price                  0\n",
       "total_area                  0\n",
       "first_day_exposition        0\n",
       "rooms                       0\n",
       "ceiling_height           9195\n",
       "floors_total               86\n",
       "living_area              1903\n",
       "floor                       0\n",
       "is_apartment            20924\n",
       "studio                      0\n",
       "open_plan                   0\n",
       "kitchen_area             2278\n",
       "balcony                 11519\n",
       "locality_name              49\n",
       "airports_nearest         5542\n",
       "cityCenters_nearest      5519\n",
       "parks_around3000         5518\n",
       "parks_nearest           15620\n",
       "ponds_around3000         5518\n",
       "ponds_nearest           14589\n",
       "days_exposition          3181\n",
       "dtype: int64"
      ]
     },
     "execution_count": 6,
     "metadata": {},
     "output_type": "execute_result"
    }
   ],
   "source": [
    "data.isna().sum()"
   ]
  },
  {
   "cell_type": "code",
   "execution_count": 7,
   "metadata": {},
   "outputs": [
    {
     "data": {
      "text/html": [
       "<style type=\"text/css\">\n",
       "#T_2a641_row0_col0, #T_2a641_row1_col0, #T_2a641_row2_col0, #T_2a641_row3_col0, #T_2a641_row4_col0, #T_2a641_row6_col0, #T_2a641_row8_col0, #T_2a641_row10_col0, #T_2a641_row11_col0, #T_2a641_row14_col0 {\n",
       "  background-color: #3b4cc0;\n",
       "  color: #f1f1f1;\n",
       "}\n",
       "#T_2a641_row5_col0 {\n",
       "  background-color: #cdd9ec;\n",
       "  color: #000000;\n",
       "}\n",
       "#T_2a641_row7_col0 {\n",
       "  background-color: #5673e0;\n",
       "  color: #f1f1f1;\n",
       "}\n",
       "#T_2a641_row9_col0 {\n",
       "  background-color: #b40426;\n",
       "  color: #f1f1f1;\n",
       "}\n",
       "#T_2a641_row12_col0 {\n",
       "  background-color: #5e7de7;\n",
       "  color: #f1f1f1;\n",
       "}\n",
       "#T_2a641_row13_col0 {\n",
       "  background-color: #ead4c8;\n",
       "  color: #000000;\n",
       "}\n",
       "#T_2a641_row15_col0, #T_2a641_row16_col0, #T_2a641_row17_col0, #T_2a641_row19_col0 {\n",
       "  background-color: #90b2fe;\n",
       "  color: #000000;\n",
       "}\n",
       "#T_2a641_row18_col0 {\n",
       "  background-color: #f4987a;\n",
       "  color: #000000;\n",
       "}\n",
       "#T_2a641_row20_col0 {\n",
       "  background-color: #f7aa8c;\n",
       "  color: #000000;\n",
       "}\n",
       "#T_2a641_row21_col0 {\n",
       "  background-color: #688aef;\n",
       "  color: #f1f1f1;\n",
       "}\n",
       "</style>\n",
       "<table id=\"T_2a641\">\n",
       "  <thead>\n",
       "    <tr>\n",
       "      <th class=\"blank level0\" >&nbsp;</th>\n",
       "      <th id=\"T_2a641_level0_col0\" class=\"col_heading level0 col0\" >0</th>\n",
       "    </tr>\n",
       "  </thead>\n",
       "  <tbody>\n",
       "    <tr>\n",
       "      <th id=\"T_2a641_level0_row0\" class=\"row_heading level0 row0\" >total_images</th>\n",
       "      <td id=\"T_2a641_row0_col0\" class=\"data row0 col0\" >0.000000</td>\n",
       "    </tr>\n",
       "    <tr>\n",
       "      <th id=\"T_2a641_level0_row1\" class=\"row_heading level0 row1\" >last_price</th>\n",
       "      <td id=\"T_2a641_row1_col0\" class=\"data row1 col0\" >0.000000</td>\n",
       "    </tr>\n",
       "    <tr>\n",
       "      <th id=\"T_2a641_level0_row2\" class=\"row_heading level0 row2\" >total_area</th>\n",
       "      <td id=\"T_2a641_row2_col0\" class=\"data row2 col0\" >0.000000</td>\n",
       "    </tr>\n",
       "    <tr>\n",
       "      <th id=\"T_2a641_level0_row3\" class=\"row_heading level0 row3\" >first_day_exposition</th>\n",
       "      <td id=\"T_2a641_row3_col0\" class=\"data row3 col0\" >0.000000</td>\n",
       "    </tr>\n",
       "    <tr>\n",
       "      <th id=\"T_2a641_level0_row4\" class=\"row_heading level0 row4\" >rooms</th>\n",
       "      <td id=\"T_2a641_row4_col0\" class=\"data row4 col0\" >0.000000</td>\n",
       "    </tr>\n",
       "    <tr>\n",
       "      <th id=\"T_2a641_level0_row5\" class=\"row_heading level0 row5\" >ceiling_height</th>\n",
       "      <td id=\"T_2a641_row5_col0\" class=\"data row5 col0\" >39.000000</td>\n",
       "    </tr>\n",
       "    <tr>\n",
       "      <th id=\"T_2a641_level0_row6\" class=\"row_heading level0 row6\" >floors_total</th>\n",
       "      <td id=\"T_2a641_row6_col0\" class=\"data row6 col0\" >0.000000</td>\n",
       "    </tr>\n",
       "    <tr>\n",
       "      <th id=\"T_2a641_level0_row7\" class=\"row_heading level0 row7\" >living_area</th>\n",
       "      <td id=\"T_2a641_row7_col0\" class=\"data row7 col0\" >8.000000</td>\n",
       "    </tr>\n",
       "    <tr>\n",
       "      <th id=\"T_2a641_level0_row8\" class=\"row_heading level0 row8\" >floor</th>\n",
       "      <td id=\"T_2a641_row8_col0\" class=\"data row8 col0\" >0.000000</td>\n",
       "    </tr>\n",
       "    <tr>\n",
       "      <th id=\"T_2a641_level0_row9\" class=\"row_heading level0 row9\" >is_apartment</th>\n",
       "      <td id=\"T_2a641_row9_col0\" class=\"data row9 col0\" >88.000000</td>\n",
       "    </tr>\n",
       "    <tr>\n",
       "      <th id=\"T_2a641_level0_row10\" class=\"row_heading level0 row10\" >studio</th>\n",
       "      <td id=\"T_2a641_row10_col0\" class=\"data row10 col0\" >0.000000</td>\n",
       "    </tr>\n",
       "    <tr>\n",
       "      <th id=\"T_2a641_level0_row11\" class=\"row_heading level0 row11\" >open_plan</th>\n",
       "      <td id=\"T_2a641_row11_col0\" class=\"data row11 col0\" >0.000000</td>\n",
       "    </tr>\n",
       "    <tr>\n",
       "      <th id=\"T_2a641_level0_row12\" class=\"row_heading level0 row12\" >kitchen_area</th>\n",
       "      <td id=\"T_2a641_row12_col0\" class=\"data row12 col0\" >10.000000</td>\n",
       "    </tr>\n",
       "    <tr>\n",
       "      <th id=\"T_2a641_level0_row13\" class=\"row_heading level0 row13\" >balcony</th>\n",
       "      <td id=\"T_2a641_row13_col0\" class=\"data row13 col0\" >49.000000</td>\n",
       "    </tr>\n",
       "    <tr>\n",
       "      <th id=\"T_2a641_level0_row14\" class=\"row_heading level0 row14\" >locality_name</th>\n",
       "      <td id=\"T_2a641_row14_col0\" class=\"data row14 col0\" >0.000000</td>\n",
       "    </tr>\n",
       "    <tr>\n",
       "      <th id=\"T_2a641_level0_row15\" class=\"row_heading level0 row15\" >airports_nearest</th>\n",
       "      <td id=\"T_2a641_row15_col0\" class=\"data row15 col0\" >23.000000</td>\n",
       "    </tr>\n",
       "    <tr>\n",
       "      <th id=\"T_2a641_level0_row16\" class=\"row_heading level0 row16\" >cityCenters_nearest</th>\n",
       "      <td id=\"T_2a641_row16_col0\" class=\"data row16 col0\" >23.000000</td>\n",
       "    </tr>\n",
       "    <tr>\n",
       "      <th id=\"T_2a641_level0_row17\" class=\"row_heading level0 row17\" >parks_around3000</th>\n",
       "      <td id=\"T_2a641_row17_col0\" class=\"data row17 col0\" >23.000000</td>\n",
       "    </tr>\n",
       "    <tr>\n",
       "      <th id=\"T_2a641_level0_row18\" class=\"row_heading level0 row18\" >parks_nearest</th>\n",
       "      <td id=\"T_2a641_row18_col0\" class=\"data row18 col0\" >66.000000</td>\n",
       "    </tr>\n",
       "    <tr>\n",
       "      <th id=\"T_2a641_level0_row19\" class=\"row_heading level0 row19\" >ponds_around3000</th>\n",
       "      <td id=\"T_2a641_row19_col0\" class=\"data row19 col0\" >23.000000</td>\n",
       "    </tr>\n",
       "    <tr>\n",
       "      <th id=\"T_2a641_level0_row20\" class=\"row_heading level0 row20\" >ponds_nearest</th>\n",
       "      <td id=\"T_2a641_row20_col0\" class=\"data row20 col0\" >62.000000</td>\n",
       "    </tr>\n",
       "    <tr>\n",
       "      <th id=\"T_2a641_level0_row21\" class=\"row_heading level0 row21\" >days_exposition</th>\n",
       "      <td id=\"T_2a641_row21_col0\" class=\"data row21 col0\" >13.000000</td>\n",
       "    </tr>\n",
       "  </tbody>\n",
       "</table>\n"
      ],
      "text/plain": [
       "<pandas.io.formats.style.Styler at 0x29be26021c0>"
      ]
     },
     "execution_count": 7,
     "metadata": {},
     "output_type": "execute_result"
    }
   ],
   "source": [
    "# Проверим также наличие пропусков в % для более полного понимания.\n",
    "pd.DataFrame(round(data.isna().mean()*100,)).style.background_gradient('coolwarm')"
   ]
  },
  {
   "cell_type": "markdown",
   "metadata": {},
   "source": [
    "Рассмотрим в каких столбцах присутствуют пропуски и попробуем их проаназировать."
   ]
  },
  {
   "cell_type": "code",
   "execution_count": 8,
   "metadata": {},
   "outputs": [],
   "source": [
    "# Заполним пропуски в столбце апартаменты, а также изменим тип данных\n",
    "data['is_apartment'] = data['is_apartment'].fillna(value=False)\n",
    "data['is_apartment'] = data['is_apartment'].astype('bool')\n",
    "# Заполним пропуски в столбце балконы, пропущенные значения заменим на 0. А также изменим тип данных.\n",
    "data['balcony'] = data['balcony'].fillna(value=0).astype(int)\n",
    "# Приведем к формату дата дату публикования объявления\n",
    "data['first_day_exposition'] = pd.to_datetime( data['first_day_exposition'], format='%Y-%m-%dT%H:%M:%S')\n",
    "# Заменим пропуски данных на 0 и приведем к целочисленному типу.\n",
    "data['parks_around3000'] = data['parks_around3000'].fillna(value=0).astype(int)\n",
    "# Приводим в целочисленный тип количество прудов. Заменим пропущенные значения на 0\n",
    "data['ponds_around3000'] = data['ponds_around3000'].fillna(value=0).astype(int)\n",
    "#Переименуем столбец расстояние до центра города\n",
    "data.rename(columns={'cityCenters_nearest' : 'city_centers_nearest'}, inplace=True)"
   ]
  },
  {
   "cell_type": "code",
   "execution_count": 9,
   "metadata": {},
   "outputs": [],
   "source": [
    "#Удалим строки с пропущенной информацией о названии населенного пункта, т.к. без этой информации мы не можем анализировать продажу недвижимости\n",
    "data.dropna(subset=['locality_name'], inplace=True)\n",
    "#Удалим строки с пропущенными значениями об этажности дома.\n",
    "data.dropna(subset=['floors_total'], inplace=True)"
   ]
  },
  {
   "cell_type": "code",
   "execution_count": 10,
   "metadata": {},
   "outputs": [
    {
     "data": {
      "text/plain": [
       "total_images                0\n",
       "last_price                  0\n",
       "total_area                  0\n",
       "first_day_exposition        0\n",
       "rooms                       0\n",
       "ceiling_height           9084\n",
       "floors_total                0\n",
       "living_area              1865\n",
       "floor                       0\n",
       "is_apartment                0\n",
       "studio                      0\n",
       "open_plan                   0\n",
       "kitchen_area             2222\n",
       "balcony                     0\n",
       "locality_name               0\n",
       "airports_nearest         5524\n",
       "city_centers_nearest     5501\n",
       "parks_around3000            0\n",
       "parks_nearest           15535\n",
       "ponds_around3000            0\n",
       "ponds_nearest           14529\n",
       "days_exposition          3171\n",
       "dtype: int64"
      ]
     },
     "execution_count": 10,
     "metadata": {},
     "output_type": "execute_result"
    }
   ],
   "source": [
    "data.isna().sum()"
   ]
  },
  {
   "cell_type": "code",
   "execution_count": 11,
   "metadata": {},
   "outputs": [
    {
     "data": {
      "text/plain": [
       "count    14481.000000\n",
       "mean         2.771283\n",
       "std          1.261983\n",
       "min          1.000000\n",
       "25%          2.510000\n",
       "50%          2.650000\n",
       "75%          2.800000\n",
       "max        100.000000\n",
       "Name: ceiling_height, dtype: float64"
      ]
     },
     "execution_count": 11,
     "metadata": {},
     "output_type": "execute_result"
    }
   ],
   "source": [
    "data['ceiling_height'].describe()"
   ]
  },
  {
   "cell_type": "code",
   "execution_count": 12,
   "metadata": {},
   "outputs": [],
   "source": [
    "#Как мы видим в данных об этажности присутствуют ошибки, т.к. максимум и минимум не соответствует стандартам строительства\n",
    "#В данных, где потолок выше 14 метров по всей видимости была пропущена точка, исправим эти данные разделив высоту потолка на 10\n",
    "data.update(data[(data['ceiling_height'] > 14)]['ceiling_height']/10)"
   ]
  },
  {
   "cell_type": "code",
   "execution_count": 13,
   "metadata": {},
   "outputs": [
    {
     "data": {
      "text/plain": [
       "76"
      ]
     },
     "execution_count": 13,
     "metadata": {},
     "output_type": "execute_result"
    },
    {
     "data": {
      "image/png": "[encoded data removed]",
      "text/plain": [
       "<Figure size 432x288 with 1 Axes>"
      ]
     },
     "metadata": {
      "needs_background": "light"
     },
     "output_type": "display_data"
    }
   ],
   "source": [
    "#Рассмотрим подробнее данные о квартирах с потолком менее 2,5 метров. \n",
    "data.query('ceiling_height < 2.5')['ceiling_height'].hist()\n",
    "data.query('ceiling_height < 2.5')['ceiling_height'].count()"
   ]
  },
  {
   "cell_type": "markdown",
   "metadata": {},
   "source": [
    "Как видно из полученных данных, несмотря на принятые стандарты, согласно которым потолок не должен быть ниже 2.5 метров, квартиры с потолками ниже этой величины имеют место быть. Судя по графику потолок от 2 метров стоит оставить, в то время как потолок менее 2 метров исключить из данных."
   ]
  },
  {
   "cell_type": "code",
   "execution_count": 14,
   "metadata": {},
   "outputs": [],
   "source": [
    "data.drop(index=data.query('ceiling_height < 2').index,inplace=True)"
   ]
  },
  {
   "cell_type": "markdown",
   "metadata": {},
   "source": [
    "Теперь, когда избавились от выбросов, необходимо заполнить пропуски. Их заменим медианными значениями. В Санкт-Петербурги потолки вероятнее выше, чем в селах, поэтому медиану рассчитаем, сгруппировав данные по населенным пунктам. Для этого необходимо сначала привести данные в столбце в порядок. "
   ]
  },
  {
   "cell_type": "code",
   "execution_count": 15,
   "metadata": {},
   "outputs": [
    {
     "data": {
      "text/plain": [
       "array(['Санкт-Петербург', 'посёлок Шушары', 'городской посёлок Янино-1',\n",
       "       'посёлок Парголово', 'посёлок Мурино', 'Ломоносов', 'Сертолово',\n",
       "       'Петергоф', 'Пушкин', 'деревня Кудрово', 'Коммунар', 'Колпино',\n",
       "       'поселок городского типа Красный Бор', 'Гатчина', 'поселок Мурино',\n",
       "       'деревня Фёдоровское', 'Выборг', 'Кронштадт', 'Кировск',\n",
       "       'деревня Новое Девяткино', 'посёлок Металлострой',\n",
       "       'посёлок городского типа Лебяжье',\n",
       "       'посёлок городского типа Сиверский', 'поселок Молодцово',\n",
       "       'поселок городского типа Кузьмоловский',\n",
       "       'садовое товарищество Новая Ропша', 'Павловск',\n",
       "       'деревня Пикколово', 'Всеволожск', 'Волхов', 'Кингисепп',\n",
       "       'Приозерск', 'Сестрорецк', 'деревня Куттузи', 'посёлок Аннино',\n",
       "       'поселок городского типа Ефимовский', 'посёлок Плодовое',\n",
       "       'деревня Заклинье', 'поселок Торковичи', 'поселок Первомайское',\n",
       "       'Красное Село', 'посёлок Понтонный', 'Сясьстрой', 'деревня Старая',\n",
       "       'деревня Лесколово', 'посёлок Новый Свет', 'Сланцы',\n",
       "       'село Путилово', 'Ивангород', 'Мурино', 'Шлиссельбург',\n",
       "       'Никольское', 'Зеленогорск', 'Сосновый Бор', 'поселок Новый Свет',\n",
       "       'деревня Оржицы', 'деревня Кальтино', 'Кудрово',\n",
       "       'поселок Романовка', 'посёлок Бугры', 'поселок Бугры',\n",
       "       'поселок городского типа Рощино', 'Кириши', 'Луга', 'Волосово',\n",
       "       'Отрадное', 'село Павлово', 'поселок Оредеж', 'село Копорье',\n",
       "       'посёлок городского типа Красный Бор', 'посёлок Молодёжное',\n",
       "       'Тихвин', 'посёлок Победа', 'деревня Нурма',\n",
       "       'поселок городского типа Синявино', 'Тосно',\n",
       "       'посёлок городского типа Кузьмоловский', 'посёлок Стрельна',\n",
       "       'Бокситогорск', 'посёлок Александровская', 'деревня Лопухинка',\n",
       "       'Пикалёво', 'поселок Терволово',\n",
       "       'поселок городского типа Советский', 'Подпорожье',\n",
       "       'посёлок Петровское', 'посёлок городского типа Токсово',\n",
       "       'поселок Сельцо', 'посёлок городского типа Вырица',\n",
       "       'деревня Кипень', 'деревня Келози', 'деревня Вартемяги',\n",
       "       'посёлок Тельмана', 'поселок Севастьяново',\n",
       "       'городской поселок Большая Ижора', 'городской посёлок Павлово',\n",
       "       'деревня Агалатово', 'посёлок Новогорелово',\n",
       "       'городской посёлок Лесогорский', 'деревня Лаголово',\n",
       "       'поселок Цвелодубово', 'поселок городского типа Рахья',\n",
       "       'поселок городского типа Вырица', 'деревня Белогорка',\n",
       "       'поселок Заводской', 'городской посёлок Новоселье',\n",
       "       'деревня Большие Колпаны', 'деревня Горбунки', 'деревня Батово',\n",
       "       'деревня Заневка', 'деревня Иссад', 'Приморск',\n",
       "       'городской посёлок Фёдоровское', 'деревня Мистолово',\n",
       "       'Новая Ладога', 'поселок Зимитицы', 'поселок Барышево',\n",
       "       'деревня Разметелево', 'поселок городского типа имени Свердлова',\n",
       "       'деревня Пеники', 'поселок Рябово', 'деревня Пудомяги',\n",
       "       'поселок станции Корнево', 'деревня Низино', 'деревня Бегуницы',\n",
       "       'посёлок Поляны', 'городской посёлок Мга', 'поселок Елизаветино',\n",
       "       'посёлок городского типа Кузнечное', 'деревня Колтуши',\n",
       "       'поселок Запорожское', 'посёлок городского типа Рощино',\n",
       "       'деревня Гостилицы', 'деревня Малое Карлино',\n",
       "       'посёлок Мичуринское', 'посёлок городского типа имени Морозова',\n",
       "       'посёлок Песочный', 'посёлок Сосново', 'деревня Аро',\n",
       "       'поселок Ильичёво', 'посёлок городского типа Тайцы',\n",
       "       'деревня Малое Верево', 'деревня Извара', 'поселок станции Вещево',\n",
       "       'село Паша', 'деревня Калитино',\n",
       "       'посёлок городского типа Ульяновка', 'деревня Чудской Бор',\n",
       "       'поселок городского типа Дубровка', 'деревня Мины',\n",
       "       'поселок Войсковицы', 'посёлок городского типа имени Свердлова',\n",
       "       'деревня Коркино', 'посёлок Ропша',\n",
       "       'поселок городского типа Приладожский', 'посёлок Щеглово',\n",
       "       'посёлок Гаврилово', 'Лодейное Поле', 'деревня Рабитицы',\n",
       "       'поселок городского типа Никольский', 'деревня Кузьмолово',\n",
       "       'деревня Малые Колпаны', 'поселок Тельмана',\n",
       "       'посёлок Петро-Славянка', 'городской посёлок Назия',\n",
       "       'посёлок Репино', 'посёлок Ильичёво', 'поселок Углово',\n",
       "       'поселок Старая Малукса', 'садовое товарищество Рахья',\n",
       "       'поселок Аннино', 'поселок Победа', 'деревня Меньково',\n",
       "       'деревня Старые Бегуницы', 'посёлок Сапёрный', 'поселок Семрино',\n",
       "       'поселок Гаврилово', 'поселок Глажево', 'поселок Кобринское',\n",
       "       'деревня Гарболово', 'деревня Юкки',\n",
       "       'поселок станции Приветнинское', 'деревня Мануйлово',\n",
       "       'деревня Пчева', 'поселок Поляны', 'поселок Цвылёво',\n",
       "       'поселок Мельниково', 'посёлок Пудость', 'посёлок Усть-Луга',\n",
       "       'Светогорск', 'Любань', 'поселок Селезнёво',\n",
       "       'поселок городского типа Рябово', 'Каменногорск', 'деревня Кривко',\n",
       "       'поселок Глебычево', 'деревня Парицы', 'поселок Жилпосёлок',\n",
       "       'посёлок городского типа Мга', 'городской поселок Янино-1',\n",
       "       'посёлок Войскорово', 'село Никольское', 'посёлок Терволово',\n",
       "       'поселок Стеклянный', 'посёлок городского типа Важины',\n",
       "       'посёлок Мыза-Ивановка', 'село Русско-Высоцкое',\n",
       "       'поселок городского типа Лебяжье',\n",
       "       'поселок городского типа Форносово', 'село Старая Ладога',\n",
       "       'поселок Житково', 'городской посёлок Виллози', 'деревня Лампово',\n",
       "       'деревня Шпаньково', 'деревня Лаврики', 'посёлок Сумино',\n",
       "       'посёлок Возрождение', 'деревня Старосиверская',\n",
       "       'посёлок Кикерино', 'поселок Возрождение',\n",
       "       'деревня Старое Хинколово', 'посёлок Пригородный',\n",
       "       'посёлок Торфяное', 'городской посёлок Будогощь',\n",
       "       'поселок Суходолье', 'поселок Красная Долина', 'деревня Хапо-Ое',\n",
       "       'поселок городского типа Дружная Горка', 'поселок Лисий Нос',\n",
       "       'деревня Яльгелево', 'посёлок Стеклянный', 'село Рождествено',\n",
       "       'деревня Старополье', 'посёлок Левашово', 'деревня Сяськелево',\n",
       "       'деревня Камышовка',\n",
       "       'садоводческое некоммерческое товарищество Лесная Поляна',\n",
       "       'деревня Хязельки', 'поселок Жилгородок',\n",
       "       'посёлок городского типа Павлово', 'деревня Ялгино',\n",
       "       'поселок Новый Учхоз', 'городской посёлок Рощино',\n",
       "       'поселок Гончарово', 'поселок Почап', 'посёлок Сапёрное',\n",
       "       'посёлок Платформа 69-й километр', 'поселок Каложицы',\n",
       "       'деревня Фалилеево', 'деревня Пельгора',\n",
       "       'поселок городского типа Лесогорский', 'деревня Торошковичи',\n",
       "       'посёлок Белоостров', 'посёлок Алексеевка', 'поселок Серебрянский',\n",
       "       'поселок Лукаши', 'поселок Петровское', 'деревня Щеглово',\n",
       "       'поселок Мичуринское', 'деревня Тарасово', 'поселок Кингисеппский',\n",
       "       'посёлок при железнодорожной станции Вещево', 'поселок Ушаки',\n",
       "       'деревня Котлы', 'деревня Сижно', 'деревня Торосово',\n",
       "       'посёлок Форт Красная Горка', 'деревня Новолисино',\n",
       "       'посёлок станции Громово', 'деревня Глинка', 'посёлок Мельниково',\n",
       "       'поселок городского типа Назия', 'деревня Старая Пустошь',\n",
       "       'поселок Коммунары', 'поселок Починок',\n",
       "       'посёлок городского типа Вознесенье', 'деревня Разбегаево',\n",
       "       'посёлок городского типа Рябово', 'поселок Гладкое',\n",
       "       'посёлок при железнодорожной станции Приветнинское',\n",
       "       'поселок Тёсово-4', 'посёлок Жилгородок', 'деревня Бор',\n",
       "       'посёлок Коробицыно', 'деревня Большая Вруда', 'деревня Курковицы',\n",
       "       'посёлок Лисий Нос', 'городской посёлок Советский',\n",
       "       'посёлок Кобралово', 'деревня Суоранда', 'поселок Кобралово',\n",
       "       'поселок городского типа Кондратьево',\n",
       "       'коттеджный поселок Счастье', 'поселок Любань', 'деревня Реброво',\n",
       "       'деревня Зимитицы', 'деревня Тойворово', 'поселок Семиозерье',\n",
       "       'поселок Лесное', 'поселок Совхозный', 'поселок Усть-Луга',\n",
       "       'посёлок Ленинское', 'посёлок Суйда',\n",
       "       'посёлок городского типа Форносово', 'деревня Нижние Осельки',\n",
       "       'посёлок станции Свирь', 'поселок Перово', 'Высоцк',\n",
       "       'поселок Гарболово', 'село Шум', 'поселок Котельский',\n",
       "       'поселок станции Лужайка', 'деревня Большая Пустомержа',\n",
       "       'поселок Красносельское', 'деревня Вахнова Кара', 'деревня Пижма',\n",
       "       'коттеджный поселок Кивеннапа Север', 'поселок Коробицыно',\n",
       "       'поселок Ромашки', 'посёлок Перово', 'деревня Каськово',\n",
       "       'деревня Куровицы', 'посёлок Плоское', 'поселок Сумино',\n",
       "       'поселок городского типа Большая Ижора', 'поселок Кирпичное',\n",
       "       'деревня Ям-Тесово', 'деревня Раздолье', 'деревня Терпилицы',\n",
       "       'поселок городского типа Токсово', 'посёлок Шугозеро',\n",
       "       'деревня Ваганово', 'поселок Пушное', 'садовое товарищество Садко',\n",
       "       'посёлок Усть-Ижора', 'деревня Выскатка',\n",
       "       'городской посёлок Свирьстрой', 'поселок Громово',\n",
       "       'деревня Кисельня', 'посёлок Старая Малукса',\n",
       "       'деревня Трубников Бор', 'поселок Калитино',\n",
       "       'посёлок Высокоключевой', 'садовое товарищество Приладожский',\n",
       "       'посёлок Пансионат Зелёный Бор', 'деревня Ненимяки',\n",
       "       'поселок Пансионат Зелёный Бор', 'деревня Снегирёвка',\n",
       "       'деревня Рапполово', 'деревня Пустынка', 'поселок Рабитицы',\n",
       "       'деревня Большой Сабск', 'деревня Русско', 'деревня Лупполово',\n",
       "       'деревня Большое Рейзино', 'деревня Малая Романовка',\n",
       "       'поселок Дружноселье', 'поселок Пчевжа', 'поселок Володарское',\n",
       "       'деревня Нижняя', 'коттеджный посёлок Лесное', 'деревня Тихковицы',\n",
       "       'деревня Борисова Грива', 'посёлок Дзержинского'], dtype=object)"
      ]
     },
     "execution_count": 15,
     "metadata": {},
     "output_type": "execute_result"
    }
   ],
   "source": [
    "data['locality_name'].unique()"
   ]
  },
  {
   "cell_type": "code",
   "execution_count": 16,
   "metadata": {},
   "outputs": [
    {
     "data": {
      "text/plain": [
       "364"
      ]
     },
     "execution_count": 16,
     "metadata": {},
     "output_type": "execute_result"
    }
   ],
   "source": [
    "data['locality_name'].nunique()"
   ]
  },
  {
   "cell_type": "markdown",
   "metadata": {},
   "source": [
    "При таких названиях  нельзя корректно анализировать данные в разрезе населенных пунктов. Необходимо привести названия населенных пунктов к единому формату."
   ]
  },
  {
   "cell_type": "code",
   "execution_count": 17,
   "metadata": {},
   "outputs": [],
   "source": [
    "def clean(name):\n",
    "    splited_name = name.split(' ')\n",
    "    words_for_remove = {'село', 'поселок', 'посёлок', 'городской', 'деревня', 'типа', \\\n",
    "                        'городского', 'пансионат', 'садовое', 'товарищество', 'коттеджный', \\\n",
    "                        'при', 'железнодорожной', 'станции', 'садоводческое', 'коммерческое'} #set()\n",
    "    good_words = [word for word in splited_name if word.lower() not in words_for_remove]\n",
    "    return ' '.join(good_words)\n",
    "data['locality_name'] = data['locality_name'].apply(clean)"
   ]
  },
  {
   "cell_type": "code",
   "execution_count": 18,
   "metadata": {},
   "outputs": [
    {
     "data": {
      "text/plain": [
       "array(['Санкт-Петербург', 'Шушары', 'Янино-1', 'Парголово', 'Мурино',\n",
       "       'Ломоносов', 'Сертолово', 'Петергоф', 'Пушкин', 'Кудрово',\n",
       "       'Коммунар', 'Колпино', 'Красный Бор', 'Гатчина', 'Фёдоровское',\n",
       "       'Выборг', 'Кронштадт', 'Кировск', 'Новое Девяткино',\n",
       "       'Металлострой', 'Лебяжье', 'Сиверский', 'Молодцово',\n",
       "       'Кузьмоловский', 'Новая Ропша', 'Павловск', 'Пикколово',\n",
       "       'Всеволожск', 'Волхов', 'Кингисепп', 'Приозерск', 'Сестрорецк',\n",
       "       'Куттузи', 'Аннино', 'Ефимовский', 'Плодовое', 'Заклинье',\n",
       "       'Торковичи', 'Первомайское', 'Красное', 'Понтонный', 'Сясьстрой',\n",
       "       'Старая', 'Лесколово', 'Новый Свет', 'Сланцы', 'Путилово',\n",
       "       'Ивангород', 'Шлиссельбург', 'Никольское', 'Зеленогорск',\n",
       "       'Сосновый Бор', 'Оржицы', 'Кальтино', 'Романовка', 'Бугры',\n",
       "       'Рощино', 'Кириши', 'Луга', 'Волосово', 'Отрадное', 'Павлово',\n",
       "       'Оредеж', 'Копорье', 'Молодёжное', 'Тихвин', 'Победа', 'Нурма',\n",
       "       'Синявино', 'Тосно', 'Стрельна', 'Бокситогорск', 'Александровская',\n",
       "       'Лопухинка', 'Пикалёво', 'Терволово', 'Советский', 'Подпорожье',\n",
       "       'Петровское', 'Токсово', 'Сельцо', 'Вырица', 'Кипень', 'Келози',\n",
       "       'Вартемяги', 'Тельмана', 'Севастьяново', 'Большая Ижора',\n",
       "       'Агалатово', 'Новогорелово', 'Лесогорский', 'Лаголово',\n",
       "       'Цвелодубово', 'Рахья', 'Белогорка', 'Заводской', 'Новоселье',\n",
       "       'Большие Колпаны', 'Горбунки', 'Батово', 'Заневка', 'Иссад',\n",
       "       'Приморск', 'Мистолово', 'Новая Ладога', 'Зимитицы', 'Барышево',\n",
       "       'Разметелево', 'имени Свердлова', 'Пеники', 'Рябово', 'Пудомяги',\n",
       "       'Корнево', 'Низино', 'Бегуницы', 'Поляны', 'Мга', 'Елизаветино',\n",
       "       'Кузнечное', 'Колтуши', 'Запорожское', 'Гостилицы',\n",
       "       'Малое Карлино', 'Мичуринское', 'имени Морозова', 'Песочный',\n",
       "       'Сосново', 'Аро', 'Ильичёво', 'Тайцы', 'Малое Верево', 'Извара',\n",
       "       'Вещево', 'Паша', 'Калитино', 'Ульяновка', 'Чудской Бор',\n",
       "       'Дубровка', 'Мины', 'Войсковицы', 'Коркино', 'Ропша',\n",
       "       'Приладожский', 'Щеглово', 'Гаврилово', 'Лодейное Поле',\n",
       "       'Рабитицы', 'Никольский', 'Кузьмолово', 'Малые Колпаны',\n",
       "       'Петро-Славянка', 'Назия', 'Репино', 'Углово', 'Старая Малукса',\n",
       "       'Меньково', 'Старые Бегуницы', 'Сапёрный', 'Семрино', 'Глажево',\n",
       "       'Кобринское', 'Гарболово', 'Юкки', 'Приветнинское', 'Мануйлово',\n",
       "       'Пчева', 'Цвылёво', 'Мельниково', 'Пудость', 'Усть-Луга',\n",
       "       'Светогорск', 'Любань', 'Селезнёво', 'Каменногорск', 'Кривко',\n",
       "       'Глебычево', 'Парицы', 'Жилпосёлок', 'Войскорово', 'Стеклянный',\n",
       "       'Важины', 'Мыза-Ивановка', 'Русско-Высоцкое', 'Форносово',\n",
       "       'Старая Ладога', 'Житково', 'Виллози', 'Лампово', 'Шпаньково',\n",
       "       'Лаврики', 'Сумино', 'Возрождение', 'Старосиверская', 'Кикерино',\n",
       "       'Старое Хинколово', 'Пригородный', 'Торфяное', 'Будогощь',\n",
       "       'Суходолье', 'Красная Долина', 'Хапо-Ое', 'Дружная Горка',\n",
       "       'Лисий Нос', 'Яльгелево', 'Рождествено', 'Старополье', 'Левашово',\n",
       "       'Сяськелево', 'Камышовка', 'некоммерческое Лесная Поляна',\n",
       "       'Хязельки', 'Жилгородок', 'Ялгино', 'Новый Учхоз', 'Гончарово',\n",
       "       'Почап', 'Сапёрное', 'Платформа 69-й километр', 'Каложицы',\n",
       "       'Фалилеево', 'Пельгора', 'Торошковичи', 'Белоостров', 'Алексеевка',\n",
       "       'Серебрянский', 'Лукаши', 'Тарасово', 'Кингисеппский', 'Ушаки',\n",
       "       'Котлы', 'Сижно', 'Торосово', 'Форт Красная Горка', 'Новолисино',\n",
       "       'Громово', 'Глинка', 'Старая Пустошь', 'Коммунары', 'Починок',\n",
       "       'Вознесенье', 'Разбегаево', 'Гладкое', 'Тёсово-4', 'Бор',\n",
       "       'Коробицыно', 'Большая Вруда', 'Курковицы', 'Кобралово',\n",
       "       'Суоранда', 'Кондратьево', 'Счастье', 'Реброво', 'Тойворово',\n",
       "       'Семиозерье', 'Лесное', 'Совхозный', 'Ленинское', 'Суйда',\n",
       "       'Нижние Осельки', 'Свирь', 'Перово', 'Высоцк', 'Шум', 'Котельский',\n",
       "       'Лужайка', 'Большая Пустомержа', 'Красносельское', 'Вахнова Кара',\n",
       "       'Пижма', 'Кивеннапа Север', 'Ромашки', 'Каськово', 'Куровицы',\n",
       "       'Плоское', 'Кирпичное', 'Ям-Тесово', 'Раздолье', 'Терпилицы',\n",
       "       'Шугозеро', 'Ваганово', 'Пушное', 'Садко', 'Усть-Ижора',\n",
       "       'Выскатка', 'Свирьстрой', 'Кисельня', 'Трубников Бор',\n",
       "       'Высокоключевой', 'Зелёный Бор', 'Ненимяки', 'Снегирёвка',\n",
       "       'Рапполово', 'Пустынка', 'Большой Сабск', 'Русско', 'Лупполово',\n",
       "       'Большое Рейзино', 'Малая Романовка', 'Дружноселье', 'Пчевжа',\n",
       "       'Володарское', 'Нижняя', 'Тихковицы', 'Борисова Грива',\n",
       "       'Дзержинского'], dtype=object)"
      ]
     },
     "execution_count": 18,
     "metadata": {},
     "output_type": "execute_result"
    }
   ],
   "source": [
    "data['locality_name'].unique()"
   ]
  },
  {
   "cell_type": "code",
   "execution_count": 19,
   "metadata": {},
   "outputs": [
    {
     "data": {
      "text/plain": [
       "305"
      ]
     },
     "execution_count": 19,
     "metadata": {},
     "output_type": "execute_result"
    }
   ],
   "source": [
    "data['locality_name'].nunique()"
   ]
  },
  {
   "cell_type": "markdown",
   "metadata": {},
   "source": [
    "Теперь, когда устранены неявные дубликаты в наименовании населенных пунктов, заполним пропущенные значения в столбце высота потолков медианами. Медианы расчитаем с учетом группировки по населенным пунктам."
   ]
  },
  {
   "cell_type": "code",
   "execution_count": 20,
   "metadata": {},
   "outputs": [],
   "source": [
    "import warnings #импортируем библиотеку\n",
    "\n",
    "warnings.filterwarnings('ignore') # отключаем предупреждения"
   ]
  },
  {
   "cell_type": "code",
   "execution_count": 21,
   "metadata": {},
   "outputs": [
    {
     "data": {
      "text/plain": [
       "count    23562.000000\n",
       "mean         2.705504\n",
       "std          0.257228\n",
       "min          2.000000\n",
       "25%          2.550000\n",
       "50%          2.700000\n",
       "75%          2.700000\n",
       "max         14.000000\n",
       "Name: ceiling_height, dtype: float64"
      ]
     },
     "execution_count": 21,
     "metadata": {},
     "output_type": "execute_result"
    }
   ],
   "source": [
    "data['ceiling_height'] = data.groupby(['locality_name'])['ceiling_height'].apply(lambda x: x.fillna(x.median()))\n",
    "data['ceiling_height'] = data['ceiling_height'].fillna(data['ceiling_height'].median())\n",
    "data['ceiling_height'].describe()"
   ]
  },
  {
   "cell_type": "code",
   "execution_count": 22,
   "metadata": {},
   "outputs": [
    {
     "data": {
      "text/plain": [
       "count    23562.000000\n",
       "mean        60.324656\n",
       "std         35.658884\n",
       "min         12.000000\n",
       "25%         40.000000\n",
       "50%         52.000000\n",
       "75%         69.700000\n",
       "max        900.000000\n",
       "Name: total_area, dtype: float64"
      ]
     },
     "execution_count": 22,
     "metadata": {},
     "output_type": "execute_result"
    }
   ],
   "source": [
    "data['total_area'].describe()"
   ]
  },
  {
   "cell_type": "code",
   "execution_count": 23,
   "metadata": {},
   "outputs": [
    {
     "name": "stdout",
     "output_type": "stream",
     "text": [
      "Диаграмма размаха площади квартиры\n"
     ]
    },
    {
     "data": {
      "image/png": "[encoded data removed]",
      "text/plain": [
       "<Figure size 360x720 with 1 Axes>"
      ]
     },
     "metadata": {
      "needs_background": "light"
     },
     "output_type": "display_data"
    }
   ],
   "source": [
    "print('Диаграмма размаха площади квартиры')\n",
    "data.boxplot(column=['total_area'], figsize=(5,10), grid=True)\n",
    "plt.ylabel('Площадь квартиры в метрах')\n",
    "plt.show()"
   ]
  },
  {
   "cell_type": "code",
   "execution_count": 24,
   "metadata": {},
   "outputs": [
    {
     "data": {
      "text/plain": [
       "23"
      ]
     },
     "execution_count": 24,
     "metadata": {},
     "output_type": "execute_result"
    }
   ],
   "source": [
    "data.loc[data['total_area'] > 400, 'total_area'].count()"
   ]
  },
  {
   "cell_type": "code",
   "execution_count": 25,
   "metadata": {},
   "outputs": [
    {
     "data": {
      "text/plain": [
       "6"
      ]
     },
     "execution_count": 25,
     "metadata": {},
     "output_type": "execute_result"
    }
   ],
   "source": [
    "data.loc[data['total_area'] < 15, 'total_area'].count()"
   ]
  },
  {
   "cell_type": "markdown",
   "metadata": {},
   "source": [
    "Уберем из данных аномальные значения на основании диаграммы размаха, а именно квартиры с площадью менее 15 кв.м, т.к. такие квартиры не могут существовать согласно установленным стандартам, а также очень большие квартиры свыше 400 кв. м"
   ]
  },
  {
   "cell_type": "code",
   "execution_count": 26,
   "metadata": {},
   "outputs": [],
   "source": [
    "data.drop(index=data.query('total_area > 400').index,inplace=True)\n",
    "data.drop(index=data.query('total_area < 15').index,inplace=True)"
   ]
  },
  {
   "cell_type": "code",
   "execution_count": 27,
   "metadata": {},
   "outputs": [
    {
     "data": {
      "image/png": "[encoded data removed]",
      "text/plain": [
       "<Figure size 432x288 with 1 Axes>"
      ]
     },
     "metadata": {
      "needs_background": "light"
     },
     "output_type": "display_data"
    },
    {
     "data": {
      "image/png": "[encoded data removed]",
      "text/plain": [
       "<Figure size 432x288 with 1 Axes>"
      ]
     },
     "metadata": {
      "needs_background": "light"
     },
     "output_type": "display_data"
    }
   ],
   "source": [
    "data.hist('total_area', bins=100, range=(0,400))\n",
    "data.hist('total_area', bins=100, range=(0,100))\n",
    "plt.show()"
   ]
  },
  {
   "cell_type": "markdown",
   "metadata": {},
   "source": [
    "Теперь рассмотрим подробнее данные о жилой площади."
   ]
  },
  {
   "cell_type": "code",
   "execution_count": 28,
   "metadata": {},
   "outputs": [
    {
     "data": {
      "text/plain": [
       "count    21677.000000\n",
       "mean        34.268318\n",
       "std         20.855988\n",
       "min          2.000000\n",
       "25%         18.600000\n",
       "50%         30.000000\n",
       "75%         42.260000\n",
       "max        264.500000\n",
       "Name: living_area, dtype: float64"
      ]
     },
     "execution_count": 28,
     "metadata": {},
     "output_type": "execute_result"
    },
    {
     "data": {
      "image/png": "[encoded data removed]",
      "text/plain": [
       "<Figure size 432x288 with 1 Axes>"
      ]
     },
     "metadata": {
      "needs_background": "light"
     },
     "output_type": "display_data"
    }
   ],
   "source": [
    "data['living_area'].hist(bins=50, range=(0,200))\n",
    "data['living_area'].describe()"
   ]
  },
  {
   "cell_type": "markdown",
   "metadata": {},
   "source": [
    "Согласно действующим СниПам жилая комната не может быть меньше 8 кв.м. "
   ]
  },
  {
   "cell_type": "code",
   "execution_count": 29,
   "metadata": {},
   "outputs": [
    {
     "data": {
      "text/plain": [
       "8"
      ]
     },
     "execution_count": 29,
     "metadata": {},
     "output_type": "execute_result"
    }
   ],
   "source": [
    "data.loc[data['living_area'] < 8, 'living_area'].count()"
   ]
  },
  {
   "cell_type": "code",
   "execution_count": 30,
   "metadata": {},
   "outputs": [
    {
     "name": "stdout",
     "output_type": "stream",
     "text": [
      "Диаграмма размаха жилой площади\n"
     ]
    },
    {
     "data": {
      "image/png": "[encoded data removed]",
      "text/plain": [
       "<Figure size 360x720 with 1 Axes>"
      ]
     },
     "metadata": {
      "needs_background": "light"
     },
     "output_type": "display_data"
    }
   ],
   "source": [
    "print('Диаграмма размаха жилой площади')\n",
    "data.boxplot(column=['living_area'], figsize=(5,10), grid=True)\n",
    "plt.ylabel('Площадь квартиры в метрах')\n",
    "plt.show()"
   ]
  },
  {
   "cell_type": "code",
   "execution_count": 31,
   "metadata": {},
   "outputs": [
    {
     "data": {
      "text/plain": [
       "15"
      ]
     },
     "execution_count": 31,
     "metadata": {},
     "output_type": "execute_result"
    }
   ],
   "source": [
    "data.loc[data['living_area'] > 200, 'living_area'].count()"
   ]
  },
  {
   "cell_type": "markdown",
   "metadata": {},
   "source": [
    "Избавимся от явного выброса - квартиры с жилой площадью более 200 кв м"
   ]
  },
  {
   "cell_type": "markdown",
   "metadata": {},
   "source": [
    "Информация в столбце о жилой площади во многом отсутствует, тогда как общая площадь квартиры заполнена полностью. По всей видимости, люди просто не знали жилую площадь квартиры. Заполним пропуски, рассчитав среднюю долю жилой площади квартир."
   ]
  },
  {
   "cell_type": "code",
   "execution_count": 32,
   "metadata": {},
   "outputs": [],
   "source": [
    "data.drop(index=data.query('living_area > 200').index,inplace=True)\n",
    "data.drop(index=data.query('living_area < 8').index,inplace=True)\n",
    "living_share = data['living_area'].mean() / data['total_area'].mean()\n",
    "data['living_area'].fillna(living_share * data['total_area'], inplace=True)"
   ]
  },
  {
   "cell_type": "markdown",
   "metadata": {},
   "source": [
    "Теперь прозведем те же действия с даными о площади кухни."
   ]
  },
  {
   "cell_type": "code",
   "execution_count": 33,
   "metadata": {},
   "outputs": [
    {
     "data": {
      "text/plain": [
       "count    21300.000000\n",
       "mean        10.513911\n",
       "std          5.714777\n",
       "min          1.300000\n",
       "25%          7.000000\n",
       "50%          9.100000\n",
       "75%         12.000000\n",
       "max        107.000000\n",
       "Name: kitchen_area, dtype: float64"
      ]
     },
     "execution_count": 33,
     "metadata": {},
     "output_type": "execute_result"
    }
   ],
   "source": [
    "data['kitchen_area'].describe()"
   ]
  },
  {
   "cell_type": "code",
   "execution_count": 34,
   "metadata": {},
   "outputs": [
    {
     "name": "stdout",
     "output_type": "stream",
     "text": [
      "Диаграмма размаха площади кухни\n"
     ]
    },
    {
     "data": {
      "image/png": "[encoded data removed]",
      "text/plain": [
       "<Figure size 360x720 with 1 Axes>"
      ]
     },
     "metadata": {
      "needs_background": "light"
     },
     "output_type": "display_data"
    }
   ],
   "source": [
    "print('Диаграмма размаха площади кухни')\n",
    "data.boxplot(column=['kitchen_area'], figsize=(5,10), grid=True)\n",
    "plt.ylabel('Площадь квартиры в метрах')\n",
    "plt.show()"
   ]
  },
  {
   "cell_type": "code",
   "execution_count": 35,
   "metadata": {},
   "outputs": [
    {
     "name": "stdout",
     "output_type": "stream",
     "text": [
      "Количество квартир с кухнями площадью менее 3 кв.м: 10\n",
      "Количество квартир с кухнями площадью более 80 кв.м: 5\n"
     ]
    }
   ],
   "source": [
    "print('Количество квартир с кухнями площадью менее 3 кв.м:', data.loc[data['kitchen_area'] < 3, 'kitchen_area'].count())\n",
    "print('Количество квартир с кухнями площадью более 80 кв.м:', data.loc[data['kitchen_area'] > 80, 'kitchen_area'].count())"
   ]
  },
  {
   "cell_type": "code",
   "execution_count": 36,
   "metadata": {},
   "outputs": [],
   "source": [
    "data.drop(index=data.query('kitchen_area > 80').index,inplace=True)\n",
    "data.drop(index=data.query('kitchen_area < 3').index,inplace=True)\n",
    "kitchen_share = data['kitchen_area'].mean() / data['total_area'].mean()\n",
    "data['kitchen_area'].fillna(living_share * data['total_area'], inplace=True)"
   ]
  },
  {
   "cell_type": "code",
   "execution_count": 37,
   "metadata": {},
   "outputs": [
    {
     "data": {
      "text/plain": [
       "0"
      ]
     },
     "execution_count": 37,
     "metadata": {},
     "output_type": "execute_result"
    }
   ],
   "source": [
    "# Проверим наличие явных дубликатов\n",
    "data.duplicated().sum()"
   ]
  },
  {
   "cell_type": "code",
   "execution_count": 38,
   "metadata": {},
   "outputs": [
    {
     "name": "stdout",
     "output_type": "stream",
     "text": [
      "<class 'pandas.core.frame.DataFrame'>\n",
      "Int64Index: 23495 entries, 0 to 23698\n",
      "Data columns (total 22 columns):\n",
      " #   Column                Non-Null Count  Dtype         \n",
      "---  ------                --------------  -----         \n",
      " 0   total_images          23495 non-null  int64         \n",
      " 1   last_price            23495 non-null  float64       \n",
      " 2   total_area            23495 non-null  float64       \n",
      " 3   first_day_exposition  23495 non-null  datetime64[ns]\n",
      " 4   rooms                 23495 non-null  int64         \n",
      " 5   ceiling_height        23495 non-null  float64       \n",
      " 6   floors_total          23495 non-null  float64       \n",
      " 7   living_area           23495 non-null  float64       \n",
      " 8   floor                 23495 non-null  int64         \n",
      " 9   is_apartment          23495 non-null  bool          \n",
      " 10  studio                23495 non-null  bool          \n",
      " 11  open_plan             23495 non-null  bool          \n",
      " 12  kitchen_area          23495 non-null  float64       \n",
      " 13  balcony               23495 non-null  int32         \n",
      " 14  locality_name         23495 non-null  object        \n",
      " 15  airports_nearest      17977 non-null  float64       \n",
      " 16  city_centers_nearest  17998 non-null  float64       \n",
      " 17  parks_around3000      23495 non-null  int32         \n",
      " 18  parks_nearest         7990 non-null   float64       \n",
      " 19  ponds_around3000      23495 non-null  int32         \n",
      " 20  ponds_nearest         8995 non-null   float64       \n",
      " 21  days_exposition       20333 non-null  float64       \n",
      "dtypes: bool(3), datetime64[ns](1), float64(11), int32(3), int64(3), object(1)\n",
      "memory usage: 3.4+ MB\n"
     ]
    }
   ],
   "source": [
    "data.info()"
   ]
  },
  {
   "cell_type": "markdown",
   "metadata": {},
   "source": [
    "**Выводы**"
   ]
  },
  {
   "cell_type": "markdown",
   "metadata": {},
   "source": [
    "Итак, пропуски остались в столбцах  airports_nearest, city_centers_nearest, parks_nearest, ponds_nearest. Их мы заполнить не можем, т.к. нет смежных данных, позволяющих это сделать, а рзброс в самих данных может быть большим и заполнение пропсуков лишь исказит статистику.\n",
    "Столбец days_exposition также имеет пропуск, в случае с ним будем считать что объявление еще актуально на момент выгрузки.\n",
    "\n",
    "Подведем итоги в чем состояла предобработка данных и какие выводы на основании нее мы можем сделать:\n",
    "* Были удалены пропуски в столбцах locality_name и floors_total. \n",
    "* Заменены пропсуки на 0 в стобцах: balcony, parks_around3000, ponds_around3000\n",
    "* В столбце is_apartment пропуски заменены на False и изменен формат на булев.\n",
    "* В столбце first_day_exposition измененформат на дату\n",
    "* В столбце ceiling_height устранены ошибки (неверное написание высоты, пропуск точки), кроме того исключили потолки ниже 2 метров и выше 14 метров. Остальные пропуски заполнены медианными значениями, рассчитами по населенным пунктам.\n",
    "* В столбце locality_name все названия населенных пунктов приведены к единому формату(оставлено только название) во избежание дублирования информации. На будущем стоит рассмотреть вопрос о закрытом списке населенных пунктов во избежание дублирования и некорректного указания вида населенного пункта\n",
    "* В столбце  total_area убрали аномальные значения, а именно квартиры с площадью менее 15 кв.м, а также очень большие квартиры свыше 400 кв. м\n",
    "* В столбцах living_area и kitchen_area были залнены проски на основании средней доли этих площадей в квартирах. Исключили аномальные значения жилой площади менее 8 и более 20 кв.м, а также кухни площадью более 80 кв.м\n",
    "\n",
    "Многие данные не загружены или отстутвуют, что усложняет анализ данных."
   ]
  },
  {
   "cell_type": "markdown",
   "metadata": {},
   "source": []
  },
  {
   "cell_type": "markdown",
   "metadata": {},
   "source": [
    "### Посчитайте и добавьте в таблицу новые столбцы"
   ]
  },
  {
   "cell_type": "code",
   "execution_count": 39,
   "metadata": {
    "scrolled": true
   },
   "outputs": [
    {
     "data": {
      "text/html": [
       "<div>\n",
       "<style scoped>\n",
       "    .dataframe tbody tr th:only-of-type {\n",
       "        vertical-align: middle;\n",
       "    }\n",
       "\n",
       "    .dataframe tbody tr th {\n",
       "        vertical-align: top;\n",
       "    }\n",
       "\n",
       "    .dataframe thead th {\n",
       "        text-align: right;\n",
       "    }\n",
       "</style>\n",
       "<table border=\"1\" class=\"dataframe\">\n",
       "  <thead>\n",
       "    <tr style=\"text-align: right;\">\n",
       "      <th></th>\n",
       "      <th>total_images</th>\n",
       "      <th>last_price</th>\n",
       "      <th>total_area</th>\n",
       "      <th>first_day_exposition</th>\n",
       "      <th>rooms</th>\n",
       "      <th>ceiling_height</th>\n",
       "      <th>floors_total</th>\n",
       "      <th>living_area</th>\n",
       "      <th>floor</th>\n",
       "      <th>is_apartment</th>\n",
       "      <th>...</th>\n",
       "      <th>balcony</th>\n",
       "      <th>locality_name</th>\n",
       "      <th>airports_nearest</th>\n",
       "      <th>city_centers_nearest</th>\n",
       "      <th>parks_around3000</th>\n",
       "      <th>parks_nearest</th>\n",
       "      <th>ponds_around3000</th>\n",
       "      <th>ponds_nearest</th>\n",
       "      <th>days_exposition</th>\n",
       "      <th>price_per_meter</th>\n",
       "    </tr>\n",
       "  </thead>\n",
       "  <tbody>\n",
       "    <tr>\n",
       "      <th>0</th>\n",
       "      <td>20</td>\n",
       "      <td>13000000.0</td>\n",
       "      <td>108.0</td>\n",
       "      <td>2019-03-07</td>\n",
       "      <td>3</td>\n",
       "      <td>2.700</td>\n",
       "      <td>16.0</td>\n",
       "      <td>51.000000</td>\n",
       "      <td>8</td>\n",
       "      <td>False</td>\n",
       "      <td>...</td>\n",
       "      <td>0</td>\n",
       "      <td>Санкт-Петербург</td>\n",
       "      <td>18863.0</td>\n",
       "      <td>16028.0</td>\n",
       "      <td>1</td>\n",
       "      <td>482.0</td>\n",
       "      <td>2</td>\n",
       "      <td>755.0</td>\n",
       "      <td>NaN</td>\n",
       "      <td>120370.37</td>\n",
       "    </tr>\n",
       "    <tr>\n",
       "      <th>1</th>\n",
       "      <td>7</td>\n",
       "      <td>3350000.0</td>\n",
       "      <td>40.4</td>\n",
       "      <td>2018-12-04</td>\n",
       "      <td>1</td>\n",
       "      <td>2.615</td>\n",
       "      <td>11.0</td>\n",
       "      <td>18.600000</td>\n",
       "      <td>1</td>\n",
       "      <td>False</td>\n",
       "      <td>...</td>\n",
       "      <td>2</td>\n",
       "      <td>Шушары</td>\n",
       "      <td>12817.0</td>\n",
       "      <td>18603.0</td>\n",
       "      <td>0</td>\n",
       "      <td>NaN</td>\n",
       "      <td>0</td>\n",
       "      <td>NaN</td>\n",
       "      <td>81.0</td>\n",
       "      <td>82920.79</td>\n",
       "    </tr>\n",
       "    <tr>\n",
       "      <th>2</th>\n",
       "      <td>10</td>\n",
       "      <td>5196000.0</td>\n",
       "      <td>56.0</td>\n",
       "      <td>2015-08-20</td>\n",
       "      <td>2</td>\n",
       "      <td>2.700</td>\n",
       "      <td>5.0</td>\n",
       "      <td>34.300000</td>\n",
       "      <td>4</td>\n",
       "      <td>False</td>\n",
       "      <td>...</td>\n",
       "      <td>0</td>\n",
       "      <td>Санкт-Петербург</td>\n",
       "      <td>21741.0</td>\n",
       "      <td>13933.0</td>\n",
       "      <td>1</td>\n",
       "      <td>90.0</td>\n",
       "      <td>2</td>\n",
       "      <td>574.0</td>\n",
       "      <td>558.0</td>\n",
       "      <td>92785.71</td>\n",
       "    </tr>\n",
       "    <tr>\n",
       "      <th>3</th>\n",
       "      <td>0</td>\n",
       "      <td>64900000.0</td>\n",
       "      <td>159.0</td>\n",
       "      <td>2015-07-24</td>\n",
       "      <td>3</td>\n",
       "      <td>2.700</td>\n",
       "      <td>14.0</td>\n",
       "      <td>90.876415</td>\n",
       "      <td>9</td>\n",
       "      <td>False</td>\n",
       "      <td>...</td>\n",
       "      <td>0</td>\n",
       "      <td>Санкт-Петербург</td>\n",
       "      <td>28098.0</td>\n",
       "      <td>6800.0</td>\n",
       "      <td>2</td>\n",
       "      <td>84.0</td>\n",
       "      <td>3</td>\n",
       "      <td>234.0</td>\n",
       "      <td>424.0</td>\n",
       "      <td>408176.10</td>\n",
       "    </tr>\n",
       "    <tr>\n",
       "      <th>4</th>\n",
       "      <td>2</td>\n",
       "      <td>10000000.0</td>\n",
       "      <td>100.0</td>\n",
       "      <td>2018-06-19</td>\n",
       "      <td>2</td>\n",
       "      <td>3.030</td>\n",
       "      <td>14.0</td>\n",
       "      <td>32.000000</td>\n",
       "      <td>13</td>\n",
       "      <td>False</td>\n",
       "      <td>...</td>\n",
       "      <td>0</td>\n",
       "      <td>Санкт-Петербург</td>\n",
       "      <td>31856.0</td>\n",
       "      <td>8098.0</td>\n",
       "      <td>2</td>\n",
       "      <td>112.0</td>\n",
       "      <td>1</td>\n",
       "      <td>48.0</td>\n",
       "      <td>121.0</td>\n",
       "      <td>100000.00</td>\n",
       "    </tr>\n",
       "  </tbody>\n",
       "</table>\n",
       "<p>5 rows × 23 columns</p>\n",
       "</div>"
      ],
      "text/plain": [
       "   total_images  last_price  total_area first_day_exposition  rooms  \\\n",
       "0            20  13000000.0       108.0           2019-03-07      3   \n",
       "1             7   3350000.0        40.4           2018-12-04      1   \n",
       "2            10   5196000.0        56.0           2015-08-20      2   \n",
       "3             0  64900000.0       159.0           2015-07-24      3   \n",
       "4             2  10000000.0       100.0           2018-06-19      2   \n",
       "\n",
       "   ceiling_height  floors_total  living_area  floor  is_apartment  ...  \\\n",
       "0           2.700          16.0    51.000000      8         False  ...   \n",
       "1           2.615          11.0    18.600000      1         False  ...   \n",
       "2           2.700           5.0    34.300000      4         False  ...   \n",
       "3           2.700          14.0    90.876415      9         False  ...   \n",
       "4           3.030          14.0    32.000000     13         False  ...   \n",
       "\n",
       "   balcony    locality_name  airports_nearest  city_centers_nearest  \\\n",
       "0        0  Санкт-Петербург           18863.0               16028.0   \n",
       "1        2           Шушары           12817.0               18603.0   \n",
       "2        0  Санкт-Петербург           21741.0               13933.0   \n",
       "3        0  Санкт-Петербург           28098.0                6800.0   \n",
       "4        0  Санкт-Петербург           31856.0                8098.0   \n",
       "\n",
       "  parks_around3000  parks_nearest  ponds_around3000  ponds_nearest  \\\n",
       "0                1          482.0                 2          755.0   \n",
       "1                0            NaN                 0            NaN   \n",
       "2                1           90.0                 2          574.0   \n",
       "3                2           84.0                 3          234.0   \n",
       "4                2          112.0                 1           48.0   \n",
       "\n",
       "   days_exposition  price_per_meter  \n",
       "0              NaN        120370.37  \n",
       "1             81.0         82920.79  \n",
       "2            558.0         92785.71  \n",
       "3            424.0        408176.10  \n",
       "4            121.0        100000.00  \n",
       "\n",
       "[5 rows x 23 columns]"
      ]
     },
     "execution_count": 39,
     "metadata": {},
     "output_type": "execute_result"
    }
   ],
   "source": [
    "# Добавим столбец цена за метр\n",
    "data['price_per_meter'] = round(data['last_price'] / data['total_area'],2)\n",
    "data.head()"
   ]
  },
  {
   "cell_type": "code",
   "execution_count": 40,
   "metadata": {},
   "outputs": [
    {
     "data": {
      "text/html": [
       "<div>\n",
       "<style scoped>\n",
       "    .dataframe tbody tr th:only-of-type {\n",
       "        vertical-align: middle;\n",
       "    }\n",
       "\n",
       "    .dataframe tbody tr th {\n",
       "        vertical-align: top;\n",
       "    }\n",
       "\n",
       "    .dataframe thead th {\n",
       "        text-align: right;\n",
       "    }\n",
       "</style>\n",
       "<table border=\"1\" class=\"dataframe\">\n",
       "  <thead>\n",
       "    <tr style=\"text-align: right;\">\n",
       "      <th></th>\n",
       "      <th>total_images</th>\n",
       "      <th>last_price</th>\n",
       "      <th>total_area</th>\n",
       "      <th>first_day_exposition</th>\n",
       "      <th>rooms</th>\n",
       "      <th>ceiling_height</th>\n",
       "      <th>floors_total</th>\n",
       "      <th>living_area</th>\n",
       "      <th>floor</th>\n",
       "      <th>is_apartment</th>\n",
       "      <th>...</th>\n",
       "      <th>city_centers_nearest</th>\n",
       "      <th>parks_around3000</th>\n",
       "      <th>parks_nearest</th>\n",
       "      <th>ponds_around3000</th>\n",
       "      <th>ponds_nearest</th>\n",
       "      <th>days_exposition</th>\n",
       "      <th>price_per_meter</th>\n",
       "      <th>day_of_publication</th>\n",
       "      <th>month_of_publication</th>\n",
       "      <th>year_of_publication</th>\n",
       "    </tr>\n",
       "  </thead>\n",
       "  <tbody>\n",
       "    <tr>\n",
       "      <th>0</th>\n",
       "      <td>20</td>\n",
       "      <td>13000000.0</td>\n",
       "      <td>108.0</td>\n",
       "      <td>2019-03-07</td>\n",
       "      <td>3</td>\n",
       "      <td>2.700</td>\n",
       "      <td>16.0</td>\n",
       "      <td>51.000000</td>\n",
       "      <td>8</td>\n",
       "      <td>False</td>\n",
       "      <td>...</td>\n",
       "      <td>16028.0</td>\n",
       "      <td>1</td>\n",
       "      <td>482.0</td>\n",
       "      <td>2</td>\n",
       "      <td>755.0</td>\n",
       "      <td>NaN</td>\n",
       "      <td>120370.37</td>\n",
       "      <td>3</td>\n",
       "      <td>3</td>\n",
       "      <td>2019</td>\n",
       "    </tr>\n",
       "    <tr>\n",
       "      <th>1</th>\n",
       "      <td>7</td>\n",
       "      <td>3350000.0</td>\n",
       "      <td>40.4</td>\n",
       "      <td>2018-12-04</td>\n",
       "      <td>1</td>\n",
       "      <td>2.615</td>\n",
       "      <td>11.0</td>\n",
       "      <td>18.600000</td>\n",
       "      <td>1</td>\n",
       "      <td>False</td>\n",
       "      <td>...</td>\n",
       "      <td>18603.0</td>\n",
       "      <td>0</td>\n",
       "      <td>NaN</td>\n",
       "      <td>0</td>\n",
       "      <td>NaN</td>\n",
       "      <td>81.0</td>\n",
       "      <td>82920.79</td>\n",
       "      <td>1</td>\n",
       "      <td>12</td>\n",
       "      <td>2018</td>\n",
       "    </tr>\n",
       "    <tr>\n",
       "      <th>2</th>\n",
       "      <td>10</td>\n",
       "      <td>5196000.0</td>\n",
       "      <td>56.0</td>\n",
       "      <td>2015-08-20</td>\n",
       "      <td>2</td>\n",
       "      <td>2.700</td>\n",
       "      <td>5.0</td>\n",
       "      <td>34.300000</td>\n",
       "      <td>4</td>\n",
       "      <td>False</td>\n",
       "      <td>...</td>\n",
       "      <td>13933.0</td>\n",
       "      <td>1</td>\n",
       "      <td>90.0</td>\n",
       "      <td>2</td>\n",
       "      <td>574.0</td>\n",
       "      <td>558.0</td>\n",
       "      <td>92785.71</td>\n",
       "      <td>3</td>\n",
       "      <td>8</td>\n",
       "      <td>2015</td>\n",
       "    </tr>\n",
       "    <tr>\n",
       "      <th>3</th>\n",
       "      <td>0</td>\n",
       "      <td>64900000.0</td>\n",
       "      <td>159.0</td>\n",
       "      <td>2015-07-24</td>\n",
       "      <td>3</td>\n",
       "      <td>2.700</td>\n",
       "      <td>14.0</td>\n",
       "      <td>90.876415</td>\n",
       "      <td>9</td>\n",
       "      <td>False</td>\n",
       "      <td>...</td>\n",
       "      <td>6800.0</td>\n",
       "      <td>2</td>\n",
       "      <td>84.0</td>\n",
       "      <td>3</td>\n",
       "      <td>234.0</td>\n",
       "      <td>424.0</td>\n",
       "      <td>408176.10</td>\n",
       "      <td>4</td>\n",
       "      <td>7</td>\n",
       "      <td>2015</td>\n",
       "    </tr>\n",
       "    <tr>\n",
       "      <th>4</th>\n",
       "      <td>2</td>\n",
       "      <td>10000000.0</td>\n",
       "      <td>100.0</td>\n",
       "      <td>2018-06-19</td>\n",
       "      <td>2</td>\n",
       "      <td>3.030</td>\n",
       "      <td>14.0</td>\n",
       "      <td>32.000000</td>\n",
       "      <td>13</td>\n",
       "      <td>False</td>\n",
       "      <td>...</td>\n",
       "      <td>8098.0</td>\n",
       "      <td>2</td>\n",
       "      <td>112.0</td>\n",
       "      <td>1</td>\n",
       "      <td>48.0</td>\n",
       "      <td>121.0</td>\n",
       "      <td>100000.00</td>\n",
       "      <td>1</td>\n",
       "      <td>6</td>\n",
       "      <td>2018</td>\n",
       "    </tr>\n",
       "  </tbody>\n",
       "</table>\n",
       "<p>5 rows × 26 columns</p>\n",
       "</div>"
      ],
      "text/plain": [
       "   total_images  last_price  total_area first_day_exposition  rooms  \\\n",
       "0            20  13000000.0       108.0           2019-03-07      3   \n",
       "1             7   3350000.0        40.4           2018-12-04      1   \n",
       "2            10   5196000.0        56.0           2015-08-20      2   \n",
       "3             0  64900000.0       159.0           2015-07-24      3   \n",
       "4             2  10000000.0       100.0           2018-06-19      2   \n",
       "\n",
       "   ceiling_height  floors_total  living_area  floor  is_apartment  ...  \\\n",
       "0           2.700          16.0    51.000000      8         False  ...   \n",
       "1           2.615          11.0    18.600000      1         False  ...   \n",
       "2           2.700           5.0    34.300000      4         False  ...   \n",
       "3           2.700          14.0    90.876415      9         False  ...   \n",
       "4           3.030          14.0    32.000000     13         False  ...   \n",
       "\n",
       "   city_centers_nearest  parks_around3000  parks_nearest  ponds_around3000  \\\n",
       "0               16028.0                 1          482.0                 2   \n",
       "1               18603.0                 0            NaN                 0   \n",
       "2               13933.0                 1           90.0                 2   \n",
       "3                6800.0                 2           84.0                 3   \n",
       "4                8098.0                 2          112.0                 1   \n",
       "\n",
       "  ponds_nearest  days_exposition  price_per_meter  day_of_publication  \\\n",
       "0         755.0              NaN        120370.37                   3   \n",
       "1           NaN             81.0         82920.79                   1   \n",
       "2         574.0            558.0         92785.71                   3   \n",
       "3         234.0            424.0        408176.10                   4   \n",
       "4          48.0            121.0        100000.00                   1   \n",
       "\n",
       "   month_of_publication  year_of_publication  \n",
       "0                     3                 2019  \n",
       "1                    12                 2018  \n",
       "2                     8                 2015  \n",
       "3                     7                 2015  \n",
       "4                     6                 2018  \n",
       "\n",
       "[5 rows x 26 columns]"
      ]
     },
     "execution_count": 40,
     "metadata": {},
     "output_type": "execute_result"
    }
   ],
   "source": [
    "# Добавим столбец день недели публикации объявления, месяц и год\n",
    "data['day_of_publication'] = data['first_day_exposition'].dt.dayofweek\n",
    "data['month_of_publication'] = data['first_day_exposition'].dt.month\n",
    "data['year_of_publication'] = data['first_day_exposition'].dt.year\n",
    "data.head()"
   ]
  },
  {
   "cell_type": "code",
   "execution_count": 41,
   "metadata": {},
   "outputs": [
    {
     "data": {
      "text/html": [
       "<div>\n",
       "<style scoped>\n",
       "    .dataframe tbody tr th:only-of-type {\n",
       "        vertical-align: middle;\n",
       "    }\n",
       "\n",
       "    .dataframe tbody tr th {\n",
       "        vertical-align: top;\n",
       "    }\n",
       "\n",
       "    .dataframe thead th {\n",
       "        text-align: right;\n",
       "    }\n",
       "</style>\n",
       "<table border=\"1\" class=\"dataframe\">\n",
       "  <thead>\n",
       "    <tr style=\"text-align: right;\">\n",
       "      <th></th>\n",
       "      <th>total_images</th>\n",
       "      <th>last_price</th>\n",
       "      <th>total_area</th>\n",
       "      <th>first_day_exposition</th>\n",
       "      <th>rooms</th>\n",
       "      <th>ceiling_height</th>\n",
       "      <th>floors_total</th>\n",
       "      <th>living_area</th>\n",
       "      <th>floor</th>\n",
       "      <th>is_apartment</th>\n",
       "      <th>...</th>\n",
       "      <th>parks_around3000</th>\n",
       "      <th>parks_nearest</th>\n",
       "      <th>ponds_around3000</th>\n",
       "      <th>ponds_nearest</th>\n",
       "      <th>days_exposition</th>\n",
       "      <th>price_per_meter</th>\n",
       "      <th>day_of_publication</th>\n",
       "      <th>month_of_publication</th>\n",
       "      <th>year_of_publication</th>\n",
       "      <th>floor_type</th>\n",
       "    </tr>\n",
       "  </thead>\n",
       "  <tbody>\n",
       "    <tr>\n",
       "      <th>0</th>\n",
       "      <td>20</td>\n",
       "      <td>13000000.0</td>\n",
       "      <td>108.0</td>\n",
       "      <td>2019-03-07</td>\n",
       "      <td>3</td>\n",
       "      <td>2.700</td>\n",
       "      <td>16.0</td>\n",
       "      <td>51.000000</td>\n",
       "      <td>8</td>\n",
       "      <td>False</td>\n",
       "      <td>...</td>\n",
       "      <td>1</td>\n",
       "      <td>482.0</td>\n",
       "      <td>2</td>\n",
       "      <td>755.0</td>\n",
       "      <td>NaN</td>\n",
       "      <td>120370.37</td>\n",
       "      <td>3</td>\n",
       "      <td>3</td>\n",
       "      <td>2019</td>\n",
       "      <td>другой</td>\n",
       "    </tr>\n",
       "    <tr>\n",
       "      <th>1</th>\n",
       "      <td>7</td>\n",
       "      <td>3350000.0</td>\n",
       "      <td>40.4</td>\n",
       "      <td>2018-12-04</td>\n",
       "      <td>1</td>\n",
       "      <td>2.615</td>\n",
       "      <td>11.0</td>\n",
       "      <td>18.600000</td>\n",
       "      <td>1</td>\n",
       "      <td>False</td>\n",
       "      <td>...</td>\n",
       "      <td>0</td>\n",
       "      <td>NaN</td>\n",
       "      <td>0</td>\n",
       "      <td>NaN</td>\n",
       "      <td>81.0</td>\n",
       "      <td>82920.79</td>\n",
       "      <td>1</td>\n",
       "      <td>12</td>\n",
       "      <td>2018</td>\n",
       "      <td>первый</td>\n",
       "    </tr>\n",
       "    <tr>\n",
       "      <th>2</th>\n",
       "      <td>10</td>\n",
       "      <td>5196000.0</td>\n",
       "      <td>56.0</td>\n",
       "      <td>2015-08-20</td>\n",
       "      <td>2</td>\n",
       "      <td>2.700</td>\n",
       "      <td>5.0</td>\n",
       "      <td>34.300000</td>\n",
       "      <td>4</td>\n",
       "      <td>False</td>\n",
       "      <td>...</td>\n",
       "      <td>1</td>\n",
       "      <td>90.0</td>\n",
       "      <td>2</td>\n",
       "      <td>574.0</td>\n",
       "      <td>558.0</td>\n",
       "      <td>92785.71</td>\n",
       "      <td>3</td>\n",
       "      <td>8</td>\n",
       "      <td>2015</td>\n",
       "      <td>другой</td>\n",
       "    </tr>\n",
       "    <tr>\n",
       "      <th>3</th>\n",
       "      <td>0</td>\n",
       "      <td>64900000.0</td>\n",
       "      <td>159.0</td>\n",
       "      <td>2015-07-24</td>\n",
       "      <td>3</td>\n",
       "      <td>2.700</td>\n",
       "      <td>14.0</td>\n",
       "      <td>90.876415</td>\n",
       "      <td>9</td>\n",
       "      <td>False</td>\n",
       "      <td>...</td>\n",
       "      <td>2</td>\n",
       "      <td>84.0</td>\n",
       "      <td>3</td>\n",
       "      <td>234.0</td>\n",
       "      <td>424.0</td>\n",
       "      <td>408176.10</td>\n",
       "      <td>4</td>\n",
       "      <td>7</td>\n",
       "      <td>2015</td>\n",
       "      <td>другой</td>\n",
       "    </tr>\n",
       "    <tr>\n",
       "      <th>4</th>\n",
       "      <td>2</td>\n",
       "      <td>10000000.0</td>\n",
       "      <td>100.0</td>\n",
       "      <td>2018-06-19</td>\n",
       "      <td>2</td>\n",
       "      <td>3.030</td>\n",
       "      <td>14.0</td>\n",
       "      <td>32.000000</td>\n",
       "      <td>13</td>\n",
       "      <td>False</td>\n",
       "      <td>...</td>\n",
       "      <td>2</td>\n",
       "      <td>112.0</td>\n",
       "      <td>1</td>\n",
       "      <td>48.0</td>\n",
       "      <td>121.0</td>\n",
       "      <td>100000.00</td>\n",
       "      <td>1</td>\n",
       "      <td>6</td>\n",
       "      <td>2018</td>\n",
       "      <td>другой</td>\n",
       "    </tr>\n",
       "  </tbody>\n",
       "</table>\n",
       "<p>5 rows × 27 columns</p>\n",
       "</div>"
      ],
      "text/plain": [
       "   total_images  last_price  total_area first_day_exposition  rooms  \\\n",
       "0            20  13000000.0       108.0           2019-03-07      3   \n",
       "1             7   3350000.0        40.4           2018-12-04      1   \n",
       "2            10   5196000.0        56.0           2015-08-20      2   \n",
       "3             0  64900000.0       159.0           2015-07-24      3   \n",
       "4             2  10000000.0       100.0           2018-06-19      2   \n",
       "\n",
       "   ceiling_height  floors_total  living_area  floor  is_apartment  ...  \\\n",
       "0           2.700          16.0    51.000000      8         False  ...   \n",
       "1           2.615          11.0    18.600000      1         False  ...   \n",
       "2           2.700           5.0    34.300000      4         False  ...   \n",
       "3           2.700          14.0    90.876415      9         False  ...   \n",
       "4           3.030          14.0    32.000000     13         False  ...   \n",
       "\n",
       "   parks_around3000  parks_nearest  ponds_around3000  ponds_nearest  \\\n",
       "0                 1          482.0                 2          755.0   \n",
       "1                 0            NaN                 0            NaN   \n",
       "2                 1           90.0                 2          574.0   \n",
       "3                 2           84.0                 3          234.0   \n",
       "4                 2          112.0                 1           48.0   \n",
       "\n",
       "  days_exposition  price_per_meter  day_of_publication  month_of_publication  \\\n",
       "0             NaN        120370.37                   3                     3   \n",
       "1            81.0         82920.79                   1                    12   \n",
       "2           558.0         92785.71                   3                     8   \n",
       "3           424.0        408176.10                   4                     7   \n",
       "4           121.0        100000.00                   1                     6   \n",
       "\n",
       "   year_of_publication  floor_type  \n",
       "0                 2019      другой  \n",
       "1                 2018      первый  \n",
       "2                 2015      другой  \n",
       "3                 2015      другой  \n",
       "4                 2018      другой  \n",
       "\n",
       "[5 rows x 27 columns]"
      ]
     },
     "execution_count": 41,
     "metadata": {},
     "output_type": "execute_result"
    }
   ],
   "source": [
    "# Добавим столбец с типом этажа квартиры (первый, последний, другой)\n",
    "def floor(row):\n",
    "    if row['floor'] == 1:\n",
    "        return 'первый'\n",
    "    if row['floor'] == row['floors_total']:\n",
    "        return 'последний'\n",
    "    else: \n",
    "        return 'другой'\n",
    "data['floor_type'] = data.apply(floor, axis=1)    \n",
    "data.head()"
   ]
  },
  {
   "cell_type": "code",
   "execution_count": 42,
   "metadata": {},
   "outputs": [
    {
     "data": {
      "text/html": [
       "<div>\n",
       "<style scoped>\n",
       "    .dataframe tbody tr th:only-of-type {\n",
       "        vertical-align: middle;\n",
       "    }\n",
       "\n",
       "    .dataframe tbody tr th {\n",
       "        vertical-align: top;\n",
       "    }\n",
       "\n",
       "    .dataframe thead th {\n",
       "        text-align: right;\n",
       "    }\n",
       "</style>\n",
       "<table border=\"1\" class=\"dataframe\">\n",
       "  <thead>\n",
       "    <tr style=\"text-align: right;\">\n",
       "      <th></th>\n",
       "      <th>total_images</th>\n",
       "      <th>last_price</th>\n",
       "      <th>total_area</th>\n",
       "      <th>first_day_exposition</th>\n",
       "      <th>rooms</th>\n",
       "      <th>ceiling_height</th>\n",
       "      <th>floors_total</th>\n",
       "      <th>living_area</th>\n",
       "      <th>floor</th>\n",
       "      <th>is_apartment</th>\n",
       "      <th>...</th>\n",
       "      <th>parks_nearest</th>\n",
       "      <th>ponds_around3000</th>\n",
       "      <th>ponds_nearest</th>\n",
       "      <th>days_exposition</th>\n",
       "      <th>price_per_meter</th>\n",
       "      <th>day_of_publication</th>\n",
       "      <th>month_of_publication</th>\n",
       "      <th>year_of_publication</th>\n",
       "      <th>floor_type</th>\n",
       "      <th>city_centers_nearest_km</th>\n",
       "    </tr>\n",
       "  </thead>\n",
       "  <tbody>\n",
       "    <tr>\n",
       "      <th>0</th>\n",
       "      <td>20</td>\n",
       "      <td>13000000.0</td>\n",
       "      <td>108.0</td>\n",
       "      <td>2019-03-07</td>\n",
       "      <td>3</td>\n",
       "      <td>2.700</td>\n",
       "      <td>16.0</td>\n",
       "      <td>51.000000</td>\n",
       "      <td>8</td>\n",
       "      <td>False</td>\n",
       "      <td>...</td>\n",
       "      <td>482.0</td>\n",
       "      <td>2</td>\n",
       "      <td>755.0</td>\n",
       "      <td>NaN</td>\n",
       "      <td>120370.37</td>\n",
       "      <td>3</td>\n",
       "      <td>3</td>\n",
       "      <td>2019</td>\n",
       "      <td>другой</td>\n",
       "      <td>16.0</td>\n",
       "    </tr>\n",
       "    <tr>\n",
       "      <th>1</th>\n",
       "      <td>7</td>\n",
       "      <td>3350000.0</td>\n",
       "      <td>40.4</td>\n",
       "      <td>2018-12-04</td>\n",
       "      <td>1</td>\n",
       "      <td>2.615</td>\n",
       "      <td>11.0</td>\n",
       "      <td>18.600000</td>\n",
       "      <td>1</td>\n",
       "      <td>False</td>\n",
       "      <td>...</td>\n",
       "      <td>NaN</td>\n",
       "      <td>0</td>\n",
       "      <td>NaN</td>\n",
       "      <td>81.0</td>\n",
       "      <td>82920.79</td>\n",
       "      <td>1</td>\n",
       "      <td>12</td>\n",
       "      <td>2018</td>\n",
       "      <td>первый</td>\n",
       "      <td>19.0</td>\n",
       "    </tr>\n",
       "    <tr>\n",
       "      <th>2</th>\n",
       "      <td>10</td>\n",
       "      <td>5196000.0</td>\n",
       "      <td>56.0</td>\n",
       "      <td>2015-08-20</td>\n",
       "      <td>2</td>\n",
       "      <td>2.700</td>\n",
       "      <td>5.0</td>\n",
       "      <td>34.300000</td>\n",
       "      <td>4</td>\n",
       "      <td>False</td>\n",
       "      <td>...</td>\n",
       "      <td>90.0</td>\n",
       "      <td>2</td>\n",
       "      <td>574.0</td>\n",
       "      <td>558.0</td>\n",
       "      <td>92785.71</td>\n",
       "      <td>3</td>\n",
       "      <td>8</td>\n",
       "      <td>2015</td>\n",
       "      <td>другой</td>\n",
       "      <td>14.0</td>\n",
       "    </tr>\n",
       "    <tr>\n",
       "      <th>3</th>\n",
       "      <td>0</td>\n",
       "      <td>64900000.0</td>\n",
       "      <td>159.0</td>\n",
       "      <td>2015-07-24</td>\n",
       "      <td>3</td>\n",
       "      <td>2.700</td>\n",
       "      <td>14.0</td>\n",
       "      <td>90.876415</td>\n",
       "      <td>9</td>\n",
       "      <td>False</td>\n",
       "      <td>...</td>\n",
       "      <td>84.0</td>\n",
       "      <td>3</td>\n",
       "      <td>234.0</td>\n",
       "      <td>424.0</td>\n",
       "      <td>408176.10</td>\n",
       "      <td>4</td>\n",
       "      <td>7</td>\n",
       "      <td>2015</td>\n",
       "      <td>другой</td>\n",
       "      <td>7.0</td>\n",
       "    </tr>\n",
       "    <tr>\n",
       "      <th>4</th>\n",
       "      <td>2</td>\n",
       "      <td>10000000.0</td>\n",
       "      <td>100.0</td>\n",
       "      <td>2018-06-19</td>\n",
       "      <td>2</td>\n",
       "      <td>3.030</td>\n",
       "      <td>14.0</td>\n",
       "      <td>32.000000</td>\n",
       "      <td>13</td>\n",
       "      <td>False</td>\n",
       "      <td>...</td>\n",
       "      <td>112.0</td>\n",
       "      <td>1</td>\n",
       "      <td>48.0</td>\n",
       "      <td>121.0</td>\n",
       "      <td>100000.00</td>\n",
       "      <td>1</td>\n",
       "      <td>6</td>\n",
       "      <td>2018</td>\n",
       "      <td>другой</td>\n",
       "      <td>8.0</td>\n",
       "    </tr>\n",
       "  </tbody>\n",
       "</table>\n",
       "<p>5 rows × 28 columns</p>\n",
       "</div>"
      ],
      "text/plain": [
       "   total_images  last_price  total_area first_day_exposition  rooms  \\\n",
       "0            20  13000000.0       108.0           2019-03-07      3   \n",
       "1             7   3350000.0        40.4           2018-12-04      1   \n",
       "2            10   5196000.0        56.0           2015-08-20      2   \n",
       "3             0  64900000.0       159.0           2015-07-24      3   \n",
       "4             2  10000000.0       100.0           2018-06-19      2   \n",
       "\n",
       "   ceiling_height  floors_total  living_area  floor  is_apartment  ...  \\\n",
       "0           2.700          16.0    51.000000      8         False  ...   \n",
       "1           2.615          11.0    18.600000      1         False  ...   \n",
       "2           2.700           5.0    34.300000      4         False  ...   \n",
       "3           2.700          14.0    90.876415      9         False  ...   \n",
       "4           3.030          14.0    32.000000     13         False  ...   \n",
       "\n",
       "   parks_nearest  ponds_around3000  ponds_nearest  days_exposition  \\\n",
       "0          482.0                 2          755.0              NaN   \n",
       "1            NaN                 0            NaN             81.0   \n",
       "2           90.0                 2          574.0            558.0   \n",
       "3           84.0                 3          234.0            424.0   \n",
       "4          112.0                 1           48.0            121.0   \n",
       "\n",
       "  price_per_meter  day_of_publication  month_of_publication  \\\n",
       "0       120370.37                   3                     3   \n",
       "1        82920.79                   1                    12   \n",
       "2        92785.71                   3                     8   \n",
       "3       408176.10                   4                     7   \n",
       "4       100000.00                   1                     6   \n",
       "\n",
       "   year_of_publication  floor_type  city_centers_nearest_km  \n",
       "0                 2019      другой                     16.0  \n",
       "1                 2018      первый                     19.0  \n",
       "2                 2015      другой                     14.0  \n",
       "3                 2015      другой                      7.0  \n",
       "4                 2018      другой                      8.0  \n",
       "\n",
       "[5 rows x 28 columns]"
      ]
     },
     "execution_count": 42,
     "metadata": {},
     "output_type": "execute_result"
    }
   ],
   "source": [
    "# Добавим столбец с расстоянием до центра города в километрах.\n",
    "data['city_centers_nearest_km'] = round(data['city_centers_nearest'] / 1000)\n",
    "data['city_centers_nearest_km'] = data['city_centers_nearest_km'].astype('int', errors='ignore')\n",
    "data.head()"
   ]
  },
  {
   "cell_type": "markdown",
   "metadata": {},
   "source": [
    "### Проведите исследовательский анализ данных"
   ]
  },
  {
   "cell_type": "markdown",
   "metadata": {},
   "source": [
    "#### Анализ параметров объектов:\n",
    "##### Общая площадь"
   ]
  },
  {
   "cell_type": "code",
   "execution_count": 43,
   "metadata": {},
   "outputs": [
    {
     "data": {
      "text/plain": [
       "count    23495.000000\n",
       "mean        59.707192\n",
       "std         31.788280\n",
       "min         15.000000\n",
       "25%         40.000000\n",
       "50%         52.000000\n",
       "75%         69.500000\n",
       "max        400.000000\n",
       "Name: total_area, dtype: float64"
      ]
     },
     "execution_count": 43,
     "metadata": {},
     "output_type": "execute_result"
    }
   ],
   "source": [
    "data['total_area'].describe()"
   ]
  },
  {
   "cell_type": "code",
   "execution_count": 44,
   "metadata": {},
   "outputs": [
    {
     "data": {
      "image/png": "[encoded data removed]",
      "text/plain": [
       "<Figure size 432x288 with 1 Axes>"
      ]
     },
     "metadata": {
      "needs_background": "light"
     },
     "output_type": "display_data"
    }
   ],
   "source": [
    "plt.hist(data['total_area'], bins=30, range=(10,200), color = 'steelblue')\n",
    "plt.title('Площадь квартир')\n",
    "plt.xlabel('Квадратные метры')\n",
    "plt.ylabel('Количество квартир')\n",
    "plt.grid(True)\n",
    "plt.show()"
   ]
  },
  {
   "cell_type": "markdown",
   "metadata": {},
   "source": [
    "На диаграмме видно, что основная доля квартир с площадью в пределах от 25 до 100 кв. м. При этом стоит отметить большее число объявлений с площадью 30-50 кв.м"
   ]
  },
  {
   "cell_type": "code",
   "execution_count": 45,
   "metadata": {},
   "outputs": [
    {
     "name": "stdout",
     "output_type": "stream",
     "text": [
      "Наибольшие по площади варианты:\n",
      "5873     400.0\n",
      "1388     399.0\n",
      "8822     398.0\n",
      "7674     380.0\n",
      "5042     380.0\n",
      "21990    373.1\n",
      "19392    371.0\n",
      "581      365.0\n",
      "19961    365.0\n",
      "10684    364.7\n",
      "Name: total_area, dtype: float64\n"
     ]
    }
   ],
   "source": [
    "print('Наибольшие по площади варианты:')\n",
    "print(data['total_area'].sort_values(ascending=False).head(10))"
   ]
  },
  {
   "cell_type": "markdown",
   "metadata": {},
   "source": [
    "##### Жилая площадь"
   ]
  },
  {
   "cell_type": "code",
   "execution_count": 46,
   "metadata": {},
   "outputs": [
    {
     "data": {
      "text/plain": [
       "count    23495.000000\n",
       "mean        34.235923\n",
       "std         20.230898\n",
       "min          8.000000\n",
       "25%         19.000000\n",
       "50%         30.000000\n",
       "75%         42.000000\n",
       "max        228.619912\n",
       "Name: living_area, dtype: float64"
      ]
     },
     "execution_count": 46,
     "metadata": {},
     "output_type": "execute_result"
    }
   ],
   "source": [
    "data['living_area'].describe()"
   ]
  },
  {
   "cell_type": "code",
   "execution_count": 47,
   "metadata": {},
   "outputs": [
    {
     "data": {
      "image/png": "[encoded data removed]",
      "text/plain": [
       "<Figure size 432x288 with 1 Axes>"
      ]
     },
     "metadata": {
      "needs_background": "light"
     },
     "output_type": "display_data"
    }
   ],
   "source": [
    "plt.hist(data['living_area'], bins=30, range=(10,200), color = 'steelblue')\n",
    "plt.title('Жилая площадь квартир')\n",
    "plt.xlabel('Квадратные метры')\n",
    "plt.ylabel('Количество квартир')\n",
    "plt.grid(True)\n",
    "plt.show()"
   ]
  },
  {
   "cell_type": "markdown",
   "metadata": {},
   "source": [
    "Большая часть квартир имеет жилую площадь 20-60 кв.м На диаграмме виден всплекс количества квартир с жилой площадью 23-24 кв.м и 30 кв.м"
   ]
  },
  {
   "cell_type": "code",
   "execution_count": 48,
   "metadata": {},
   "outputs": [
    {
     "name": "stdout",
     "output_type": "stream",
     "text": [
      "Наибольшие по площади варианты:\n",
      "5873     229.0\n",
      "1388     228.0\n",
      "19392    212.0\n",
      "581      209.0\n",
      "10684    208.0\n",
      "6183     208.0\n",
      "10246    200.0\n",
      "22907    200.0\n",
      "13397    199.0\n",
      "5042     198.0\n",
      "Name: living_area, dtype: float64\n"
     ]
    }
   ],
   "source": [
    "print('Наибольшие по площади варианты:')\n",
    "print(data['living_area'].sort_values(ascending=False).head(10).round())"
   ]
  },
  {
   "cell_type": "markdown",
   "metadata": {},
   "source": [
    "##### Площадь кухни"
   ]
  },
  {
   "cell_type": "code",
   "execution_count": 92,
   "metadata": {},
   "outputs": [
    {
     "data": {
      "text/plain": [
       "count    23495.0\n",
       "mean        13.0\n",
       "std         10.0\n",
       "min          3.0\n",
       "25%          7.0\n",
       "50%         10.0\n",
       "75%         13.0\n",
       "max        229.0\n",
       "Name: kitchen_area, dtype: float64"
      ]
     },
     "execution_count": 92,
     "metadata": {},
     "output_type": "execute_result"
    }
   ],
   "source": [
    "data['kitchen_area'].describe().round()"
   ]
  },
  {
   "cell_type": "code",
   "execution_count": 50,
   "metadata": {},
   "outputs": [
    {
     "data": {
      "image/png": "[encoded data removed]",
      "text/plain": [
       "<Figure size 432x288 with 1 Axes>"
      ]
     },
     "metadata": {
      "needs_background": "light"
     },
     "output_type": "display_data"
    }
   ],
   "source": [
    "plt.hist(data['kitchen_area'], bins=30, range=(0,60), color = 'steelblue')\n",
    "plt.title('Площадь кухни')\n",
    "plt.xlabel('Квадратные метры')\n",
    "plt.ylabel('Количество квартир')\n",
    "plt.grid(True)\n",
    "plt.show()"
   ]
  },
  {
   "cell_type": "markdown",
   "metadata": {},
   "source": [
    "Основная доля распределения по площади кухонь приходится на квартиры с площадью 5-15 кв.м"
   ]
  },
  {
   "cell_type": "code",
   "execution_count": 93,
   "metadata": {},
   "outputs": [
    {
     "name": "stdout",
     "output_type": "stream",
     "text": [
      "Наибольшие по площади варианты:\n",
      "5873     229.0\n",
      "1388     228.0\n",
      "7674     217.0\n",
      "19392    212.0\n",
      "581      209.0\n",
      "10684    208.0\n",
      "155      181.0\n",
      "11436    181.0\n",
      "2243     174.0\n",
      "10181    169.0\n",
      "Name: kitchen_area, dtype: float64\n"
     ]
    }
   ],
   "source": [
    "print('Наибольшие по площади варианты:')\n",
    "print(data['kitchen_area'].sort_values(ascending=False).head(10).round())"
   ]
  },
  {
   "cell_type": "markdown",
   "metadata": {},
   "source": [
    "##### Цена объекта"
   ]
  },
  {
   "cell_type": "code",
   "execution_count": 52,
   "metadata": {},
   "outputs": [
    {
     "data": {
      "text/plain": [
       "count    2.349500e+04\n",
       "mean     6.340761e+06\n",
       "std      7.954894e+06\n",
       "min      1.219000e+04\n",
       "25%      3.400000e+06\n",
       "50%      4.626540e+06\n",
       "75%      6.750000e+06\n",
       "max      3.300000e+08\n",
       "Name: last_price, dtype: float64"
      ]
     },
     "execution_count": 52,
     "metadata": {},
     "output_type": "execute_result"
    }
   ],
   "source": [
    "data['last_price'].describe()"
   ]
  },
  {
   "cell_type": "code",
   "execution_count": 53,
   "metadata": {
    "scrolled": true
   },
   "outputs": [
    {
     "data": {
      "image/png": "[encoded data removed]",
      "text/plain": [
       "<Figure size 432x288 with 1 Axes>"
      ]
     },
     "metadata": {
      "needs_background": "light"
     },
     "output_type": "display_data"
    }
   ],
   "source": [
    "plt.hist(data['last_price'], bins=60, range=(0,20000000), color = 'steelblue')\n",
    "plt.title('Цена объекта')\n",
    "plt.xlabel('Цена')\n",
    "plt.ylabel('Количество квартир')\n",
    "plt.grid(True)\n",
    "plt.show()"
   ]
  },
  {
   "cell_type": "code",
   "execution_count": 54,
   "metadata": {},
   "outputs": [
    {
     "name": "stdout",
     "output_type": "stream",
     "text": [
      "Наибольшие по цене квартиры:\n",
      "1436     330000000.0\n",
      "22831    289238400.0\n",
      "16461    245000000.0\n",
      "8900     190870000.0\n",
      "19155    160000000.0\n",
      "2536     159984000.0\n",
      "16495    159000000.0\n",
      "1026     155000000.0\n",
      "22229    148000000.0\n",
      "12674    140000000.0\n",
      "Name: last_price, dtype: float64\n"
     ]
    }
   ],
   "source": [
    "print('Наибольшие по цене квартиры:')\n",
    "print(data['last_price'].sort_values(ascending=False).head(10))"
   ]
  },
  {
   "cell_type": "markdown",
   "metadata": {},
   "source": [
    "Как мы видим на диаграмме разброс цен на квартиры существенный. Поэтому если возникнет необходимость детальнее изучать это вопрос стоит разделить квартиры на категории. Однако, при этом основная доля предложений на рынке находится в ценовом диапазоне 2,5 - 7 млн. рублей"
   ]
  },
  {
   "cell_type": "markdown",
   "metadata": {},
   "source": [
    "##### Количество комнат"
   ]
  },
  {
   "cell_type": "code",
   "execution_count": 94,
   "metadata": {},
   "outputs": [
    {
     "data": {
      "text/plain": [
       "count    23495.0\n",
       "mean         2.0\n",
       "std          1.0\n",
       "min          0.0\n",
       "25%          1.0\n",
       "50%          2.0\n",
       "75%          3.0\n",
       "max         16.0\n",
       "Name: rooms, dtype: float64"
      ]
     },
     "execution_count": 94,
     "metadata": {},
     "output_type": "execute_result"
    }
   ],
   "source": [
    "data['rooms'].describe().round()"
   ]
  },
  {
   "cell_type": "code",
   "execution_count": 56,
   "metadata": {},
   "outputs": [
    {
     "data": {
      "image/png": "[encoded data removed]",
      "text/plain": [
       "<Figure size 432x288 with 1 Axes>"
      ]
     },
     "metadata": {
      "needs_background": "light"
     },
     "output_type": "display_data"
    }
   ],
   "source": [
    "plt.hist(data['rooms'], bins=10, range=(0,10), color = 'steelblue')\n",
    "plt.title('Количество комнат')\n",
    "plt.xlabel('Количество комнат')\n",
    "plt.ylabel('Количество квартир')\n",
    "plt.grid(True)\n",
    "plt.show()"
   ]
  },
  {
   "cell_type": "code",
   "execution_count": 57,
   "metadata": {},
   "outputs": [
    {
     "name": "stdout",
     "output_type": "stream",
     "text": [
      "Наибольшие по количеству комнат квартиры:\n",
      "18848    16\n",
      "20829    14\n",
      "9688     11\n",
      "648      11\n",
      "18119    10\n",
      "4149     10\n",
      "18891    10\n",
      "20791     9\n",
      "8822      9\n",
      "13397     9\n",
      "Name: rooms, dtype: int64\n"
     ]
    }
   ],
   "source": [
    "print('Наибольшие по количеству комнат квартиры:')\n",
    "print(data['rooms'].sort_values(ascending=False).head(10))"
   ]
  },
  {
   "cell_type": "markdown",
   "metadata": {},
   "source": [
    "В основном продают квартиры 1-3 комнатные, чуть меньше 4 комнатные. Большие варианты редкость, но присутствуют на рынке."
   ]
  },
  {
   "cell_type": "markdown",
   "metadata": {},
   "source": [
    "##### Высота потолков"
   ]
  },
  {
   "cell_type": "code",
   "execution_count": 95,
   "metadata": {},
   "outputs": [
    {
     "data": {
      "text/plain": [
       "count    23495.0\n",
       "mean         3.0\n",
       "std          0.0\n",
       "min          2.0\n",
       "25%          3.0\n",
       "50%          3.0\n",
       "75%          3.0\n",
       "max         14.0\n",
       "Name: ceiling_height, dtype: float64"
      ]
     },
     "execution_count": 95,
     "metadata": {},
     "output_type": "execute_result"
    }
   ],
   "source": [
    "data['ceiling_height'].describe().round()"
   ]
  },
  {
   "cell_type": "code",
   "execution_count": 59,
   "metadata": {},
   "outputs": [
    {
     "data": {
      "image/png": "[encoded data removed]",
      "text/plain": [
       "<Figure size 432x288 with 1 Axes>"
      ]
     },
     "metadata": {
      "needs_background": "light"
     },
     "output_type": "display_data"
    }
   ],
   "source": [
    "plt.hist(data['ceiling_height'], bins=20, range=(2,5), color = 'steelblue')\n",
    "plt.title('Высота потолков')\n",
    "plt.xlabel('Высота потолков')\n",
    "plt.ylabel('Количество квартир')\n",
    "plt.grid(True)\n",
    "plt.show()"
   ]
  },
  {
   "cell_type": "markdown",
   "metadata": {},
   "source": [
    "Основная часть объявлений квартир с высотой потолков 2.5-2.8 м"
   ]
  },
  {
   "cell_type": "code",
   "execution_count": 60,
   "metadata": {},
   "outputs": [
    {
     "name": "stdout",
     "output_type": "stream",
     "text": [
      "Наибольшие по высоте потолков квартиры:\n",
      "15061    14.0\n",
      "22309    10.3\n",
      "22869    10.0\n",
      "5863      8.3\n",
      "3474      8.0\n",
      "15743     8.0\n",
      "17442     8.0\n",
      "20264     6.0\n",
      "21227     5.8\n",
      "1388      5.6\n",
      "Name: ceiling_height, dtype: float64\n"
     ]
    }
   ],
   "source": [
    "print('Наибольшие по высоте потолков квартиры:')\n",
    "print(data['ceiling_height'].sort_values(ascending=False).head(10))"
   ]
  },
  {
   "cell_type": "markdown",
   "metadata": {},
   "source": [
    "##### Этаж квартиры"
   ]
  },
  {
   "cell_type": "code",
   "execution_count": 96,
   "metadata": {},
   "outputs": [
    {
     "data": {
      "text/plain": [
       "count    23495.0\n",
       "mean         6.0\n",
       "std          5.0\n",
       "min          1.0\n",
       "25%          2.0\n",
       "50%          4.0\n",
       "75%          8.0\n",
       "max         33.0\n",
       "Name: floor, dtype: float64"
      ]
     },
     "execution_count": 96,
     "metadata": {},
     "output_type": "execute_result"
    }
   ],
   "source": [
    "data['floor'].describe().round()"
   ]
  },
  {
   "cell_type": "code",
   "execution_count": 62,
   "metadata": {},
   "outputs": [
    {
     "data": {
      "image/png": "[encoded data removed]",
      "text/plain": [
       "<Figure size 432x288 with 1 Axes>"
      ]
     },
     "metadata": {
      "needs_background": "light"
     },
     "output_type": "display_data"
    }
   ],
   "source": [
    "plt.hist(data['floor'], bins=20, range=(0,30), color = 'steelblue')\n",
    "plt.title('Этаж')\n",
    "plt.xlabel('Этаж')\n",
    "plt.ylabel('Количество квартир')\n",
    "plt.grid(True)\n",
    "plt.show()"
   ]
  },
  {
   "cell_type": "markdown",
   "metadata": {},
   "source": [
    "Основная доля объявлений приходится на квартиры 1-8 этаж. В особенности на фоне других выделяется доля квартир, находящихся на 4 этаже."
   ]
  },
  {
   "cell_type": "code",
   "execution_count": 63,
   "metadata": {},
   "outputs": [
    {
     "name": "stdout",
     "output_type": "stream",
     "text": [
      "Квартиры на самых высоких этажах:\n",
      "18218    33\n",
      "11575    32\n",
      "18629    31\n",
      "1917     30\n",
      "11079    29\n",
      "397      28\n",
      "16644    27\n",
      "4091     27\n",
      "6157     27\n",
      "13276    27\n",
      "Name: floor, dtype: int64\n"
     ]
    }
   ],
   "source": [
    "print('Квартиры на самых высоких этажах:')\n",
    "print(data['floor'].sort_values(ascending=False).head(10))"
   ]
  },
  {
   "cell_type": "markdown",
   "metadata": {},
   "source": [
    "##### Тип этажа квартиры («первый», «последний», «другой»)"
   ]
  },
  {
   "cell_type": "code",
   "execution_count": 64,
   "metadata": {},
   "outputs": [
    {
     "data": {
      "image/png": "[encoded data removed]",
      "text/plain": [
       "<Figure size 432x288 with 1 Axes>"
      ]
     },
     "metadata": {
      "needs_background": "light"
     },
     "output_type": "display_data"
    }
   ],
   "source": [
    "plt.hist(data['floor_type'], bins=5, range=(0,3), color = 'steelblue')\n",
    "plt.title('Тип этажа квартиры')\n",
    "plt.xlabel('Тип этажа')\n",
    "plt.ylabel('Количество квартир')\n",
    "plt.grid(True)\n",
    "plt.show()"
   ]
  },
  {
   "cell_type": "markdown",
   "metadata": {},
   "source": [
    "Большая часть квартир относится к типу \"другой\""
   ]
  },
  {
   "cell_type": "markdown",
   "metadata": {},
   "source": [
    "#####  Общее количество этажей в доме"
   ]
  },
  {
   "cell_type": "code",
   "execution_count": 65,
   "metadata": {},
   "outputs": [
    {
     "data": {
      "text/plain": [
       "count    23495.000000\n",
       "mean        10.680230\n",
       "std          6.593218\n",
       "min          1.000000\n",
       "25%          5.000000\n",
       "50%          9.000000\n",
       "75%         16.000000\n",
       "max         60.000000\n",
       "Name: floors_total, dtype: float64"
      ]
     },
     "execution_count": 65,
     "metadata": {},
     "output_type": "execute_result"
    }
   ],
   "source": [
    "data['floors_total'].describe()"
   ]
  },
  {
   "cell_type": "code",
   "execution_count": 66,
   "metadata": {},
   "outputs": [
    {
     "data": {
      "image/png": "[encoded data removed]",
      "text/plain": [
       "<Figure size 432x288 with 1 Axes>"
      ]
     },
     "metadata": {
      "needs_background": "light"
     },
     "output_type": "display_data"
    }
   ],
   "source": [
    "plt.hist(data['floors_total'], bins=50, range=(0,30), color = 'steelblue')\n",
    "plt.title('Всего этажей в доме')\n",
    "plt.xlabel('Всего этажей в доме')\n",
    "plt.ylabel('Количество квартир')\n",
    "plt.grid(True)\n",
    "plt.show()"
   ]
  },
  {
   "cell_type": "markdown",
   "metadata": {},
   "source": [
    "Большую часть квартир продается в 5-ти этажных и 9-ти этажных домах. Иная этажность домов встречается реже."
   ]
  },
  {
   "cell_type": "markdown",
   "metadata": {},
   "source": [
    "##### Расстояние до центра города в метрах"
   ]
  },
  {
   "cell_type": "code",
   "execution_count": 67,
   "metadata": {},
   "outputs": [
    {
     "data": {
      "text/plain": [
       "count    17998.000000\n",
       "mean     14215.866096\n",
       "std       8612.659106\n",
       "min        181.000000\n",
       "25%       9278.000000\n",
       "50%      13114.000000\n",
       "75%      16293.000000\n",
       "max      65968.000000\n",
       "Name: city_centers_nearest, dtype: float64"
      ]
     },
     "execution_count": 67,
     "metadata": {},
     "output_type": "execute_result"
    }
   ],
   "source": [
    "data['city_centers_nearest'].describe()"
   ]
  },
  {
   "cell_type": "code",
   "execution_count": 68,
   "metadata": {},
   "outputs": [
    {
     "data": {
      "image/png": "[encoded data removed]",
      "text/plain": [
       "<Figure size 432x288 with 1 Axes>"
      ]
     },
     "metadata": {
      "needs_background": "light"
     },
     "output_type": "display_data"
    }
   ],
   "source": [
    "plt.hist(data['city_centers_nearest'], bins=100, range=(0,50000), color = 'steelblue')\n",
    "plt.title('Расстояние до центра города в метрах')\n",
    "plt.xlabel('Расстояние до центра города в метрах')\n",
    "plt.ylabel('Количество квартир')\n",
    "plt.grid(True)\n",
    "plt.show()"
   ]
  },
  {
   "cell_type": "markdown",
   "metadata": {},
   "source": [
    "Распределение квартир в зависимости от расстояния до центра города неравномерно. Большая часть квартир находится на расстоянии от 9 000 до 18 000 метров от центра. Однако наблюдается также весомая часть квартир на расстоянии примерно 3000-7000 метров. В связи с тем, что само понятие \"центр города\" не точное, возможно такие волны распределения из-за разного взгляда на то, что считать центром города и как рассчитывать расстояние до него."
   ]
  },
  {
   "cell_type": "markdown",
   "metadata": {},
   "source": [
    "##### Расстояние до ближайшего аэропорта"
   ]
  },
  {
   "cell_type": "code",
   "execution_count": 97,
   "metadata": {},
   "outputs": [
    {
     "data": {
      "text/plain": [
       "count    17977.0\n",
       "mean     28807.0\n",
       "std      12646.0\n",
       "min          0.0\n",
       "25%      18551.0\n",
       "50%      26766.0\n",
       "75%      37294.0\n",
       "max      84869.0\n",
       "Name: airports_nearest, dtype: float64"
      ]
     },
     "execution_count": 97,
     "metadata": {},
     "output_type": "execute_result"
    }
   ],
   "source": [
    "data['airports_nearest'].describe().round()"
   ]
  },
  {
   "cell_type": "code",
   "execution_count": 70,
   "metadata": {},
   "outputs": [
    {
     "data": {
      "image/png": "[encoded data removed]",
      "text/plain": [
       "<Figure size 432x288 with 1 Axes>"
      ]
     },
     "metadata": {
      "needs_background": "light"
     },
     "output_type": "display_data"
    }
   ],
   "source": [
    "plt.hist(data['airports_nearest'], bins=100, range=(0,80000), color = 'steelblue')\n",
    "plt.title('Расстояние до ближайшего аэропорта в метрах')\n",
    "plt.xlabel('Расстояние до ближайшего аэропорта в метрах')\n",
    "plt.ylabel('Количество квартир')\n",
    "plt.grid(True)\n",
    "plt.show()"
   ]
  },
  {
   "cell_type": "markdown",
   "metadata": {},
   "source": [
    "Наибольшее количество квартир находится на расстоянии от 10 000 до 40 000 метров до аэропорта. Распределение квартир нельзя однозначно назвать нормальным, больше оно напоминает распределение Пуассона. Стоит отметить, что расстояние до аэропорта показатель, который во многом зависит от населенного пункта, т.к. в некоторых населенных пунктах аэропорта нет."
   ]
  },
  {
   "cell_type": "markdown",
   "metadata": {},
   "source": [
    "##### Расстояние до ближайшего парка"
   ]
  },
  {
   "cell_type": "code",
   "execution_count": 98,
   "metadata": {},
   "outputs": [
    {
     "data": {
      "text/plain": [
       "count    7990.0\n",
       "mean      491.0\n",
       "std       341.0\n",
       "min         1.0\n",
       "25%       288.0\n",
       "50%       455.0\n",
       "75%       612.0\n",
       "max      3190.0\n",
       "Name: parks_nearest, dtype: float64"
      ]
     },
     "execution_count": 98,
     "metadata": {},
     "output_type": "execute_result"
    }
   ],
   "source": [
    "data['parks_nearest'].describe().round()"
   ]
  },
  {
   "cell_type": "code",
   "execution_count": 72,
   "metadata": {},
   "outputs": [
    {
     "data": {
      "image/png": "[encoded data removed]",
      "text/plain": [
       "<Figure size 432x288 with 1 Axes>"
      ]
     },
     "metadata": {
      "needs_background": "light"
     },
     "output_type": "display_data"
    }
   ],
   "source": [
    "plt.hist(data['parks_nearest'], bins=100, range=(0,1500), color = 'steelblue')\n",
    "plt.title('Расстояние до ближайшего парка в метрах')\n",
    "plt.xlabel('Расстояние до ближайшего парка в метрах')\n",
    "plt.ylabel('Количество квартир')\n",
    "plt.grid(True)\n",
    "plt.show()"
   ]
  },
  {
   "cell_type": "markdown",
   "metadata": {},
   "source": [
    "В основном квартиры находятся на расстоянии от 150 до 700 метров от парка."
   ]
  },
  {
   "cell_type": "markdown",
   "metadata": {},
   "source": [
    "##### День и месяц публикации объявления."
   ]
  },
  {
   "cell_type": "code",
   "execution_count": 73,
   "metadata": {},
   "outputs": [
    {
     "data": {
      "image/png": "[encoded data removed]",
      "text/plain": [
       "<Figure size 432x288 with 1 Axes>"
      ]
     },
     "metadata": {
      "needs_background": "light"
     },
     "output_type": "display_data"
    }
   ],
   "source": [
    "plt.hist(data['day_of_publication'], bins=20, range=(0,6), color = 'steelblue')\n",
    "plt.title('День публикации объявления')\n",
    "plt.xlabel('День публикации объявления')\n",
    "plt.ylabel('Количество квартир')\n",
    "plt.grid(True)\n",
    "plt.show()"
   ]
  },
  {
   "cell_type": "markdown",
   "metadata": {},
   "source": [
    "Преимущественно объявления публикуются в будние дни. Из них в понедельник чуть меньше."
   ]
  },
  {
   "cell_type": "code",
   "execution_count": 74,
   "metadata": {},
   "outputs": [
    {
     "data": {
      "image/png": "[encoded data removed]",
      "text/plain": [
       "<Figure size 432x288 with 1 Axes>"
      ]
     },
     "metadata": {
      "needs_background": "light"
     },
     "output_type": "display_data"
    }
   ],
   "source": [
    "plt.hist(data['month_of_publication'], bins=12, range=(1,12), color = 'steelblue')\n",
    "plt.title('Месяц публикации объявления')\n",
    "plt.xlabel('Месяц публикации объявления')\n",
    "plt.ylabel('Количество квартир')\n",
    "plt.grid(True)\n",
    "plt.show()"
   ]
  },
  {
   "cell_type": "markdown",
   "metadata": {},
   "source": [
    "Пик публикации объявлений приходится на февраль-апрель, осенние месяцы также довольно активны. Спады наблюдаются в \"праздничные\" месяцы май, декабрь и январь. В летние месяцы также есть небольшое снижение активности. Это объясняется тем, что деловая активность в целом в эти месяцы падает."
   ]
  },
  {
   "cell_type": "markdown",
   "metadata": {},
   "source": [
    "#### Как быстро продавались квартиры"
   ]
  },
  {
   "cell_type": "code",
   "execution_count": 75,
   "metadata": {},
   "outputs": [
    {
     "data": {
      "text/plain": [
       "mean      180.738356\n",
       "median     95.000000\n",
       "Name: days_exposition, dtype: float64"
      ]
     },
     "execution_count": 75,
     "metadata": {},
     "output_type": "execute_result"
    }
   ],
   "source": [
    "data['days_exposition'].agg(['mean','median'])"
   ]
  },
  {
   "cell_type": "code",
   "execution_count": 99,
   "metadata": {},
   "outputs": [
    {
     "data": {
      "text/plain": [
       "count    20333.0\n",
       "mean       181.0\n",
       "std        220.0\n",
       "min          1.0\n",
       "25%         45.0\n",
       "50%         95.0\n",
       "75%        231.0\n",
       "max       1580.0\n",
       "Name: days_exposition, dtype: float64"
      ]
     },
     "execution_count": 99,
     "metadata": {},
     "output_type": "execute_result"
    }
   ],
   "source": [
    "data['days_exposition'].describe().round()"
   ]
  },
  {
   "cell_type": "code",
   "execution_count": 77,
   "metadata": {},
   "outputs": [
    {
     "data": {
      "image/png": "[encoded data removed]",
      "text/plain": [
       "<Figure size 432x288 with 1 Axes>"
      ]
     },
     "metadata": {
      "needs_background": "light"
     },
     "output_type": "display_data"
    }
   ],
   "source": [
    "plt.hist(data['days_exposition'], bins=100, range=(0,360), color = 'steelblue')\n",
    "plt.title('Время продажи квартиры')\n",
    "plt.xlabel('Время продажи квартиры')\n",
    "plt.ylabel('Количество квартир')\n",
    "plt.grid(True)\n",
    "plt.show()"
   ]
  },
  {
   "cell_type": "markdown",
   "metadata": {},
   "source": [
    "В основном квартиры продавались в течение 2-3 месяцев. Быстрой продажей можно назвать продажу в срок до 45 дней, длинной продажей являются продажи свыше 231 дня."
   ]
  },
  {
   "cell_type": "markdown",
   "metadata": {},
   "source": [
    "#### Анализ факторов, влияющих на общую (полную) стоимость объекта\n",
    "#####  Зависимость цены от общей площади"
   ]
  },
  {
   "cell_type": "code",
   "execution_count": 78,
   "metadata": {},
   "outputs": [
    {
     "data": {
      "image/png": "[encoded data removed]",
      "text/plain": [
       "<Figure size 720x720 with 1 Axes>"
      ]
     },
     "metadata": {
      "needs_background": "light"
     },
     "output_type": "display_data"
    },
    {
     "name": "stdout",
     "output_type": "stream",
     "text": [
      "Корреляция цены и площади: \n",
      "\n",
      "            last_price  total_area\n",
      "last_price    1.000000    0.876082\n",
      "total_area    0.876082    1.000000 \n",
      "\n"
     ]
    }
   ],
   "source": [
    "(data.pivot_table(index='total_area', values='last_price').plot(grid=True, style='o', figsize=(10, 10), alpha=0.2))\n",
    "plt.show()\n",
    "print('Корреляция цены и площади:','\\n')\n",
    "print(data.pivot_table(index='floor', values=['total_area', 'last_price']).corr(),'\\n')\n"
   ]
  },
  {
   "cell_type": "markdown",
   "metadata": {},
   "source": [
    "#####  Зависимость цены от жилой площади"
   ]
  },
  {
   "cell_type": "code",
   "execution_count": 79,
   "metadata": {},
   "outputs": [
    {
     "data": {
      "image/png": "[encoded data removed]",
      "text/plain": [
       "<Figure size 720x720 with 1 Axes>"
      ]
     },
     "metadata": {
      "needs_background": "light"
     },
     "output_type": "display_data"
    },
    {
     "name": "stdout",
     "output_type": "stream",
     "text": [
      "Корреляция цены и жилой площади: \n",
      "\n",
      "             last_price  living_area\n",
      "last_price     1.000000     0.766081\n",
      "living_area    0.766081     1.000000 \n",
      "\n"
     ]
    }
   ],
   "source": [
    "(data.pivot_table(index='living_area', values='last_price').plot(grid=True, style='o', figsize=(10, 10), alpha=0.2))\n",
    "plt.show()\n",
    "print('Корреляция цены и жилой площади:','\\n')\n",
    "print(data.pivot_table(index='floor', values=['living_area', 'last_price']).corr(),'\\n')\n"
   ]
  },
  {
   "cell_type": "markdown",
   "metadata": {},
   "source": [
    "#####  Зависимость цены от площади кухни"
   ]
  },
  {
   "cell_type": "code",
   "execution_count": 80,
   "metadata": {},
   "outputs": [
    {
     "data": {
      "image/png": "[encoded data removed]",
      "text/plain": [
       "<Figure size 360x360 with 1 Axes>"
      ]
     },
     "metadata": {
      "needs_background": "light"
     },
     "output_type": "display_data"
    },
    {
     "name": "stdout",
     "output_type": "stream",
     "text": [
      "Корреляция цены и площади кухни: \n",
      "\n",
      "              kitchen_area  last_price\n",
      "kitchen_area      1.000000    0.161362\n",
      "last_price        0.161362    1.000000 \n",
      "\n"
     ]
    }
   ],
   "source": [
    "(data.pivot_table(index='kitchen_area', values='last_price').plot(grid=True, style='o', figsize=(5, 5), alpha=0.2))\n",
    "plt.show()\n",
    "print('Корреляция цены и площади кухни:','\\n')\n",
    "print(data.pivot_table(index='floor', values=['kitchen_area', 'last_price']).corr(),'\\n')"
   ]
  },
  {
   "cell_type": "markdown",
   "metadata": {},
   "source": [
    "#####  Зависимость цены от количества комнат"
   ]
  },
  {
   "cell_type": "code",
   "execution_count": 81,
   "metadata": {},
   "outputs": [
    {
     "data": {
      "image/png": "[encoded data removed]",
      "text/plain": [
       "<Figure size 360x360 with 1 Axes>"
      ]
     },
     "metadata": {
      "needs_background": "light"
     },
     "output_type": "display_data"
    },
    {
     "name": "stdout",
     "output_type": "stream",
     "text": [
      "Корреляция цены и количества комнат: \n",
      "\n",
      "            last_price     rooms\n",
      "last_price    1.000000  0.629156\n",
      "rooms         0.629156  1.000000 \n",
      "\n"
     ]
    }
   ],
   "source": [
    "(data.pivot_table(index='rooms', values='last_price').plot(grid=True, style='o-', figsize=(5, 5)))\n",
    "plt.show()\n",
    "print('Корреляция цены и количества комнат:','\\n')\n",
    "print(data.pivot_table(index='floor', values=['rooms', 'last_price']).corr(),'\\n')"
   ]
  },
  {
   "cell_type": "markdown",
   "metadata": {},
   "source": [
    "#####  Зависимость цены от типа этажа"
   ]
  },
  {
   "cell_type": "code",
   "execution_count": 82,
   "metadata": {},
   "outputs": [
    {
     "data": {
      "image/png": "[encoded data removed]",
      "text/plain": [
       "<Figure size 504x720 with 1 Axes>"
      ]
     },
     "metadata": {
      "needs_background": "light"
     },
     "output_type": "display_data"
    }
   ],
   "source": [
    "(data.pivot_table(index='floor_type', values='last_price').plot(grid=True, figsize=(7, 10), kind='bar', title='Зависимость цены от типа этажа'))\n",
    "plt.show()"
   ]
  },
  {
   "cell_type": "code",
   "execution_count": 83,
   "metadata": {},
   "outputs": [
    {
     "data": {
      "image/png": "[encoded data removed]",
      "text/plain": [
       "<Figure size 504x720 with 1 Axes>"
      ]
     },
     "metadata": {
      "needs_background": "light"
     },
     "output_type": "display_data"
    }
   ],
   "source": [
    "# Попробуем сгруппировать по медиане для более точной оценки\n",
    "(data.pivot_table(index='floor_type', values='last_price', aggfunc=['median']).plot(grid=True, figsize=(7, 10), kind='bar', title='Зависимость цены от типа этажа'))\n",
    "plt.show()"
   ]
  },
  {
   "cell_type": "markdown",
   "metadata": {},
   "source": [
    "#####  Зависимость цены от даты размещения"
   ]
  },
  {
   "cell_type": "code",
   "execution_count": 84,
   "metadata": {
    "scrolled": false
   },
   "outputs": [
    {
     "data": {
      "image/png": "[encoded data removed]",
      "text/plain": [
       "<Figure size 720x360 with 1 Axes>"
      ]
     },
     "metadata": {
      "needs_background": "light"
     },
     "output_type": "display_data"
    },
    {
     "data": {
      "image/png": "[encoded data removed]",
      "text/plain": [
       "<Figure size 720x360 with 1 Axes>"
      ]
     },
     "metadata": {
      "needs_background": "light"
     },
     "output_type": "display_data"
    },
    {
     "data": {
      "image/png": "[encoded data removed]",
      "text/plain": [
       "<Figure size 720x360 with 1 Axes>"
      ]
     },
     "metadata": {
      "needs_background": "light"
     },
     "output_type": "display_data"
    }
   ],
   "source": [
    "# Зависимость от дня размещения\n",
    "data.pivot_table(index='day_of_publication', values='last_price').plot(grid=True, style='o-', figsize=(10, 5), title='Зависимость цены от дня размещения')\n",
    "plt.show()\n",
    "# Зависимость от месяца размещения\n",
    "data.pivot_table(index='month_of_publication', values='last_price').plot(grid=True, style='o-', xlim=(1,12), figsize=(10, 5), title='Зависимость цены от месяца размещения')\n",
    "plt.show()\n",
    "# Зависимость от года размещения\n",
    "data.pivot_table(index='year_of_publication', values='last_price').plot(grid=True, style='o-', figsize=(10, 5), title='Зависимость цены от года размещения')\n",
    "plt.show()"
   ]
  },
  {
   "cell_type": "markdown",
   "metadata": {},
   "source": [
    "Сравним динамику изменения цен и площадей продаваемых объектов. Для исключения влияния аномальных значений возьмем для сравнения медиану."
   ]
  },
  {
   "cell_type": "code",
   "execution_count": 85,
   "metadata": {},
   "outputs": [
    {
     "data": {
      "image/png": "[encoded data removed]",
      "text/plain": [
       "<Figure size 360x360 with 1 Axes>"
      ]
     },
     "metadata": {
      "needs_background": "light"
     },
     "output_type": "display_data"
    },
    {
     "data": {
      "image/png": "[encoded data removed]",
      "text/plain": [
       "<Figure size 360x360 with 1 Axes>"
      ]
     },
     "metadata": {
      "needs_background": "light"
     },
     "output_type": "display_data"
    }
   ],
   "source": [
    "data.pivot_table(index='year_of_publication', values='last_price', aggfunc='median').plot(grid=True, style='-', figsize=(5, 5), title='Динамика цен на недвижимость')\n",
    "data.pivot_table(index='year_of_publication', values='total_area', aggfunc='median').plot(grid=True, style='-', figsize=(5, 5), title='Динамика площадей, продаваемых квартир')\n",
    "plt.show()"
   ]
  },
  {
   "cell_type": "markdown",
   "metadata": {},
   "source": [
    "Как мы видим из графиков, несмотря на общий тренд, цены на квартиры снизились больше, чем площадь, продаваемых объектов. Для более четкой картины рассмотрим также динамику изменения стоимости квадратного метра недвижимости."
   ]
  },
  {
   "cell_type": "code",
   "execution_count": 86,
   "metadata": {
    "scrolled": true
   },
   "outputs": [
    {
     "data": {
      "image/png": "[encoded data removed]",
      "text/plain": [
       "<Figure size 360x360 with 1 Axes>"
      ]
     },
     "metadata": {
      "needs_background": "light"
     },
     "output_type": "display_data"
    }
   ],
   "source": [
    "data.pivot_table(index='year_of_publication', values='price_per_meter', aggfunc='median').plot(grid=True, style='-', figsize=(5, 5), title='Динамика цен за квадратный метр на недвижимость')\n",
    "plt.show()"
   ]
  },
  {
   "cell_type": "markdown",
   "metadata": {},
   "source": [
    "Здесь наблюдается уже совсем другая динамика. Начиная с 2016 года цена за квадратный метр неизменно растет и в 2019 года почти достигла уровня 2014 года."
   ]
  },
  {
   "cell_type": "markdown",
   "metadata": {},
   "source": [
    "##### Выводы"
   ]
  },
  {
   "cell_type": "markdown",
   "metadata": {},
   "source": [
    "В соответствии с проведенным анализом можно утверждать, что наибольшее влияние на цену квартиры оказывает ее общая площадь и жилая площадь в частности (Коэффициент корреляции 0.876 и 0.766 соотвественно). Влияние площади кухни на цену квартиры довольно низкое ( 0.16). От количества комнат цена объекта также имеет большую зависимость (коэффициент корреляции 0.629). При этом стоит отметить, что такая зависимость снижается, если идет речь об объектах с количеством комнат больше 7. Вероятно потому что такие объекты в целом являются редкими и относятся к элитной недвижимости, имеющей несколько иное ценообразование. Говоря о типе этажа меньшую стоимость будуь иметь квартиры на 1 этаже. Цена на иных этажах самая высокая, чуть меньше (если сравнивать по медиане) цена на последнем этаже. Цены за последний этаж на достаточно высоком уровне, возможно за счет более дорогой недвижимости, где у последнего этажа есть свои преимущества в виде мансарды, выхода на крышу и пр. \n",
    "\n",
    "Что касается зависимости цены недвижимости от даты публикации:\n",
    "* Объявления, которые были опубликованы в субботу и четверг имеют цену объектов существенно выше остальных дней. В воскресенье самая низка цена\n",
    "* Самый \"дорогостоящий\" сентябрь, это можно связать с началом деловой активности после сезонного спада летом. Также на высоком уровне цены недвижимости в апреле, что тоже можно объяснить повышением деловой активности после месяцев с множеством праздников.  В мае и июне размещаются объявления с самой низкой ценой.\n",
    "* В 2014 году наблюдался скачок в цене объектов недвижимости после чего происходило снижение. Вероятно это было связано с геополитическими и экономическими причинами 2014 года. Резко снизился курс рубля, спрос на недвижимость, являясь надежным средством защиты накоплений, повысился в результате чего цена предложения также повысилась.\n",
    "\n",
    "Также отдельно стоит отметить изменение цены за квадратный метр в рассматриваемом периоде. Начиная с 2016 года наблюдается значительный и уверенный рост данного показателя, связанный, по всей видимости, с тенденциями рынка в целом на фоне общей экономической ситуацией в стране.\n"
   ]
  },
  {
   "cell_type": "markdown",
   "metadata": {},
   "source": [
    "#### Cредняя цена одного квадратного метра в 10 населённых пунктах с наибольшим числом объявлений."
   ]
  },
  {
   "cell_type": "code",
   "execution_count": 87,
   "metadata": {},
   "outputs": [],
   "source": [
    "top_10 = data.value_counts('locality_name')\n",
    "top_10 = data.pivot_table(index='locality_name', values='price_per_meter', aggfunc=['count', 'mean', 'median'])\n",
    "top_10 = top_10.sort_values(('count', 'price_per_meter'), ascending=False).astype(int)\n",
    "top_10 = top_10[:10]\n"
   ]
  },
  {
   "cell_type": "code",
   "execution_count": 88,
   "metadata": {},
   "outputs": [
    {
     "data": {
      "text/html": [
       "<div>\n",
       "<style scoped>\n",
       "    .dataframe tbody tr th:only-of-type {\n",
       "        vertical-align: middle;\n",
       "    }\n",
       "\n",
       "    .dataframe tbody tr th {\n",
       "        vertical-align: top;\n",
       "    }\n",
       "\n",
       "    .dataframe thead tr th {\n",
       "        text-align: left;\n",
       "    }\n",
       "\n",
       "    .dataframe thead tr:last-of-type th {\n",
       "        text-align: right;\n",
       "    }\n",
       "</style>\n",
       "<table border=\"1\" class=\"dataframe\">\n",
       "  <thead>\n",
       "    <tr>\n",
       "      <th></th>\n",
       "      <th>count</th>\n",
       "      <th>mean</th>\n",
       "      <th>median</th>\n",
       "    </tr>\n",
       "    <tr>\n",
       "      <th></th>\n",
       "      <th>price_per_meter</th>\n",
       "      <th>price_per_meter</th>\n",
       "      <th>price_per_meter</th>\n",
       "    </tr>\n",
       "    <tr>\n",
       "      <th>locality_name</th>\n",
       "      <th></th>\n",
       "      <th></th>\n",
       "      <th></th>\n",
       "    </tr>\n",
       "  </thead>\n",
       "  <tbody>\n",
       "    <tr>\n",
       "      <th>Санкт-Петербург</th>\n",
       "      <td>15586</td>\n",
       "      <td>114354</td>\n",
       "      <td>104727</td>\n",
       "    </tr>\n",
       "    <tr>\n",
       "      <th>Мурино</th>\n",
       "      <td>584</td>\n",
       "      <td>86017</td>\n",
       "      <td>86250</td>\n",
       "    </tr>\n",
       "    <tr>\n",
       "      <th>Кудрово</th>\n",
       "      <td>470</td>\n",
       "      <td>95260</td>\n",
       "      <td>95555</td>\n",
       "    </tr>\n",
       "    <tr>\n",
       "      <th>Шушары</th>\n",
       "      <td>439</td>\n",
       "      <td>78551</td>\n",
       "      <td>76829</td>\n",
       "    </tr>\n",
       "    <tr>\n",
       "      <th>Всеволожск</th>\n",
       "      <td>398</td>\n",
       "      <td>68654</td>\n",
       "      <td>65789</td>\n",
       "    </tr>\n",
       "    <tr>\n",
       "      <th>Пушкин</th>\n",
       "      <td>367</td>\n",
       "      <td>103056</td>\n",
       "      <td>99987</td>\n",
       "    </tr>\n",
       "    <tr>\n",
       "      <th>Колпино</th>\n",
       "      <td>338</td>\n",
       "      <td>75424</td>\n",
       "      <td>74723</td>\n",
       "    </tr>\n",
       "    <tr>\n",
       "      <th>Парголово</th>\n",
       "      <td>327</td>\n",
       "      <td>90175</td>\n",
       "      <td>91642</td>\n",
       "    </tr>\n",
       "    <tr>\n",
       "      <th>Гатчина</th>\n",
       "      <td>307</td>\n",
       "      <td>68746</td>\n",
       "      <td>67796</td>\n",
       "    </tr>\n",
       "    <tr>\n",
       "      <th>Выборг</th>\n",
       "      <td>237</td>\n",
       "      <td>58141</td>\n",
       "      <td>58158</td>\n",
       "    </tr>\n",
       "  </tbody>\n",
       "</table>\n",
       "</div>"
      ],
      "text/plain": [
       "                          count            mean          median\n",
       "                price_per_meter price_per_meter price_per_meter\n",
       "locality_name                                                  \n",
       "Санкт-Петербург           15586          114354          104727\n",
       "Мурино                      584           86017           86250\n",
       "Кудрово                     470           95260           95555\n",
       "Шушары                      439           78551           76829\n",
       "Всеволожск                  398           68654           65789\n",
       "Пушкин                      367          103056           99987\n",
       "Колпино                     338           75424           74723\n",
       "Парголово                   327           90175           91642\n",
       "Гатчина                     307           68746           67796\n",
       "Выборг                      237           58141           58158"
      ]
     },
     "execution_count": 88,
     "metadata": {},
     "output_type": "execute_result"
    }
   ],
   "source": [
    "top_10"
   ]
  },
  {
   "cell_type": "markdown",
   "metadata": {},
   "source": [
    "Минимальная средняя цена среди 10 городов, с наибольшим числом обявлений о продаже недвижимости в г. Выборг (58 141  руб. за квадратный метр). Вероятно это связано с тем, что он находится далеко от Санкт-Петербурга и имеет небольшую численность. Максимальная цена недвижимости, как и ожидалось, в г. Санкт-Петербурге 114 629 руб. за квадратный метр. Следом за ним Пушкин, Кудрово и Парголово, вероятно из-за близости к Санкт-Петербургу."
   ]
  },
  {
   "cell_type": "markdown",
   "metadata": {},
   "source": [
    "#### Анализ зависимости стоимости объектов  от расстояния до центра города в г. Санкт-Петербург"
   ]
  },
  {
   "cell_type": "code",
   "execution_count": 89,
   "metadata": {},
   "outputs": [],
   "source": [
    "spb = data.query('locality_name == \"Санкт-Петербург\"')"
   ]
  },
  {
   "cell_type": "code",
   "execution_count": 90,
   "metadata": {},
   "outputs": [
    {
     "data": {
      "text/html": [
       "<div>\n",
       "<style scoped>\n",
       "    .dataframe tbody tr th:only-of-type {\n",
       "        vertical-align: middle;\n",
       "    }\n",
       "\n",
       "    .dataframe tbody tr th {\n",
       "        vertical-align: top;\n",
       "    }\n",
       "\n",
       "    .dataframe thead th {\n",
       "        text-align: right;\n",
       "    }\n",
       "</style>\n",
       "<table border=\"1\" class=\"dataframe\">\n",
       "  <thead>\n",
       "    <tr style=\"text-align: right;\">\n",
       "      <th></th>\n",
       "      <th>last_price</th>\n",
       "    </tr>\n",
       "    <tr>\n",
       "      <th>city_centers_nearest_km</th>\n",
       "      <th></th>\n",
       "    </tr>\n",
       "  </thead>\n",
       "  <tbody>\n",
       "    <tr>\n",
       "      <th>0.0</th>\n",
       "      <td>3.047237e+07</td>\n",
       "    </tr>\n",
       "    <tr>\n",
       "      <th>1.0</th>\n",
       "      <td>2.096032e+07</td>\n",
       "    </tr>\n",
       "    <tr>\n",
       "      <th>2.0</th>\n",
       "      <td>1.643857e+07</td>\n",
       "    </tr>\n",
       "    <tr>\n",
       "      <th>3.0</th>\n",
       "      <td>1.075958e+07</td>\n",
       "    </tr>\n",
       "    <tr>\n",
       "      <th>4.0</th>\n",
       "      <td>1.192825e+07</td>\n",
       "    </tr>\n",
       "    <tr>\n",
       "      <th>5.0</th>\n",
       "      <td>1.308522e+07</td>\n",
       "    </tr>\n",
       "    <tr>\n",
       "      <th>6.0</th>\n",
       "      <td>1.410752e+07</td>\n",
       "    </tr>\n",
       "    <tr>\n",
       "      <th>7.0</th>\n",
       "      <td>1.444358e+07</td>\n",
       "    </tr>\n",
       "    <tr>\n",
       "      <th>8.0</th>\n",
       "      <td>9.231034e+06</td>\n",
       "    </tr>\n",
       "    <tr>\n",
       "      <th>9.0</th>\n",
       "      <td>6.956583e+06</td>\n",
       "    </tr>\n",
       "  </tbody>\n",
       "</table>\n",
       "</div>"
      ],
      "text/plain": [
       "                           last_price\n",
       "city_centers_nearest_km              \n",
       "0.0                      3.047237e+07\n",
       "1.0                      2.096032e+07\n",
       "2.0                      1.643857e+07\n",
       "3.0                      1.075958e+07\n",
       "4.0                      1.192825e+07\n",
       "5.0                      1.308522e+07\n",
       "6.0                      1.410752e+07\n",
       "7.0                      1.444358e+07\n",
       "8.0                      9.231034e+06\n",
       "9.0                      6.956583e+06"
      ]
     },
     "execution_count": 90,
     "metadata": {},
     "output_type": "execute_result"
    }
   ],
   "source": [
    "spb_stat = spb.pivot_table(index='city_centers_nearest_km', values='last_price')\n",
    "spb_stat.head(10)\n"
   ]
  },
  {
   "cell_type": "code",
   "execution_count": 91,
   "metadata": {},
   "outputs": [
    {
     "data": {
      "image/png": "[encoded data removed]",
      "text/plain": [
       "<Figure size 720x360 with 1 Axes>"
      ]
     },
     "metadata": {
      "needs_background": "light"
     },
     "output_type": "display_data"
    }
   ],
   "source": [
    "spb_stat.plot(grid=True, style='o-', xlim=(0,15), figsize=(10, 5), title = 'Зависимость стоимости объектов от расстояния до центра города');"
   ]
  },
  {
   "cell_type": "markdown",
   "metadata": {},
   "source": [
    "При анализе зависимости стоимости объектов от расстояния до центра города наблюдается высокая цена жилья на расстоянии до 2 км от центра города, что вполне предсказуемо. Небольшой подъем цен наблюдатся на расстоянии 6-7 км от центра. Возможно потому что это расстояние от центра находится в удобной доступности и с развитой инфраструктурой, но при этом более спокойные районы, подходящие для семей. "
   ]
  },
  {
   "cell_type": "markdown",
   "metadata": {},
   "source": [
    "### Общий вывод"
   ]
  },
  {
   "cell_type": "markdown",
   "metadata": {},
   "source": [
    "В ходе работы был проведен анализ данных сервиса Яндекс Недвижимость — архив объявлений за несколько лет о продаже квартир в Санкт-Петербурге и соседних населённых пунктах за 2014-2019 гг.\n",
    "В рамках проведения анализа были выполнены следующие работы:\n",
    "* определены пропущенные значения\n",
    "* заполнены пропущенные значения там, где это возможно\n",
    "* даны пояснения, какие пропущенные значения обнаружены\n",
    "* изменены типы данных\n",
    "* устранены неявные дубликаты в названиях населённых пунктов\n",
    "* устранены редкие и выбивающиеся значения (аномалии) во всех столбцах\n",
    "* посчитаны и добавлены в таблицу необходимые для анализа показатели\n",
    "* изучены и описаны основные параметры объектов, а также построены гистограммы для них\n",
    "* проанализированы сроки продажи квартир\n",
    "* рассмотрены факторы, влияющие на стоимость объекта\n",
    "* рассчитана средняя цена одного квадратного метра в 10 населённых пунктах с наибольшим числом объявлений\n",
    "* выявлена зависимость стоимости объектор от расстояния до центра города в г. Санкт_Петербург\n",
    "\n",
    "На основании проделанной работы можно сделать следующие выводы:\n",
    "    Предварительный анализ данных показал наличие большого количества пропусков. При этом основная их часть относилась к картографическим данным (расстояния до ближайшего парка, водоема, аэропорта, водоема и центра города). В дальнейшем следует обратить на это внимание. Кроме того, столбец название населенного пункта требует дороботки, т.к. в нем содержатся разные варианты упоминания вида населенного пункта, в результате чего очень многие населенные пункты дублируются. Если бы пользователю предоставлялся закрый список населенных пунктов, то этой проблемы можно было бы избежать.\n",
    "    Дальнейший анализ параметров объектов показал, что:\n",
    "* основная доля квартир с площадью в пределах от 25 до 100 кв. м. При этом стоит отметить большее число объявлений с площадью 30-50 кв.м\n",
    "* Большая часть квартир имеет жилую площадь 20-60 кв.м, при этом стоит отметить пики  количества продаваемых квартир с жилой площадью 23-24 кв.м и 30 кв.м\n",
    "* Основная доля распределения по площади кухонь приходится на квартиры с площадью 5-15 кв.м\n",
    "* Основная доля предложений на рынке находится в ценовом диапазоне 2,5 - 7 млн. рублей Однако, разброс цен на квартиры существенный. Поэтому если возникнет необходимость в дальнейшем детальнее изучать это вопрос стоит разделить квартиры на категории в зависимости от цен.\n",
    "* В основном продают квартиры 1-3 комнатные, чуть меньше 4 комнатные. Варианты с большим количеством комнат редкость, но  также присутствуют на рынке.\n",
    "* Основная часть объявлений квартир с высотой потолков 2.5-2.8 м\n",
    "* Основная доля объявлений приходится на квартиры 1-8 этаж. В особенности на фоне других выделяется доля квартир, находящихся на 4 этаже.\n",
    "* Большая часть объектов относится к типу \"другой\", т.е. не первый и не последний этаж здания.\n",
    "* Большую часть квартир продается в 5-ти этажных и 9-ти этажных домах. Иная этажность домов встречается реже.\n",
    "* Распределение квартир в зависимости от расстояния до центра города неравномерно. Большая часть квартир находится на расстоянии от 9 000 до 18 000 метров от центра. Однако наблюдается также весомая часть квартир на расстоянии примерно 3000-7000 метров.\n",
    "* Наибольшее количество квартир находится на расстоянии от 10 000 до 40 000 метров до аэропорта. \n",
    "* В основном квартиры находятся на расстоянии от 150 до 700 метров от парка.\n",
    "* Преимущественно объявления публикуются в будние дни. Из них в понедельник чуть меньше.\n",
    "* Пик публикации объявлений приходится на февраль-апрель, осенние месяцы также довольно активны. Спады наблюдаются в \"праздничные\" месяцы май, декабрь и январь. В летние месяцы также есть небольшое снижение активности.\n",
    "    В основном квартиры продавались в течение 2-3 месяцев. Быстрой продажей можно назвать продажу в срок до 45 дней, длинной продажей являются продажи свыше 231 дня.\n",
    "    В соответствии с проведенным анализом можно утверждать, что наибольшее влияние на цену квартиры оказывает:\n",
    "* общая площадь - коэффициент корреляции 0.876\n",
    "* жилая площадь - коэффициент корреляции 0.766\n",
    "* количество комнат - коэффициент корреляции 0.629\n",
    "   Также немаловажным фактором ценообразования является этаж, на котором находится квартира. Меньшая цена у квартир, находящихся на первом этаже\n",
    "  Что касается зависимости цены недвижимости от даты публикации:\n",
    "    Объявления, которые были опубликованы в субботу и четверг имеют цену объектов существенно выше остальных дней. В воскресенье самая низкая цена.\n",
    "    Сентябрь и апрель это месяцы в которые публикуются объекты с самой высокой ценой, вероятно из-за факторов сезонности. Самая же низка цена у квартир, у которых стпрт продаж приходится на май и июнь, месяца которы свойственен спад деловой активности.\n",
    "    В 2014 году наблюдался скачок в цене объектов недвижтмости после чего происходило снижение. Вероятно это было связано с геополитическими и экономическими причинами 2014 года. Резко снизился курс рубля, спрос на недвижимость, являясь надежным средством защиты накоплений, повысился в результате чего цена предложения также повысилась.\n",
    "    Минимальная средняя цена за квадратный метр среди 10 городов, с наибольшим числом обявлений о продаже недвижимости в г. Выборг (58 141 руб. за квадратный метр). Максимальная цена недвижимости, как и ожидалось, в г. Санкт-Петербурге 114 629 руб. за квадратный метр. Следом за ним Пушкин, Кудрово и Парголово.\n",
    "    При анализе зависимости стоимости объектов г. Санкт-Петербурга от расстояния до центра города наблюдается высокая цена жилья на расстоянии до 2 км от центра города. Небольшой подъем цен наблюдатся на расстоянии 6-7 км от центра. \n",
    "    \n",
    "\n",
    "\n",
    "    "
   ]
  }
 ],
 "metadata": {
  "ExecuteTimeLog": [
   {
    "duration": 433,
    "start_time": "2023-01-24T09:19:24.373Z"
   },
   {
    "duration": 179,
    "start_time": "2023-01-24T09:20:19.755Z"
   },
   {
    "duration": 15,
    "start_time": "2023-01-24T09:22:25.187Z"
   },
   {
    "duration": 2613,
    "start_time": "2023-01-24T09:24:41.489Z"
   },
   {
    "duration": 69,
    "start_time": "2023-01-24T09:35:29.351Z"
   },
   {
    "duration": 86,
    "start_time": "2023-01-24T09:36:24.905Z"
   },
   {
    "duration": 87,
    "start_time": "2023-01-24T09:37:21.745Z"
   },
   {
    "duration": 89,
    "start_time": "2023-01-24T09:37:28.392Z"
   },
   {
    "duration": 15,
    "start_time": "2023-01-24T09:42:44.823Z"
   },
   {
    "duration": 9,
    "start_time": "2023-01-24T09:53:45.622Z"
   },
   {
    "duration": 90,
    "start_time": "2023-01-24T10:03:08.647Z"
   },
   {
    "duration": 11,
    "start_time": "2023-01-24T10:03:43.873Z"
   },
   {
    "duration": 10,
    "start_time": "2023-01-24T10:03:54.404Z"
   },
   {
    "duration": 8,
    "start_time": "2023-01-24T10:07:16.923Z"
   },
   {
    "duration": 7,
    "start_time": "2023-01-24T10:08:13.479Z"
   },
   {
    "duration": 9,
    "start_time": "2023-01-24T10:08:35.097Z"
   },
   {
    "duration": 4,
    "start_time": "2023-01-24T10:09:59.384Z"
   },
   {
    "duration": 8,
    "start_time": "2023-01-24T10:10:39.179Z"
   },
   {
    "duration": 8,
    "start_time": "2023-01-24T10:11:12.506Z"
   },
   {
    "duration": 9,
    "start_time": "2023-01-24T10:11:46.978Z"
   },
   {
    "duration": 6,
    "start_time": "2023-01-24T10:14:39.916Z"
   },
   {
    "duration": 9,
    "start_time": "2023-01-24T10:14:46.794Z"
   },
   {
    "duration": 403,
    "start_time": "2023-01-24T12:22:07.027Z"
   },
   {
    "duration": 202,
    "start_time": "2023-01-24T12:22:08.283Z"
   },
   {
    "duration": 15,
    "start_time": "2023-01-24T12:22:11.842Z"
   },
   {
    "duration": 76,
    "start_time": "2023-01-24T12:22:17.661Z"
   },
   {
    "duration": 2792,
    "start_time": "2023-01-24T12:22:22.320Z"
   },
   {
    "duration": 18,
    "start_time": "2023-01-24T12:22:31.305Z"
   },
   {
    "duration": 8,
    "start_time": "2023-01-24T12:22:51.741Z"
   },
   {
    "duration": 5,
    "start_time": "2023-01-24T12:24:47.080Z"
   },
   {
    "duration": 2,
    "start_time": "2023-01-24T13:19:24.706Z"
   },
   {
    "duration": 110,
    "start_time": "2023-01-24T13:19:28.890Z"
   },
   {
    "duration": 22,
    "start_time": "2023-01-24T13:19:41.054Z"
   },
   {
    "duration": 81,
    "start_time": "2023-01-24T13:19:45.205Z"
   },
   {
    "duration": 1962,
    "start_time": "2023-01-24T13:19:49.253Z"
   },
   {
    "duration": 14,
    "start_time": "2023-01-24T13:19:55.442Z"
   },
   {
    "duration": 7,
    "start_time": "2023-01-24T13:20:01.794Z"
   },
   {
    "duration": 10,
    "start_time": "2023-01-24T13:42:25.022Z"
   },
   {
    "duration": 12,
    "start_time": "2023-01-24T13:48:11.580Z"
   },
   {
    "duration": 437,
    "start_time": "2023-01-25T09:16:57.156Z"
   },
   {
    "duration": 301,
    "start_time": "2023-01-25T09:16:57.596Z"
   },
   {
    "duration": 18,
    "start_time": "2023-01-25T09:16:57.900Z"
   },
   {
    "duration": 121,
    "start_time": "2023-01-25T09:16:57.920Z"
   },
   {
    "duration": 2882,
    "start_time": "2023-01-25T09:16:58.043Z"
   },
   {
    "duration": 14,
    "start_time": "2023-01-25T09:17:00.928Z"
   },
   {
    "duration": 55,
    "start_time": "2023-01-25T09:17:00.944Z"
   },
   {
    "duration": 15,
    "start_time": "2023-01-25T09:18:32.567Z"
   },
   {
    "duration": 87,
    "start_time": "2023-01-25T09:24:27.847Z"
   },
   {
    "duration": 53,
    "start_time": "2023-01-25T09:25:00.687Z"
   },
   {
    "duration": 17,
    "start_time": "2023-01-25T09:33:16.609Z"
   },
   {
    "duration": 9,
    "start_time": "2023-01-25T09:33:48.697Z"
   },
   {
    "duration": 50,
    "start_time": "2023-01-25T09:34:12.097Z"
   },
   {
    "duration": 8,
    "start_time": "2023-01-25T09:34:15.784Z"
   },
   {
    "duration": 8,
    "start_time": "2023-01-25T09:34:41.055Z"
   },
   {
    "duration": 7,
    "start_time": "2023-01-25T09:34:43.427Z"
   },
   {
    "duration": 8,
    "start_time": "2023-01-25T09:34:45.133Z"
   },
   {
    "duration": 11,
    "start_time": "2023-01-25T09:43:17.892Z"
   },
   {
    "duration": 8,
    "start_time": "2023-01-25T09:43:21.645Z"
   },
   {
    "duration": 11,
    "start_time": "2023-01-25T09:45:39.705Z"
   },
   {
    "duration": 46,
    "start_time": "2023-01-25T09:46:42.686Z"
   },
   {
    "duration": 8,
    "start_time": "2023-01-25T09:48:54.661Z"
   },
   {
    "duration": 44,
    "start_time": "2023-01-25T09:49:03.971Z"
   },
   {
    "duration": 40,
    "start_time": "2023-01-25T09:49:46.081Z"
   },
   {
    "duration": 41,
    "start_time": "2023-01-25T09:50:44.531Z"
   },
   {
    "duration": 4,
    "start_time": "2023-01-25T09:56:26.918Z"
   },
   {
    "duration": 53,
    "start_time": "2023-01-25T09:56:33.146Z"
   },
   {
    "duration": 23,
    "start_time": "2023-01-25T09:57:36.741Z"
   },
   {
    "duration": 52,
    "start_time": "2023-01-25T09:57:52.936Z"
   },
   {
    "duration": 26,
    "start_time": "2023-01-25T09:58:13.783Z"
   },
   {
    "duration": 12,
    "start_time": "2023-01-25T09:59:25.790Z"
   },
   {
    "duration": 11,
    "start_time": "2023-01-25T09:59:28.237Z"
   },
   {
    "duration": 18,
    "start_time": "2023-01-25T09:59:49.255Z"
   },
   {
    "duration": 37,
    "start_time": "2023-01-25T10:08:51.328Z"
   },
   {
    "duration": 1687,
    "start_time": "2023-01-25T10:09:20.401Z"
   },
   {
    "duration": 45,
    "start_time": "2023-01-25T10:09:50.327Z"
   },
   {
    "duration": 143,
    "start_time": "2023-01-25T10:12:07.039Z"
   },
   {
    "duration": 140,
    "start_time": "2023-01-25T10:12:50.185Z"
   },
   {
    "duration": 163,
    "start_time": "2023-01-25T10:13:57.404Z"
   },
   {
    "duration": 150,
    "start_time": "2023-01-25T10:16:21.065Z"
   },
   {
    "duration": 12,
    "start_time": "2023-01-25T10:17:36.601Z"
   },
   {
    "duration": 15,
    "start_time": "2023-01-25T10:17:50.958Z"
   },
   {
    "duration": 392,
    "start_time": "2023-01-25T13:12:04.525Z"
   },
   {
    "duration": 200,
    "start_time": "2023-01-25T13:12:04.920Z"
   },
   {
    "duration": 14,
    "start_time": "2023-01-25T13:12:05.121Z"
   },
   {
    "duration": 96,
    "start_time": "2023-01-25T13:12:05.137Z"
   },
   {
    "duration": 2257,
    "start_time": "2023-01-25T13:12:05.235Z"
   },
   {
    "duration": 10,
    "start_time": "2023-01-25T13:12:07.494Z"
   },
   {
    "duration": 39,
    "start_time": "2023-01-25T13:12:07.505Z"
   },
   {
    "duration": 36,
    "start_time": "2023-01-25T13:12:07.545Z"
   },
   {
    "duration": 61,
    "start_time": "2023-01-25T13:12:07.583Z"
   },
   {
    "duration": 45,
    "start_time": "2023-01-25T13:12:07.645Z"
   },
   {
    "duration": 48,
    "start_time": "2023-01-25T13:12:07.693Z"
   },
   {
    "duration": 184,
    "start_time": "2023-01-25T13:12:07.743Z"
   },
   {
    "duration": 9,
    "start_time": "2023-01-25T13:12:07.929Z"
   },
   {
    "duration": 15,
    "start_time": "2023-01-25T13:27:50.348Z"
   },
   {
    "duration": 15,
    "start_time": "2023-01-25T13:27:54.652Z"
   },
   {
    "duration": 11,
    "start_time": "2023-01-25T13:27:55.487Z"
   },
   {
    "duration": 10,
    "start_time": "2023-01-25T13:28:00.940Z"
   },
   {
    "duration": 11,
    "start_time": "2023-01-25T13:28:01.686Z"
   },
   {
    "duration": 136,
    "start_time": "2023-01-25T13:28:02.449Z"
   },
   {
    "duration": 8,
    "start_time": "2023-01-25T13:28:07.464Z"
   },
   {
    "duration": 9,
    "start_time": "2023-01-25T13:29:38.232Z"
   },
   {
    "duration": 4,
    "start_time": "2023-01-25T13:40:30.591Z"
   },
   {
    "duration": 6,
    "start_time": "2023-01-25T13:40:56.261Z"
   },
   {
    "duration": 5,
    "start_time": "2023-01-25T13:42:26.013Z"
   },
   {
    "duration": 9327,
    "start_time": "2023-01-25T13:44:18.818Z"
   },
   {
    "duration": 2865,
    "start_time": "2023-01-25T13:52:37.879Z"
   },
   {
    "duration": 2881,
    "start_time": "2023-01-25T13:54:43.830Z"
   },
   {
    "duration": 7,
    "start_time": "2023-01-25T13:54:57.893Z"
   },
   {
    "duration": 2994,
    "start_time": "2023-01-25T13:55:24.324Z"
   },
   {
    "duration": 30,
    "start_time": "2023-01-25T13:55:35.933Z"
   },
   {
    "duration": 7,
    "start_time": "2023-01-25T13:55:39.344Z"
   },
   {
    "duration": 27,
    "start_time": "2023-01-25T13:55:45.157Z"
   },
   {
    "duration": 7,
    "start_time": "2023-01-25T13:55:49.658Z"
   },
   {
    "duration": 43,
    "start_time": "2023-01-25T13:56:12.898Z"
   },
   {
    "duration": 6,
    "start_time": "2023-01-25T13:56:17.336Z"
   },
   {
    "duration": 429,
    "start_time": "2023-01-26T09:15:10.027Z"
   },
   {
    "duration": 191,
    "start_time": "2023-01-26T09:15:10.459Z"
   },
   {
    "duration": 16,
    "start_time": "2023-01-26T09:15:10.652Z"
   },
   {
    "duration": 92,
    "start_time": "2023-01-26T09:15:10.670Z"
   },
   {
    "duration": 2790,
    "start_time": "2023-01-26T09:15:10.763Z"
   },
   {
    "duration": 10,
    "start_time": "2023-01-26T09:15:13.555Z"
   },
   {
    "duration": 35,
    "start_time": "2023-01-26T09:15:13.567Z"
   },
   {
    "duration": 21,
    "start_time": "2023-01-26T09:15:13.604Z"
   },
   {
    "duration": 12,
    "start_time": "2023-01-26T09:15:13.627Z"
   },
   {
    "duration": 14,
    "start_time": "2023-01-26T09:15:13.642Z"
   },
   {
    "duration": 44,
    "start_time": "2023-01-26T09:15:13.658Z"
   },
   {
    "duration": 164,
    "start_time": "2023-01-26T09:15:13.705Z"
   },
   {
    "duration": 9,
    "start_time": "2023-01-26T09:15:13.871Z"
   },
   {
    "duration": 27,
    "start_time": "2023-01-26T09:15:13.881Z"
   },
   {
    "duration": 42,
    "start_time": "2023-01-26T09:15:13.910Z"
   },
   {
    "duration": 7,
    "start_time": "2023-01-26T09:15:13.954Z"
   },
   {
    "duration": 41,
    "start_time": "2023-01-26T09:21:09.821Z"
   },
   {
    "duration": 7,
    "start_time": "2023-01-26T09:21:12.681Z"
   },
   {
    "duration": 27,
    "start_time": "2023-01-26T09:22:47.656Z"
   },
   {
    "duration": 6,
    "start_time": "2023-01-26T09:22:48.972Z"
   },
   {
    "duration": 49,
    "start_time": "2023-01-26T09:24:25.513Z"
   },
   {
    "duration": 8,
    "start_time": "2023-01-26T09:24:26.731Z"
   },
   {
    "duration": 77,
    "start_time": "2023-01-26T09:25:13.321Z"
   },
   {
    "duration": 6,
    "start_time": "2023-01-26T09:26:33.348Z"
   },
   {
    "duration": 9,
    "start_time": "2023-01-26T09:27:51.217Z"
   },
   {
    "duration": 6,
    "start_time": "2023-01-26T09:28:04.673Z"
   },
   {
    "duration": 140,
    "start_time": "2023-01-26T09:34:25.333Z"
   },
   {
    "duration": 3,
    "start_time": "2023-01-26T09:35:00.102Z"
   },
   {
    "duration": 116,
    "start_time": "2023-01-26T09:35:01.176Z"
   },
   {
    "duration": 14,
    "start_time": "2023-01-26T09:35:01.993Z"
   },
   {
    "duration": 89,
    "start_time": "2023-01-26T09:35:03.028Z"
   },
   {
    "duration": 2188,
    "start_time": "2023-01-26T09:35:03.441Z"
   },
   {
    "duration": 9,
    "start_time": "2023-01-26T09:35:05.631Z"
   },
   {
    "duration": 19,
    "start_time": "2023-01-26T09:35:05.641Z"
   },
   {
    "duration": 17,
    "start_time": "2023-01-26T09:35:05.663Z"
   },
   {
    "duration": 27,
    "start_time": "2023-01-26T09:35:05.682Z"
   },
   {
    "duration": 12,
    "start_time": "2023-01-26T09:35:05.710Z"
   },
   {
    "duration": 12,
    "start_time": "2023-01-26T09:35:06.185Z"
   },
   {
    "duration": 150,
    "start_time": "2023-01-26T09:35:07.266Z"
   },
   {
    "duration": 9,
    "start_time": "2023-01-26T09:35:09.085Z"
   },
   {
    "duration": 8,
    "start_time": "2023-01-26T09:35:11.084Z"
   },
   {
    "duration": 32,
    "start_time": "2023-01-26T09:35:12.957Z"
   },
   {
    "duration": 7,
    "start_time": "2023-01-26T09:35:14.081Z"
   },
   {
    "duration": 5,
    "start_time": "2023-01-26T09:35:14.998Z"
   },
   {
    "duration": 146,
    "start_time": "2023-01-26T09:35:16.306Z"
   },
   {
    "duration": 105,
    "start_time": "2023-01-26T09:36:14.879Z"
   },
   {
    "duration": 111,
    "start_time": "2023-01-26T09:36:52.014Z"
   },
   {
    "duration": 131,
    "start_time": "2023-01-26T09:37:18.331Z"
   },
   {
    "duration": 111,
    "start_time": "2023-01-26T09:38:11.508Z"
   },
   {
    "duration": 6,
    "start_time": "2023-01-26T09:38:29.400Z"
   },
   {
    "duration": 6,
    "start_time": "2023-01-26T09:38:46.462Z"
   },
   {
    "duration": 7,
    "start_time": "2023-01-26T09:39:34.696Z"
   },
   {
    "duration": 8,
    "start_time": "2023-01-26T09:39:42.578Z"
   },
   {
    "duration": 7,
    "start_time": "2023-01-26T09:42:04.146Z"
   },
   {
    "duration": 111,
    "start_time": "2023-01-26T09:42:06.682Z"
   },
   {
    "duration": 6,
    "start_time": "2023-01-26T09:42:09.877Z"
   },
   {
    "duration": 8,
    "start_time": "2023-01-26T09:42:58.183Z"
   },
   {
    "duration": 8,
    "start_time": "2023-01-26T09:43:02.136Z"
   },
   {
    "duration": 16,
    "start_time": "2023-01-26T09:43:19.829Z"
   },
   {
    "duration": 126,
    "start_time": "2023-01-26T09:43:44.627Z"
   },
   {
    "duration": 258,
    "start_time": "2023-01-26T09:58:26.009Z"
   },
   {
    "duration": 172,
    "start_time": "2023-01-26T09:58:50.359Z"
   },
   {
    "duration": 264,
    "start_time": "2023-01-26T09:59:26.572Z"
   },
   {
    "duration": 259,
    "start_time": "2023-01-26T10:00:08.653Z"
   },
   {
    "duration": 272,
    "start_time": "2023-01-26T10:05:54.325Z"
   },
   {
    "duration": 47,
    "start_time": "2023-01-26T10:14:49.101Z"
   },
   {
    "duration": 4,
    "start_time": "2023-01-26T10:17:31.366Z"
   },
   {
    "duration": 265,
    "start_time": "2023-01-26T10:17:57.470Z"
   },
   {
    "duration": 4,
    "start_time": "2023-01-26T10:18:13.428Z"
   },
   {
    "duration": 416,
    "start_time": "2023-01-26T10:18:14.228Z"
   },
   {
    "duration": 12,
    "start_time": "2023-01-26T10:21:50.533Z"
   },
   {
    "duration": 7,
    "start_time": "2023-01-26T10:22:00.603Z"
   },
   {
    "duration": 9,
    "start_time": "2023-01-26T10:22:23.918Z"
   },
   {
    "duration": 582,
    "start_time": "2023-01-29T22:36:50.191Z"
   },
   {
    "duration": 268,
    "start_time": "2023-01-29T22:36:50.776Z"
   },
   {
    "duration": 12,
    "start_time": "2023-01-29T22:36:51.046Z"
   },
   {
    "duration": 29,
    "start_time": "2023-01-29T22:36:51.060Z"
   },
   {
    "duration": 96,
    "start_time": "2023-01-29T22:36:51.091Z"
   },
   {
    "duration": 0,
    "start_time": "2023-01-29T22:36:51.190Z"
   },
   {
    "duration": 0,
    "start_time": "2023-01-29T22:36:51.191Z"
   },
   {
    "duration": 0,
    "start_time": "2023-01-29T22:36:51.192Z"
   },
   {
    "duration": 0,
    "start_time": "2023-01-29T22:36:51.193Z"
   },
   {
    "duration": 0,
    "start_time": "2023-01-29T22:36:51.194Z"
   },
   {
    "duration": 0,
    "start_time": "2023-01-29T22:36:51.195Z"
   },
   {
    "duration": 0,
    "start_time": "2023-01-29T22:36:51.195Z"
   },
   {
    "duration": 0,
    "start_time": "2023-01-29T22:36:51.196Z"
   },
   {
    "duration": 0,
    "start_time": "2023-01-29T22:36:51.198Z"
   },
   {
    "duration": 0,
    "start_time": "2023-01-29T22:36:51.199Z"
   },
   {
    "duration": 0,
    "start_time": "2023-01-29T22:36:51.199Z"
   },
   {
    "duration": 0,
    "start_time": "2023-01-29T22:36:51.200Z"
   },
   {
    "duration": 0,
    "start_time": "2023-01-29T22:36:51.201Z"
   },
   {
    "duration": 0,
    "start_time": "2023-01-29T22:36:51.202Z"
   },
   {
    "duration": 0,
    "start_time": "2023-01-29T22:36:51.203Z"
   },
   {
    "duration": 0,
    "start_time": "2023-01-29T22:36:51.204Z"
   },
   {
    "duration": 0,
    "start_time": "2023-01-29T22:36:51.205Z"
   },
   {
    "duration": 0,
    "start_time": "2023-01-29T22:36:51.206Z"
   },
   {
    "duration": 0,
    "start_time": "2023-01-29T22:36:51.239Z"
   },
   {
    "duration": 0,
    "start_time": "2023-01-29T22:36:51.240Z"
   },
   {
    "duration": 0,
    "start_time": "2023-01-29T22:36:51.241Z"
   },
   {
    "duration": 0,
    "start_time": "2023-01-29T22:36:51.242Z"
   },
   {
    "duration": 0,
    "start_time": "2023-01-29T22:36:51.242Z"
   },
   {
    "duration": 0,
    "start_time": "2023-01-29T22:36:51.243Z"
   },
   {
    "duration": 0,
    "start_time": "2023-01-29T22:36:51.244Z"
   },
   {
    "duration": 0,
    "start_time": "2023-01-29T22:36:51.245Z"
   },
   {
    "duration": 0,
    "start_time": "2023-01-29T22:36:51.245Z"
   },
   {
    "duration": 0,
    "start_time": "2023-01-29T22:36:51.246Z"
   },
   {
    "duration": 0,
    "start_time": "2023-01-29T22:36:51.247Z"
   },
   {
    "duration": 0,
    "start_time": "2023-01-29T22:36:51.248Z"
   },
   {
    "duration": 0,
    "start_time": "2023-01-29T22:36:51.248Z"
   },
   {
    "duration": 0,
    "start_time": "2023-01-29T22:36:51.249Z"
   },
   {
    "duration": 0,
    "start_time": "2023-01-29T22:36:51.250Z"
   },
   {
    "duration": 0,
    "start_time": "2023-01-29T22:36:51.251Z"
   },
   {
    "duration": 0,
    "start_time": "2023-01-29T22:36:51.251Z"
   },
   {
    "duration": 0,
    "start_time": "2023-01-29T22:36:51.252Z"
   },
   {
    "duration": 0,
    "start_time": "2023-01-29T22:36:51.253Z"
   },
   {
    "duration": 0,
    "start_time": "2023-01-29T22:36:51.253Z"
   },
   {
    "duration": 0,
    "start_time": "2023-01-29T22:36:51.256Z"
   },
   {
    "duration": 0,
    "start_time": "2023-01-29T22:36:51.257Z"
   },
   {
    "duration": 0,
    "start_time": "2023-01-29T22:36:51.258Z"
   },
   {
    "duration": 0,
    "start_time": "2023-01-29T22:36:51.259Z"
   },
   {
    "duration": 0,
    "start_time": "2023-01-29T22:36:51.260Z"
   },
   {
    "duration": 0,
    "start_time": "2023-01-29T22:36:51.261Z"
   },
   {
    "duration": 0,
    "start_time": "2023-01-29T22:36:51.262Z"
   },
   {
    "duration": 0,
    "start_time": "2023-01-29T22:36:51.263Z"
   },
   {
    "duration": 0,
    "start_time": "2023-01-29T22:36:51.264Z"
   },
   {
    "duration": 0,
    "start_time": "2023-01-29T22:36:51.265Z"
   },
   {
    "duration": 0,
    "start_time": "2023-01-29T22:36:51.266Z"
   },
   {
    "duration": 0,
    "start_time": "2023-01-29T22:36:51.267Z"
   },
   {
    "duration": 0,
    "start_time": "2023-01-29T22:36:51.268Z"
   },
   {
    "duration": 0,
    "start_time": "2023-01-29T22:36:51.269Z"
   },
   {
    "duration": 0,
    "start_time": "2023-01-29T22:36:51.269Z"
   },
   {
    "duration": 0,
    "start_time": "2023-01-29T22:36:51.270Z"
   },
   {
    "duration": 0,
    "start_time": "2023-01-29T22:36:51.271Z"
   },
   {
    "duration": 0,
    "start_time": "2023-01-29T22:36:51.272Z"
   },
   {
    "duration": 0,
    "start_time": "2023-01-29T22:36:51.273Z"
   },
   {
    "duration": 0,
    "start_time": "2023-01-29T22:36:51.273Z"
   },
   {
    "duration": 0,
    "start_time": "2023-01-29T22:36:51.274Z"
   },
   {
    "duration": 0,
    "start_time": "2023-01-29T22:36:51.275Z"
   },
   {
    "duration": 0,
    "start_time": "2023-01-29T22:36:51.276Z"
   },
   {
    "duration": 0,
    "start_time": "2023-01-29T22:36:51.277Z"
   },
   {
    "duration": 0,
    "start_time": "2023-01-29T22:36:51.278Z"
   },
   {
    "duration": 0,
    "start_time": "2023-01-29T22:36:51.340Z"
   },
   {
    "duration": 0,
    "start_time": "2023-01-29T22:36:51.341Z"
   },
   {
    "duration": 0,
    "start_time": "2023-01-29T22:36:51.342Z"
   },
   {
    "duration": 1,
    "start_time": "2023-01-29T22:36:51.343Z"
   },
   {
    "duration": 1,
    "start_time": "2023-01-29T22:36:51.344Z"
   },
   {
    "duration": 0,
    "start_time": "2023-01-29T22:36:51.346Z"
   },
   {
    "duration": 0,
    "start_time": "2023-01-29T22:36:51.347Z"
   },
   {
    "duration": 0,
    "start_time": "2023-01-29T22:36:51.348Z"
   },
   {
    "duration": 0,
    "start_time": "2023-01-29T22:36:51.349Z"
   },
   {
    "duration": 0,
    "start_time": "2023-01-29T22:36:51.350Z"
   },
   {
    "duration": 0,
    "start_time": "2023-01-29T22:36:51.351Z"
   },
   {
    "duration": 0,
    "start_time": "2023-01-29T22:36:51.352Z"
   },
   {
    "duration": 0,
    "start_time": "2023-01-29T22:36:51.353Z"
   },
   {
    "duration": 0,
    "start_time": "2023-01-29T22:36:51.354Z"
   },
   {
    "duration": 588,
    "start_time": "2023-01-29T22:38:05.449Z"
   },
   {
    "duration": 104,
    "start_time": "2023-01-29T22:38:06.039Z"
   },
   {
    "duration": 14,
    "start_time": "2023-01-29T22:38:06.144Z"
   },
   {
    "duration": 94,
    "start_time": "2023-01-29T22:38:06.160Z"
   },
   {
    "duration": 1655,
    "start_time": "2023-01-29T22:38:06.255Z"
   },
   {
    "duration": 8,
    "start_time": "2023-01-29T22:38:07.911Z"
   },
   {
    "duration": 46,
    "start_time": "2023-01-29T22:38:07.921Z"
   },
   {
    "duration": 38,
    "start_time": "2023-01-29T22:38:07.968Z"
   },
   {
    "duration": 24,
    "start_time": "2023-01-29T22:38:08.008Z"
   },
   {
    "duration": 28,
    "start_time": "2023-01-29T22:38:08.035Z"
   },
   {
    "duration": 24,
    "start_time": "2023-01-29T22:38:08.065Z"
   },
   {
    "duration": 151,
    "start_time": "2023-01-29T22:38:08.091Z"
   },
   {
    "duration": 8,
    "start_time": "2023-01-29T22:38:08.244Z"
   },
   {
    "duration": 39,
    "start_time": "2023-01-29T22:38:08.253Z"
   },
   {
    "duration": 22,
    "start_time": "2023-01-29T22:38:08.294Z"
   },
   {
    "duration": 47,
    "start_time": "2023-01-29T22:38:08.317Z"
   },
   {
    "duration": 7,
    "start_time": "2023-01-29T22:38:08.365Z"
   },
   {
    "duration": 29,
    "start_time": "2023-01-29T22:38:08.374Z"
   },
   {
    "duration": 123,
    "start_time": "2023-01-29T22:38:08.404Z"
   },
   {
    "duration": 14,
    "start_time": "2023-01-29T22:38:08.529Z"
   },
   {
    "duration": 22,
    "start_time": "2023-01-29T22:38:08.545Z"
   },
   {
    "duration": 28,
    "start_time": "2023-01-29T22:38:08.568Z"
   },
   {
    "duration": 53,
    "start_time": "2023-01-29T22:38:08.598Z"
   },
   {
    "duration": 414,
    "start_time": "2023-01-29T22:38:08.653Z"
   },
   {
    "duration": 172,
    "start_time": "2023-01-29T22:38:09.068Z"
   },
   {
    "duration": 5,
    "start_time": "2023-01-29T22:38:09.242Z"
   },
   {
    "duration": 41,
    "start_time": "2023-01-29T22:38:09.248Z"
   },
   {
    "duration": 83,
    "start_time": "2023-01-29T22:38:09.293Z"
   },
   {
    "duration": 15,
    "start_time": "2023-01-29T22:38:09.378Z"
   },
   {
    "duration": 19,
    "start_time": "2023-01-29T22:38:09.394Z"
   },
   {
    "duration": 43,
    "start_time": "2023-01-29T22:38:09.415Z"
   },
   {
    "duration": 41,
    "start_time": "2023-01-29T22:38:09.459Z"
   },
   {
    "duration": 35,
    "start_time": "2023-01-29T22:38:09.502Z"
   },
   {
    "duration": 31,
    "start_time": "2023-01-29T22:38:09.539Z"
   },
   {
    "duration": 312,
    "start_time": "2023-01-29T22:38:09.571Z"
   },
   {
    "duration": 24,
    "start_time": "2023-01-29T22:38:09.885Z"
   },
   {
    "duration": 14,
    "start_time": "2023-01-29T22:38:09.911Z"
   },
   {
    "duration": 171,
    "start_time": "2023-01-29T22:38:09.937Z"
   },
   {
    "duration": 7,
    "start_time": "2023-01-29T22:38:10.109Z"
   },
   {
    "duration": 20,
    "start_time": "2023-01-29T22:38:10.118Z"
   },
   {
    "duration": 149,
    "start_time": "2023-01-29T22:38:10.139Z"
   },
   {
    "duration": 7,
    "start_time": "2023-01-29T22:38:10.290Z"
   },
   {
    "duration": 20,
    "start_time": "2023-01-29T22:38:10.298Z"
   },
   {
    "duration": 166,
    "start_time": "2023-01-29T22:38:10.320Z"
   },
   {
    "duration": 7,
    "start_time": "2023-01-29T22:38:10.488Z"
   },
   {
    "duration": 20,
    "start_time": "2023-01-29T22:38:10.497Z"
   },
   {
    "duration": 191,
    "start_time": "2023-01-29T22:38:10.518Z"
   },
   {
    "duration": 7,
    "start_time": "2023-01-29T22:38:10.711Z"
   },
   {
    "duration": 21,
    "start_time": "2023-01-29T22:38:10.720Z"
   },
   {
    "duration": 135,
    "start_time": "2023-01-29T22:38:10.742Z"
   },
   {
    "duration": 6,
    "start_time": "2023-01-29T22:38:10.879Z"
   },
   {
    "duration": 25,
    "start_time": "2023-01-29T22:38:10.887Z"
   },
   {
    "duration": 161,
    "start_time": "2023-01-29T22:38:10.913Z"
   },
   {
    "duration": 6,
    "start_time": "2023-01-29T22:38:11.076Z"
   },
   {
    "duration": 28,
    "start_time": "2023-01-29T22:38:11.084Z"
   },
   {
    "duration": 171,
    "start_time": "2023-01-29T22:38:11.114Z"
   },
   {
    "duration": 6,
    "start_time": "2023-01-29T22:38:11.286Z"
   },
   {
    "duration": 223,
    "start_time": "2023-01-29T22:38:11.294Z"
   },
   {
    "duration": 19,
    "start_time": "2023-01-29T22:38:11.518Z"
   },
   {
    "duration": 171,
    "start_time": "2023-01-29T22:38:11.538Z"
   },
   {
    "duration": 8,
    "start_time": "2023-01-29T22:38:11.711Z"
   },
   {
    "duration": 216,
    "start_time": "2023-01-29T22:38:11.721Z"
   },
   {
    "duration": 8,
    "start_time": "2023-01-29T22:38:11.939Z"
   },
   {
    "duration": 228,
    "start_time": "2023-01-29T22:38:11.948Z"
   },
   {
    "duration": 8,
    "start_time": "2023-01-29T22:38:12.177Z"
   },
   {
    "duration": 235,
    "start_time": "2023-01-29T22:38:12.186Z"
   },
   {
    "duration": 152,
    "start_time": "2023-01-29T22:38:12.424Z"
   },
   {
    "duration": 124,
    "start_time": "2023-01-29T22:38:12.578Z"
   },
   {
    "duration": 6,
    "start_time": "2023-01-29T22:38:12.703Z"
   },
   {
    "duration": 61,
    "start_time": "2023-01-29T22:38:12.710Z"
   },
   {
    "duration": 309,
    "start_time": "2023-01-29T22:38:12.773Z"
   },
   {
    "duration": 165,
    "start_time": "2023-01-29T22:38:13.084Z"
   },
   {
    "duration": 175,
    "start_time": "2023-01-29T22:38:13.250Z"
   },
   {
    "duration": 151,
    "start_time": "2023-01-29T22:38:13.426Z"
   },
   {
    "duration": 167,
    "start_time": "2023-01-29T22:38:13.578Z"
   },
   {
    "duration": 130,
    "start_time": "2023-01-29T22:38:13.747Z"
   },
   {
    "duration": 375,
    "start_time": "2023-01-29T22:38:13.879Z"
   },
   {
    "duration": 25,
    "start_time": "2023-01-29T22:38:14.256Z"
   },
   {
    "duration": 7,
    "start_time": "2023-01-29T22:38:14.283Z"
   },
   {
    "duration": 9,
    "start_time": "2023-01-29T22:38:14.292Z"
   },
   {
    "duration": 40,
    "start_time": "2023-01-29T22:38:14.302Z"
   },
   {
    "duration": 136,
    "start_time": "2023-01-29T22:38:14.347Z"
   },
   {
    "duration": 138,
    "start_time": "2023-01-29T22:42:13.210Z"
   },
   {
    "duration": 660,
    "start_time": "2023-01-31T12:52:25.276Z"
   },
   {
    "duration": 196,
    "start_time": "2023-01-31T12:52:25.938Z"
   },
   {
    "duration": 19,
    "start_time": "2023-01-31T12:52:26.136Z"
   },
   {
    "duration": 62,
    "start_time": "2023-01-31T12:52:26.157Z"
   },
   {
    "duration": 106,
    "start_time": "2023-01-31T12:52:26.221Z"
   },
   {
    "duration": 0,
    "start_time": "2023-01-31T12:52:26.333Z"
   },
   {
    "duration": 0,
    "start_time": "2023-01-31T12:52:26.334Z"
   },
   {
    "duration": 0,
    "start_time": "2023-01-31T12:52:26.336Z"
   },
   {
    "duration": 0,
    "start_time": "2023-01-31T12:52:26.337Z"
   },
   {
    "duration": 0,
    "start_time": "2023-01-31T12:52:26.339Z"
   },
   {
    "duration": 0,
    "start_time": "2023-01-31T12:52:26.340Z"
   },
   {
    "duration": 0,
    "start_time": "2023-01-31T12:52:26.342Z"
   },
   {
    "duration": 0,
    "start_time": "2023-01-31T12:52:26.343Z"
   },
   {
    "duration": 0,
    "start_time": "2023-01-31T12:52:26.345Z"
   },
   {
    "duration": 1,
    "start_time": "2023-01-31T12:52:26.346Z"
   },
   {
    "duration": 0,
    "start_time": "2023-01-31T12:52:26.348Z"
   },
   {
    "duration": 0,
    "start_time": "2023-01-31T12:52:26.350Z"
   },
   {
    "duration": 0,
    "start_time": "2023-01-31T12:52:26.352Z"
   },
   {
    "duration": 0,
    "start_time": "2023-01-31T12:52:26.353Z"
   },
   {
    "duration": 0,
    "start_time": "2023-01-31T12:52:26.354Z"
   },
   {
    "duration": 0,
    "start_time": "2023-01-31T12:52:26.356Z"
   },
   {
    "duration": 0,
    "start_time": "2023-01-31T12:52:26.356Z"
   },
   {
    "duration": 0,
    "start_time": "2023-01-31T12:52:26.357Z"
   },
   {
    "duration": 0,
    "start_time": "2023-01-31T12:52:26.357Z"
   },
   {
    "duration": 0,
    "start_time": "2023-01-31T12:52:26.358Z"
   },
   {
    "duration": 0,
    "start_time": "2023-01-31T12:52:26.359Z"
   },
   {
    "duration": 0,
    "start_time": "2023-01-31T12:52:26.359Z"
   },
   {
    "duration": 0,
    "start_time": "2023-01-31T12:52:26.360Z"
   },
   {
    "duration": 0,
    "start_time": "2023-01-31T12:52:26.360Z"
   },
   {
    "duration": 0,
    "start_time": "2023-01-31T12:52:26.361Z"
   },
   {
    "duration": 0,
    "start_time": "2023-01-31T12:52:26.361Z"
   },
   {
    "duration": 0,
    "start_time": "2023-01-31T12:52:26.362Z"
   },
   {
    "duration": 0,
    "start_time": "2023-01-31T12:52:26.362Z"
   },
   {
    "duration": 0,
    "start_time": "2023-01-31T12:52:26.363Z"
   },
   {
    "duration": 0,
    "start_time": "2023-01-31T12:52:26.391Z"
   },
   {
    "duration": 0,
    "start_time": "2023-01-31T12:52:26.394Z"
   },
   {
    "duration": 0,
    "start_time": "2023-01-31T12:52:26.395Z"
   },
   {
    "duration": 0,
    "start_time": "2023-01-31T12:52:26.397Z"
   },
   {
    "duration": 0,
    "start_time": "2023-01-31T12:52:26.398Z"
   },
   {
    "duration": 0,
    "start_time": "2023-01-31T12:52:26.400Z"
   },
   {
    "duration": 0,
    "start_time": "2023-01-31T12:52:26.404Z"
   },
   {
    "duration": 0,
    "start_time": "2023-01-31T12:52:26.405Z"
   },
   {
    "duration": 0,
    "start_time": "2023-01-31T12:52:26.406Z"
   },
   {
    "duration": 0,
    "start_time": "2023-01-31T12:52:26.408Z"
   },
   {
    "duration": 0,
    "start_time": "2023-01-31T12:52:26.409Z"
   },
   {
    "duration": 0,
    "start_time": "2023-01-31T12:52:26.410Z"
   },
   {
    "duration": 0,
    "start_time": "2023-01-31T12:52:26.411Z"
   },
   {
    "duration": 0,
    "start_time": "2023-01-31T12:52:26.412Z"
   },
   {
    "duration": 0,
    "start_time": "2023-01-31T12:52:26.413Z"
   },
   {
    "duration": 0,
    "start_time": "2023-01-31T12:52:26.414Z"
   },
   {
    "duration": 0,
    "start_time": "2023-01-31T12:52:26.415Z"
   },
   {
    "duration": 0,
    "start_time": "2023-01-31T12:52:26.416Z"
   },
   {
    "duration": 0,
    "start_time": "2023-01-31T12:52:26.416Z"
   },
   {
    "duration": 0,
    "start_time": "2023-01-31T12:52:26.417Z"
   },
   {
    "duration": 0,
    "start_time": "2023-01-31T12:52:26.418Z"
   },
   {
    "duration": 0,
    "start_time": "2023-01-31T12:52:26.419Z"
   },
   {
    "duration": 0,
    "start_time": "2023-01-31T12:52:26.421Z"
   },
   {
    "duration": 0,
    "start_time": "2023-01-31T12:52:26.422Z"
   },
   {
    "duration": 0,
    "start_time": "2023-01-31T12:52:26.424Z"
   },
   {
    "duration": 0,
    "start_time": "2023-01-31T12:52:26.426Z"
   },
   {
    "duration": 0,
    "start_time": "2023-01-31T12:52:26.430Z"
   },
   {
    "duration": 0,
    "start_time": "2023-01-31T12:52:26.432Z"
   },
   {
    "duration": 0,
    "start_time": "2023-01-31T12:52:26.433Z"
   },
   {
    "duration": 0,
    "start_time": "2023-01-31T12:52:26.492Z"
   },
   {
    "duration": 0,
    "start_time": "2023-01-31T12:52:26.494Z"
   },
   {
    "duration": 0,
    "start_time": "2023-01-31T12:52:26.495Z"
   },
   {
    "duration": 0,
    "start_time": "2023-01-31T12:52:26.497Z"
   },
   {
    "duration": 0,
    "start_time": "2023-01-31T12:52:26.498Z"
   },
   {
    "duration": 0,
    "start_time": "2023-01-31T12:52:26.499Z"
   },
   {
    "duration": 0,
    "start_time": "2023-01-31T12:52:26.500Z"
   },
   {
    "duration": 0,
    "start_time": "2023-01-31T12:52:26.501Z"
   },
   {
    "duration": 0,
    "start_time": "2023-01-31T12:52:26.502Z"
   },
   {
    "duration": 0,
    "start_time": "2023-01-31T12:52:26.504Z"
   },
   {
    "duration": 0,
    "start_time": "2023-01-31T12:52:26.505Z"
   },
   {
    "duration": 0,
    "start_time": "2023-01-31T12:52:26.507Z"
   },
   {
    "duration": 0,
    "start_time": "2023-01-31T12:52:26.508Z"
   },
   {
    "duration": 0,
    "start_time": "2023-01-31T12:52:26.509Z"
   },
   {
    "duration": 0,
    "start_time": "2023-01-31T12:52:26.511Z"
   },
   {
    "duration": 0,
    "start_time": "2023-01-31T12:52:26.513Z"
   },
   {
    "duration": 0,
    "start_time": "2023-01-31T12:52:26.514Z"
   },
   {
    "duration": 0,
    "start_time": "2023-01-31T12:52:26.515Z"
   },
   {
    "duration": 0,
    "start_time": "2023-01-31T12:52:26.518Z"
   },
   {
    "duration": 0,
    "start_time": "2023-01-31T12:52:26.520Z"
   },
   {
    "duration": 0,
    "start_time": "2023-01-31T12:52:26.521Z"
   },
   {
    "duration": 0,
    "start_time": "2023-01-31T12:52:26.522Z"
   },
   {
    "duration": 0,
    "start_time": "2023-01-31T12:52:26.523Z"
   },
   {
    "duration": 0,
    "start_time": "2023-01-31T12:52:26.525Z"
   },
   {
    "duration": 0,
    "start_time": "2023-01-31T12:52:26.526Z"
   },
   {
    "duration": 0,
    "start_time": "2023-01-31T12:52:26.527Z"
   },
   {
    "duration": 0,
    "start_time": "2023-01-31T12:52:26.528Z"
   },
   {
    "duration": 0,
    "start_time": "2023-01-31T12:52:26.529Z"
   },
   {
    "duration": 622,
    "start_time": "2023-01-31T12:52:40.912Z"
   },
   {
    "duration": 367,
    "start_time": "2023-01-31T12:52:41.536Z"
   },
   {
    "duration": 14,
    "start_time": "2023-01-31T12:52:41.905Z"
   },
   {
    "duration": 90,
    "start_time": "2023-01-31T12:52:41.921Z"
   },
   {
    "duration": 1976,
    "start_time": "2023-01-31T12:52:42.013Z"
   },
   {
    "duration": 10,
    "start_time": "2023-01-31T12:52:43.991Z"
   },
   {
    "duration": 58,
    "start_time": "2023-01-31T12:52:44.003Z"
   },
   {
    "duration": 44,
    "start_time": "2023-01-31T12:52:44.062Z"
   },
   {
    "duration": 28,
    "start_time": "2023-01-31T12:52:44.108Z"
   },
   {
    "duration": 9,
    "start_time": "2023-01-31T12:52:44.138Z"
   },
   {
    "duration": 16,
    "start_time": "2023-01-31T12:52:44.148Z"
   },
   {
    "duration": 34,
    "start_time": "2023-01-31T12:52:44.165Z"
   },
   {
    "duration": 157,
    "start_time": "2023-01-31T12:52:44.200Z"
   },
   {
    "duration": 11,
    "start_time": "2023-01-31T12:52:44.361Z"
   },
   {
    "duration": 23,
    "start_time": "2023-01-31T12:52:44.374Z"
   },
   {
    "duration": 15,
    "start_time": "2023-01-31T12:52:44.399Z"
   },
   {
    "duration": 33,
    "start_time": "2023-01-31T12:52:44.416Z"
   },
   {
    "duration": 7,
    "start_time": "2023-01-31T12:52:44.450Z"
   },
   {
    "duration": 36,
    "start_time": "2023-01-31T12:52:44.458Z"
   },
   {
    "duration": 34,
    "start_time": "2023-01-31T12:52:44.496Z"
   },
   {
    "duration": 123,
    "start_time": "2023-01-31T12:52:44.532Z"
   },
   {
    "duration": 8,
    "start_time": "2023-01-31T12:52:44.657Z"
   },
   {
    "duration": 159,
    "start_time": "2023-01-31T12:52:44.666Z"
   },
   {
    "duration": 5,
    "start_time": "2023-01-31T12:52:44.827Z"
   },
   {
    "duration": 9,
    "start_time": "2023-01-31T12:52:44.834Z"
   },
   {
    "duration": 23,
    "start_time": "2023-01-31T12:52:44.845Z"
   },
   {
    "duration": 608,
    "start_time": "2023-01-31T12:52:44.871Z"
   },
   {
    "duration": 203,
    "start_time": "2023-01-31T12:52:45.480Z"
   },
   {
    "duration": 11,
    "start_time": "2023-01-31T12:52:45.684Z"
   },
   {
    "duration": 137,
    "start_time": "2023-01-31T12:52:45.696Z"
   },
   {
    "duration": 5,
    "start_time": "2023-01-31T12:52:45.835Z"
   },
   {
    "duration": 30,
    "start_time": "2023-01-31T12:52:45.841Z"
   },
   {
    "duration": 21,
    "start_time": "2023-01-31T12:52:45.872Z"
   },
   {
    "duration": 171,
    "start_time": "2023-01-31T12:52:45.895Z"
   },
   {
    "duration": 8,
    "start_time": "2023-01-31T12:52:46.068Z"
   },
   {
    "duration": 34,
    "start_time": "2023-01-31T12:52:46.078Z"
   },
   {
    "duration": 40,
    "start_time": "2023-01-31T12:52:46.115Z"
   },
   {
    "duration": 25,
    "start_time": "2023-01-31T12:52:46.158Z"
   },
   {
    "duration": 43,
    "start_time": "2023-01-31T12:52:46.187Z"
   },
   {
    "duration": 40,
    "start_time": "2023-01-31T12:52:46.232Z"
   },
   {
    "duration": 371,
    "start_time": "2023-01-31T12:52:46.291Z"
   },
   {
    "duration": 33,
    "start_time": "2023-01-31T12:52:46.664Z"
   },
   {
    "duration": 9,
    "start_time": "2023-01-31T12:52:46.698Z"
   },
   {
    "duration": 196,
    "start_time": "2023-01-31T12:52:46.709Z"
   },
   {
    "duration": 8,
    "start_time": "2023-01-31T12:52:46.907Z"
   },
   {
    "duration": 10,
    "start_time": "2023-01-31T12:52:46.917Z"
   },
   {
    "duration": 199,
    "start_time": "2023-01-31T12:52:46.929Z"
   },
   {
    "duration": 6,
    "start_time": "2023-01-31T12:52:47.130Z"
   },
   {
    "duration": 11,
    "start_time": "2023-01-31T12:52:47.139Z"
   },
   {
    "duration": 210,
    "start_time": "2023-01-31T12:52:47.152Z"
   },
   {
    "duration": 7,
    "start_time": "2023-01-31T12:52:47.363Z"
   },
   {
    "duration": 21,
    "start_time": "2023-01-31T12:52:47.372Z"
   },
   {
    "duration": 302,
    "start_time": "2023-01-31T12:52:47.395Z"
   },
   {
    "duration": 7,
    "start_time": "2023-01-31T12:52:47.699Z"
   },
   {
    "duration": 9,
    "start_time": "2023-01-31T12:52:47.708Z"
   },
   {
    "duration": 165,
    "start_time": "2023-01-31T12:52:47.719Z"
   },
   {
    "duration": 10,
    "start_time": "2023-01-31T12:52:47.885Z"
   },
   {
    "duration": 12,
    "start_time": "2023-01-31T12:52:47.896Z"
   },
   {
    "duration": 180,
    "start_time": "2023-01-31T12:52:47.909Z"
   },
   {
    "duration": 7,
    "start_time": "2023-01-31T12:52:48.091Z"
   },
   {
    "duration": 10,
    "start_time": "2023-01-31T12:52:48.099Z"
   },
   {
    "duration": 181,
    "start_time": "2023-01-31T12:52:48.111Z"
   },
   {
    "duration": 7,
    "start_time": "2023-01-31T12:52:48.294Z"
   },
   {
    "duration": 137,
    "start_time": "2023-01-31T12:52:48.303Z"
   },
   {
    "duration": 9,
    "start_time": "2023-01-31T12:52:48.442Z"
   },
   {
    "duration": 207,
    "start_time": "2023-01-31T12:52:48.452Z"
   },
   {
    "duration": 11,
    "start_time": "2023-01-31T12:52:48.661Z"
   },
   {
    "duration": 260,
    "start_time": "2023-01-31T12:52:48.673Z"
   },
   {
    "duration": 12,
    "start_time": "2023-01-31T12:52:48.935Z"
   },
   {
    "duration": 335,
    "start_time": "2023-01-31T12:52:48.949Z"
   },
   {
    "duration": 14,
    "start_time": "2023-01-31T12:52:49.286Z"
   },
   {
    "duration": 331,
    "start_time": "2023-01-31T12:52:49.302Z"
   },
   {
    "duration": 178,
    "start_time": "2023-01-31T12:52:49.635Z"
   },
   {
    "duration": 143,
    "start_time": "2023-01-31T12:52:49.815Z"
   },
   {
    "duration": 6,
    "start_time": "2023-01-31T12:52:49.960Z"
   },
   {
    "duration": 9,
    "start_time": "2023-01-31T12:52:49.968Z"
   },
   {
    "duration": 268,
    "start_time": "2023-01-31T12:52:49.992Z"
   },
   {
    "duration": 193,
    "start_time": "2023-01-31T12:52:50.262Z"
   },
   {
    "duration": 180,
    "start_time": "2023-01-31T12:52:50.457Z"
   },
   {
    "duration": 168,
    "start_time": "2023-01-31T12:52:50.639Z"
   },
   {
    "duration": 165,
    "start_time": "2023-01-31T12:52:50.808Z"
   },
   {
    "duration": 169,
    "start_time": "2023-01-31T12:52:50.975Z"
   },
   {
    "duration": 228,
    "start_time": "2023-01-31T12:52:51.146Z"
   },
   {
    "duration": 474,
    "start_time": "2023-01-31T12:52:51.376Z"
   },
   {
    "duration": 300,
    "start_time": "2023-01-31T12:52:51.851Z"
   },
   {
    "duration": 173,
    "start_time": "2023-01-31T12:52:52.153Z"
   },
   {
    "duration": 28,
    "start_time": "2023-01-31T12:52:52.328Z"
   },
   {
    "duration": 8,
    "start_time": "2023-01-31T12:52:52.358Z"
   },
   {
    "duration": 26,
    "start_time": "2023-01-31T12:52:52.368Z"
   },
   {
    "duration": 13,
    "start_time": "2023-01-31T12:52:52.396Z"
   },
   {
    "duration": 183,
    "start_time": "2023-01-31T12:52:52.411Z"
   }
  ],
  "kernelspec": {
   "display_name": "Python 3 (ipykernel)",
   "language": "python",
   "name": "python3"
  },
  "language_info": {
   "codemirror_mode": {
    "name": "ipython",
    "version": 3
   },
   "file_extension": ".py",
   "mimetype": "text/x-python",
   "name": "python",
   "nbconvert_exporter": "python",
   "pygments_lexer": "ipython3",
   "version": "3.9.12"
  },
  "toc": {
   "base_numbering": 1,
   "nav_menu": {},
   "number_sections": true,
   "sideBar": true,
   "skip_h1_title": true,
   "title_cell": "Table of Contents",
   "title_sidebar": "Contents",
   "toc_cell": false,
   "toc_position": {
    "height": "calc(100% - 180px)",
    "left": "10px",
    "top": "150px",
    "width": "324px"
   },
   "toc_section_display": true,
   "toc_window_display": true
  }
 },
 "nbformat": 4,
 "nbformat_minor": 2
}
